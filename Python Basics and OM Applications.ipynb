{
 "cells": [
  {
   "cell_type": "markdown",
   "metadata": {},
   "source": [
    "# Python Basics with Operations Management Applications\n",
    "Prepared by: Nickolas K. Freeman, Ph.D.\n",
    "\n",
    "This notebook provides an introduction to the programming language Python, primarily oriented towards functions that are useful for applications in operations management. The following description of the Python language was pulled from https://en.wikipedia.org/wiki/Python_(programming_language) on 1/6/2018, and serves as a decent introduction to the language.\n",
    "\n",
    ">Python is an interpreted high-level programming language for general-purpose programming. Created by Guido van Rossum and first released in 1991, Python has a design philosophy that emphasizes code readability, and a syntax that allows programmers to express concepts in fewer lines of code, notably using significant whitespace. It provides constructs that enable clear programming on both small and large scales.\n",
    "\n",
    ">Python is a multi-paradigm programming language. Object-oriented programming and structured programming are fully supported, and many of its features support functional programming and aspect-oriented programming (including by metaprogramming and metaobjects (magic methods)). Many other paradigms are supported via extensions, including design by contract and logic programming.\n",
    "\n",
    ">The language's core philosophy is summarized in the document The Zen of Python (PEP 20), which includes aphorisms such as:\n",
    "\n",
    "> - Beautiful is better than ugly\n",
    "> - Explicit is better than implicit\n",
    "> - Simple is better than complex\n",
    "> - Complex is better than complicated\n",
    "> - Readability counts\n",
    "\n",
    "> Rather than having all of its functionality built into its core, Python was designed to be highly extensible. This compact modularity has made it particularly popular as a means of adding programmable interfaces to existing applications. Van Rossum's vision of a small core language with a large standard library and easily extensible interpreter stemmed from his frustrations with ABC, another programming language that espoused the opposite approach.\n",
    "\n",
    "> While offering choice in coding methodology, the Python philosophy rejects exuberant syntax (such as that of Perl) in favor of a simpler, less-cluttered grammar. As Alex Martelli put it: \"To describe something as 'clever' is not considered a compliment in the Python culture.\" Python's philosophy rejects the Perl \"there is more than one way to do it\" approach to language design in favor of \"there should be one—and preferably only one—obvious way to do it\".\n",
    "\n",
    ">Python's developers strive to avoid premature optimization, and reject patches to non-critical parts of CPython that would offer marginal increases in speed at the cost of clarity. When speed is important, a Python programmer can move time-critical functions to extension modules written in languages such as C, or use PyPy, a just-in-time compiler. Cython is also available, which translates a Python script into C and makes direct C-level API calls into the Python interpreter.\n",
    "\n",
    ">An important goal of Python's developers is keeping it fun to use. This is reflected in the language's name—a tribute to the British comedy group Monty Python—and in occasionally playful approaches to tutorials and reference materials, such as examples that refer to spam and eggs (from a famous Monty Python sketch) instead of the standard foo and bar.\n",
    "\n",
    ">A common neologism in the Python community is *pythonic*, which can have a wide range of meanings related to program style. To say that code is pythonic is to say that it uses Python idioms well, that it is natural or shows fluency in the language, that it conforms with Python's minimalist philosophy and emphasis on readability. In contrast, code that is difficult to understand or reads like a rough transcription from another programming language is called unpythonic.\n",
    "\n",
    ">Users and admirers of Python, especially those considered knowledgeable or experienced, are often referred to as Pythonists, Pythonistas, and Pythoneers\n",
    "\n",
    "The following table of contents lists the topics discussed in this notebook. Clicking on any topic will advance the notebook to the associated area."
   ]
  },
  {
   "cell_type": "markdown",
   "metadata": {},
   "source": [
    "# Table of Contents\n",
    "<a id=\"Table of Contents\"> </a>\n",
    "1. [Python Basics](#Python Basics)<br>\n",
    "    1.1 [Getting Help](#Getting Help)<br>\n",
    "    1.2 [The Importance of Spacing](#Importance of spacing)<br>\n",
    "    1.3 [Lists](#Lists)<br>\n",
    "    1.4 [List Comprehensions](#List_Comprehensions)<br>\n",
    "    1.5 [Dictionaries](#Dictionaries)<br>\n",
    "    1.6 [New String Formatting](#New string formatting style)\n",
    "2. [NumPy Basics](#Numpy Basics)<br>\n",
    "    2.1 [Motivation for NumPy](#NumPy Motivation)<br>\n",
    "    2.2 [Looking for NumPy Methods to Achieve a Task](#Looking for NumPy Methods to Achieve a Task)<br>\n",
    "    2.3 [Operations Involving NumPy Arrays](#Operations Involving NumPy Arrays)<br>\n",
    "    2.4 [Special Operations Involving NumPy Arrays](#Special Operations Involving NumPy Arrays)<br>\n",
    "    2.5 [Accessing Elements of NumPy Arrays](#Accessing Elements of NumPy Arrays)<br>\n",
    "    2.6 [Random Number Generation](#Random Number Generation)<br>\n",
    "3. [Pandas Basics](#Pandas Basics)<br>\n",
    "    3.1 [Importing Data Using Pandas](#Importing Data Using Pandas)<br>\n",
    "    3.2 [Modifying a Pandas Dataframe](#Modifying a Pandas Dataframe)<br>\n",
    "    3.3 [Manipulating Data in a Pandas Dataframe](#Manipulating Data in a Pandas Dataframe)<br>\n",
    "    3.4 [Aggregating and Summarizing a Pandas Dataframe](#Aggregating and Summarizing a Pandas Dataframe)<br> \n",
    "3. [Applications](#Applications)<br>\n",
    "    3.1 [Time Series Forecasting](#Time Series Forecasting)<br>\n",
    "    3.1.1 [Triple Exponential Smoothing (Holt-Winters Method)](#Triple Exponential Smoothing)<br>\n",
    "    3.2 [Economic Order Quantity](#Economic Order Quantity)<br>\n",
    "       "
   ]
  },
  {
   "cell_type": "markdown",
   "metadata": {},
   "source": [
    "#### Disclaimer\n",
    "\n",
    "This notebook by no means represents a *comprehensive* overview of the Python programming language. Instead, it provides basic details on libraries and operations that are useful for addressing problems in operations management. Ultimately, this notebook aims to provide enough details so that a beginning user can familiarize themselves with the capabilities of the Python programming language. \n",
    "\n",
    "Also, it is important to realize that the Python language and the available libraries will continue to evolve. That being said, the opbjects, functions, and methods described in this notebook may one day change. If changes occur, areas of this notebook that use deprecated features may cease to work and will need to be revised or omitted."
   ]
  },
  {
   "cell_type": "markdown",
   "metadata": {},
   "source": [
    "# Python Basics\n",
    "<a id=\"Python Basics\"> </a>"
   ]
  },
  {
   "cell_type": "markdown",
   "metadata": {},
   "source": [
    "### Getting Help\n",
    "<a id=\"Getting Help\"> </a>\n",
    "\n",
    "You can find information regarding Python functions using the built in `help()` function.\n",
    "\n",
    "[Back to Table of Contents](#Table of Contents)<br>"
   ]
  },
  {
   "cell_type": "code",
   "execution_count": 83,
   "metadata": {},
   "outputs": [
    {
     "name": "stdout",
     "output_type": "stream",
     "text": [
      "Help on built-in function print in module builtins:\n",
      "\n",
      "print(...)\n",
      "    print(value, ..., sep=' ', end='\\n', file=sys.stdout, flush=False)\n",
      "    \n",
      "    Prints the values to a stream, or to sys.stdout by default.\n",
      "    Optional keyword arguments:\n",
      "    file:  a file-like object (stream); defaults to the current sys.stdout.\n",
      "    sep:   string inserted between values, default a space.\n",
      "    end:   string appended after the last value, default a newline.\n",
      "    flush: whether to forcibly flush the stream.\n",
      "\n"
     ]
    }
   ],
   "source": [
    "help(print)"
   ]
  },
  {
   "cell_type": "markdown",
   "metadata": {},
   "source": [
    "You can also find information regarding functions and attributes of imported libraries. The following cell block provides an example that shows how to find for the `std()` function that is part of the NumPy library. We will explore the NumPy library in more detail later in this notebook. \n",
    "\n",
    "[Back to Table of Contents](#Table of Contents)<br>"
   ]
  },
  {
   "cell_type": "code",
   "execution_count": 2,
   "metadata": {},
   "outputs": [
    {
     "name": "stdout",
     "output_type": "stream",
     "text": [
      "Help on function std in module numpy.core.fromnumeric:\n",
      "\n",
      "std(a, axis=None, dtype=None, out=None, ddof=0, keepdims=<class 'numpy._globals._NoValue'>)\n",
      "    Compute the standard deviation along the specified axis.\n",
      "    \n",
      "    Returns the standard deviation, a measure of the spread of a distribution,\n",
      "    of the array elements. The standard deviation is computed for the\n",
      "    flattened array by default, otherwise over the specified axis.\n",
      "    \n",
      "    Parameters\n",
      "    ----------\n",
      "    a : array_like\n",
      "        Calculate the standard deviation of these values.\n",
      "    axis : None or int or tuple of ints, optional\n",
      "        Axis or axes along which the standard deviation is computed. The\n",
      "        default is to compute the standard deviation of the flattened array.\n",
      "    \n",
      "        .. versionadded:: 1.7.0\n",
      "    \n",
      "        If this is a tuple of ints, a standard deviation is performed over\n",
      "        multiple axes, instead of a single axis or all the axes as before.\n",
      "    dtype : dtype, optional\n",
      "        Type to use in computing the standard deviation. For arrays of\n",
      "        integer type the default is float64, for arrays of float types it is\n",
      "        the same as the array type.\n",
      "    out : ndarray, optional\n",
      "        Alternative output array in which to place the result. It must have\n",
      "        the same shape as the expected output but the type (of the calculated\n",
      "        values) will be cast if necessary.\n",
      "    ddof : int, optional\n",
      "        Means Delta Degrees of Freedom.  The divisor used in calculations\n",
      "        is ``N - ddof``, where ``N`` represents the number of elements.\n",
      "        By default `ddof` is zero.\n",
      "    keepdims : bool, optional\n",
      "        If this is set to True, the axes which are reduced are left\n",
      "        in the result as dimensions with size one. With this option,\n",
      "        the result will broadcast correctly against the input array.\n",
      "    \n",
      "        If the default value is passed, then `keepdims` will not be\n",
      "        passed through to the `std` method of sub-classes of\n",
      "        `ndarray`, however any non-default value will be.  If the\n",
      "        sub-classes `sum` method does not implement `keepdims` any\n",
      "        exceptions will be raised.\n",
      "    \n",
      "    Returns\n",
      "    -------\n",
      "    standard_deviation : ndarray, see dtype parameter above.\n",
      "        If `out` is None, return a new array containing the standard deviation,\n",
      "        otherwise return a reference to the output array.\n",
      "    \n",
      "    See Also\n",
      "    --------\n",
      "    var, mean, nanmean, nanstd, nanvar\n",
      "    numpy.doc.ufuncs : Section \"Output arguments\"\n",
      "    \n",
      "    Notes\n",
      "    -----\n",
      "    The standard deviation is the square root of the average of the squared\n",
      "    deviations from the mean, i.e., ``std = sqrt(mean(abs(x - x.mean())**2))``.\n",
      "    \n",
      "    The average squared deviation is normally calculated as\n",
      "    ``x.sum() / N``, where ``N = len(x)``.  If, however, `ddof` is specified,\n",
      "    the divisor ``N - ddof`` is used instead. In standard statistical\n",
      "    practice, ``ddof=1`` provides an unbiased estimator of the variance\n",
      "    of the infinite population. ``ddof=0`` provides a maximum likelihood\n",
      "    estimate of the variance for normally distributed variables. The\n",
      "    standard deviation computed in this function is the square root of\n",
      "    the estimated variance, so even with ``ddof=1``, it will not be an\n",
      "    unbiased estimate of the standard deviation per se.\n",
      "    \n",
      "    Note that, for complex numbers, `std` takes the absolute\n",
      "    value before squaring, so that the result is always real and nonnegative.\n",
      "    \n",
      "    For floating-point input, the *std* is computed using the same\n",
      "    precision the input has. Depending on the input data, this can cause\n",
      "    the results to be inaccurate, especially for float32 (see example below).\n",
      "    Specifying a higher-accuracy accumulator using the `dtype` keyword can\n",
      "    alleviate this issue.\n",
      "    \n",
      "    Examples\n",
      "    --------\n",
      "    >>> a = np.array([[1, 2], [3, 4]])\n",
      "    >>> np.std(a)\n",
      "    1.1180339887498949\n",
      "    >>> np.std(a, axis=0)\n",
      "    array([ 1.,  1.])\n",
      "    >>> np.std(a, axis=1)\n",
      "    array([ 0.5,  0.5])\n",
      "    \n",
      "    In single precision, std() can be inaccurate:\n",
      "    \n",
      "    >>> a = np.zeros((2, 512*512), dtype=np.float32)\n",
      "    >>> a[0, :] = 1.0\n",
      "    >>> a[1, :] = 0.1\n",
      "    >>> np.std(a)\n",
      "    0.45000005\n",
      "    \n",
      "    Computing the standard deviation in float64 is more accurate:\n",
      "    \n",
      "    >>> np.std(a, dtype=np.float64)\n",
      "    0.44999999925494177\n",
      "\n"
     ]
    }
   ],
   "source": [
    "import numpy as np\n",
    "help(np.std)"
   ]
  },
  {
   "cell_type": "markdown",
   "metadata": {},
   "source": [
    "Finally, in a Jupyter notebook, hitting the key combination `<SHIFT> + <TAB>` within the arguments area of a Python function will bring up help on the associated function.\n",
    "\n",
    "[Back to Table of Contents](#Table of Contents)<br>"
   ]
  },
  {
   "cell_type": "markdown",
   "metadata": {},
   "source": [
    "### The importance of spacing \n",
    "<a id=\"Importance of spacing\"> </a>\n",
    "\n",
    "If you are familiar with other coding languages, you are likely used to used some form of braces to indicate nesting. For example, defining a loop that prints the numbers in the interval [0, 10] in C++ may be accomplished with:\n",
    "\n",
    "\n",
    "\n",
    "`#include <iostream>\n",
    "using namespace std;`\n",
    "\n",
    "`for(int i = 1; i < 11; i++){\n",
    "    value = i;\n",
    "    cout << value << endl;\n",
    "    }`\n",
    "    \n",
    "The key thing to note is the use of braces to define the statements that are nested in the `for` loop, and the use of semi-colons to indicate the end of a statment. In Python, nesting is indicated by spacing. Most Python editors will attempt to *anticipate* the spacing that is needed. However, if you get errors that state *unexpected indents* exist, you should double check your spacing. The following code performs the same function as the C++-style loop.\n",
    "\n",
    "[Back to Table of Contents](#Table of Contents)<br>"
   ]
  },
  {
   "cell_type": "code",
   "execution_count": 3,
   "metadata": {},
   "outputs": [
    {
     "name": "stdout",
     "output_type": "stream",
     "text": [
      "1\n",
      "2\n",
      "3\n",
      "4\n",
      "5\n",
      "6\n",
      "7\n",
      "8\n",
      "9\n",
      "10\n"
     ]
    }
   ],
   "source": [
    "for i in range(1,11):\n",
    "    value = i\n",
    "    print(value)"
   ]
  },
  {
   "cell_type": "markdown",
   "metadata": {},
   "source": [
    "### Lists\n",
    "<a id=\"Lists\"> </a>\n",
    "\n",
    "Lists are a versatile Python datatype. Lists can be initialized as empty, with sequences, or with comma-separated initialization values. Lists can be appended to our deleted from in loops and do not require that all values be of the same type. The following code blocks provide several examples of list initialization.\n",
    "\n",
    "[Back to Table of Contents](#Table of Contents)<br>"
   ]
  },
  {
   "cell_type": "code",
   "execution_count": 4,
   "metadata": {},
   "outputs": [
    {
     "name": "stdout",
     "output_type": "stream",
     "text": [
      "[1, 2, 3, 4, 5, 6, 7, 8, 9, 10]\n"
     ]
    }
   ],
   "source": [
    "list1 = list(range(1,11))\n",
    "print(list1)"
   ]
  },
  {
   "cell_type": "code",
   "execution_count": 5,
   "metadata": {},
   "outputs": [
    {
     "name": "stdout",
     "output_type": "stream",
     "text": [
      "[0, 1, 2, 3, 4, 5, 6, 7, 8]\n"
     ]
    }
   ],
   "source": [
    "list1 = [0, 1, 2, 3, 4, 5, 6, 7, 8]\n",
    "print(list1)"
   ]
  },
  {
   "cell_type": "code",
   "execution_count": 6,
   "metadata": {},
   "outputs": [
    {
     "name": "stdout",
     "output_type": "stream",
     "text": [
      "[20, 21, 22, 23, 24, 25, 26, 27, 28, 29, 30]\n"
     ]
    }
   ],
   "source": [
    "list1 = [] # Creates an empty list\n",
    "for i in range(20,31):\n",
    "    list1.append(i)\n",
    "\n",
    "print(list1)"
   ]
  },
  {
   "cell_type": "markdown",
   "metadata": {},
   "source": [
    "Lists can be multi-dimensional, but it is generally better to use other storage objects such as dictionaries or Pandas dataframes (both covered later in this notebook). For completeness, the following code block shows one method to create a simple two-dimensional list.\n",
    "\n",
    "[Back to Table of Contents](#Table of Contents)<br>"
   ]
  },
  {
   "cell_type": "code",
   "execution_count": 7,
   "metadata": {},
   "outputs": [
    {
     "name": "stdout",
     "output_type": "stream",
     "text": [
      "[[1, 2], [3, 4], [5, 6], [7, 8]]\n"
     ]
    }
   ],
   "source": [
    "list1 = [[1,2],[3,4],[5,6],[7,8]]\n",
    "print(list1)"
   ]
  },
  {
   "cell_type": "markdown",
   "metadata": {},
   "source": [
    "### List comprehensions\n",
    "<a id=\"List_Comprehensions\"> </a>\n",
    "\n",
    "In mathematics, it is common to see sets described as follows:\n",
    "$$ S = \\{x^{2}:x\\in 1, \\ldots, 10\\}.$$\n",
    "This notation defines a set $S$ that contains the squares of the integers $1 - 10$. In Python, we can use similar syntax to define the set as a list. The following code block demonstrates such syntax, which is referred to as `list comprehension`.\n",
    "\n",
    "**Note that the range function we use takes a tuple argument (*start*, *stop*) and returns all integers in the interval [*start*, *stop*).**\n",
    "\n",
    "[Back to Table of Contents](#Table of Contents)<br>"
   ]
  },
  {
   "cell_type": "code",
   "execution_count": 8,
   "metadata": {},
   "outputs": [
    {
     "name": "stdout",
     "output_type": "stream",
     "text": [
      "[1, 4, 9, 16, 25, 36, 49, 64, 81, 100]\n"
     ]
    }
   ],
   "source": [
    "S = [x**2 for x in range(1,11)]\n",
    "print(S)\n",
    "del(S)"
   ]
  },
  {
   "cell_type": "markdown",
   "metadata": {},
   "source": [
    "### Dictionaries\n",
    "<a id=\"Dictionaries\"> </a>\n",
    "\n",
    "Like lists dictionaries are a versatile Python data object that can easily be changed. With respect to the differences between lists and dictionaries: 1) lists are ordered sets of objects, whereas dictionaries are unordered sets, 2) items in dictionaries are accessed via keys and not via their position, and 3) the values of a dictionary can be any Python data type. So dictionaries are unordered key-value-pairs. \n",
    "\n",
    "The following code block provides an example that is adapted from https://automatetheboringstuff.com/chapter5/ (accessed 1/9/2018) that clearly demonstrates the key differences between lists and dictionaries.\n",
    "\n",
    "[Back to Table of Contents](#Table of Contents)<br>"
   ]
  },
  {
   "cell_type": "code",
   "execution_count": 9,
   "metadata": {},
   "outputs": [
    {
     "name": "stdout",
     "output_type": "stream",
     "text": [
      "The two lists are different.\n",
      "\n",
      "The two dictionaries are the same.\n",
      "\n"
     ]
    }
   ],
   "source": [
    "list1 = ['cats', 'dogs', 'moose']\n",
    "list2 = ['dogs', 'moose', 'cats']\n",
    "if (list1 == list2):\n",
    "    print(\"The two lists are the same.\\n\")\n",
    "else:\n",
    "    print(\"The two lists are different.\\n\")\n",
    "\n",
    "dict1 = {'name': 'Zophie', 'species': 'cat', 'age': '8'}\n",
    "dict2 = {'species': 'cat', 'age': '8', 'name': 'Zophie'}\n",
    "if (dict1 == dict2):\n",
    "    print(\"The two dictionaries are the same.\\n\")\n",
    "else:\n",
    "    print(\"The two dictionaries are different.\\n\")"
   ]
  },
  {
   "cell_type": "markdown",
   "metadata": {},
   "source": [
    "The important thing to note in the previous example is that the two lists are comprised of the same items, just in a different order, and the two dictionaries are also comprised of the same key-value pairs, just in different orders. However, Python interprets the lists as being different and the dictionaries as being equal. This clearly demonstrates the ordering differences between the two structures.\n",
    "\n",
    "The following code block shows how to access elements of a dictionary by key.\n",
    "\n",
    "[Back to Table of Contents](#Table of Contents)<br>"
   ]
  },
  {
   "cell_type": "code",
   "execution_count": 10,
   "metadata": {},
   "outputs": [
    {
     "data": {
      "text/plain": [
       "'Zophie'"
      ]
     },
     "execution_count": 10,
     "metadata": {},
     "output_type": "execute_result"
    }
   ],
   "source": [
    "dict1['name']"
   ]
  },
  {
   "cell_type": "markdown",
   "metadata": {},
   "source": [
    "Dictionaries have three methods that allow for easy iteration over a dictionary, i.e., the `keys`, `values`, and `items` methods. The following code block demonstrates these methods.\n",
    "\n",
    "[Back to Table of Contents](#Table of Contents)<br>"
   ]
  },
  {
   "cell_type": "code",
   "execution_count": 11,
   "metadata": {},
   "outputs": [
    {
     "name": "stdout",
     "output_type": "stream",
     "text": [
      "The keys in dict1 are:\n",
      "name\n",
      "species\n",
      "age\n",
      "\n",
      "The values in dict1 are:\n",
      "Zophie\n",
      "cat\n",
      "8\n",
      "\n",
      "The items (key-value pairs) in dict1 are:\n",
      "('name', 'Zophie')\n",
      "('species', 'cat')\n",
      "('age', '8')\n"
     ]
    }
   ],
   "source": [
    "print(\"The keys in dict1 are:\")\n",
    "for key in dict1.keys():\n",
    "    print(key)\n",
    "    \n",
    "print(\"\\nThe values in dict1 are:\")\n",
    "for value in dict1.values():\n",
    "    print(value)\n",
    "    \n",
    "print(\"\\nThe items (key-value pairs) in dict1 are:\")\n",
    "for item in dict1.items():\n",
    "    print(item)"
   ]
  },
  {
   "cell_type": "markdown",
   "metadata": {},
   "source": [
    "You can also use these methods with the `in` operator to easily search for keys and values in a dictionary as shown below.\n",
    "\n",
    "**Note that the `\\\"` statements are needed to print the quotation marks in the printed string. If they are not printed, Python will interpret the quotes as the end of a string and produce an error.\n",
    "\n",
    "[Back to Table of Contents](#Table of Contents)<br>"
   ]
  },
  {
   "cell_type": "code",
   "execution_count": 12,
   "metadata": {},
   "outputs": [
    {
     "name": "stdout",
     "output_type": "stream",
     "text": [
      "Is the key \"name\" in dict1? True\n",
      "Is the key \"cat\" in dict1? False\n",
      "Is the value \"cat\" in dict1? True\n"
     ]
    }
   ],
   "source": [
    "print('Is the key \\\"name\\\" in dict1?','name' in dict1.keys())\n",
    "print('Is the key \\\"cat\\\" in dict1?','cat' in dict1.keys())\n",
    "print('Is the value \\\"cat\\\" in dict1?','cat' in dict1.values())"
   ]
  },
  {
   "cell_type": "markdown",
   "metadata": {},
   "source": [
    "### 'New' string formatting style\n",
    "<a id=\"New string formatting style\"> </a>\n",
    "\n",
    "Python recently introduced a new method for mixing variables and static string content. The new format allows users to insert placeholders in statements and to insert variable values into these place holders in the order that they are specified in a tuple that follows the statement. The following code block demonstrates this formatting. Specifically, the code block defines two python variables, one a string and the other an integer. The values of these variables are inserted into two strings according to there index in the argument to the `format()` function. The escape sequence `\\n` starts a new line. \n",
    "\n",
    "[Back to Table of Contents](#Table of Contents)<br>"
   ]
  },
  {
   "cell_type": "code",
   "execution_count": 13,
   "metadata": {},
   "outputs": [
    {
     "name": "stdout",
     "output_type": "stream",
     "text": [
      "My first variable is arg1 and my second is 1.\n",
      "\n",
      "My second variable is 1 and my first is arg1.\n"
     ]
    }
   ],
   "source": [
    "first_variable = 'arg1'\n",
    "second_variable = 1\n",
    "\n",
    "mystring = 'My first variable is {0} and my second is {1}.\\n'.format(first_variable,second_variable)\n",
    "print(mystring)\n",
    "\n",
    "mystring = 'My second variable is {1} and my first is {0}.'.format(first_variable,second_variable)\n",
    "print(mystring)\n",
    "\n",
    "del(mystring)"
   ]
  },
  {
   "cell_type": "markdown",
   "metadata": {},
   "source": [
    "# NumPy Basics\n",
    "<a id=\"Numpy Basics\"> </a>\n",
    "\n",
    "From https://en.wikipedia.org/wiki/NumPy (accessed on 1/6/2018):\n",
    "\n",
    ">NumPy is a library for the Python programming language, adding support for large, multi-dimensional arrays and matrices, along with a large collection of high-level mathematical functions to operate on these arrays. The ancestor of NumPy, Numeric, was originally created by Jim Hugunin with contributions from several other developers. In 2005, Travis Oliphant created NumPy by incorporating features of the competing Numarray into Numeric, with extensive modifications. NumPy is open-source software and has many contributors.\n",
    "\n",
    "This section of the notebook will demonstrate several features of the NumPy, multi-dimensional array. \n",
    "\n",
    "[Back to Table of Contents](#Table of Contents)<br>"
   ]
  },
  {
   "cell_type": "markdown",
   "metadata": {},
   "source": [
    "### Motivation for  NumPy\n",
    "<a id=\"NumPy Motivation\"> </a>\n",
    "\n",
    "The first example illustrates the motivation of NumPy. Specifically, NumPy was developed to support scientific computations via the efficient implementation of a multi-dimensional array. In addition to an efficient array implementation, NumPy also includes functions for performing operations on Numpy arrays that are optimized for computational efficeincy. The following code block illustrate the substantial increas in efficiency that NumPy provides in comparison to a standard python list. Specifically, the example considers the task of adding two vectors of a specified size using both standard Python lists and NumPy arrays. The time of the additiona and the size of the reulting objects are reported for comparison purposes.\n",
    "\n",
    "[Back to Table of Contents](#Table of Contents)<br>"
   ]
  },
  {
   "cell_type": "code",
   "execution_count": 14,
   "metadata": {},
   "outputs": [
    {
     "name": "stdout",
     "output_type": "stream",
     "text": [
      "Using Python lists, the addition took 24.003028869628906 milliseconds.\n",
      "The size of the result object based on Python lists is 2115952 bytes.\n",
      "\n",
      "Using NumPy arrays, the addition took 0.0 milliseconds.\n",
      "The size of the result object based on NumPy arrays is 1000096 bytes.\n",
      "\n"
     ]
    }
   ],
   "source": [
    "import numpy as np \n",
    "import time\n",
    "import sys\n",
    "\n",
    "SIZE = 250000\n",
    "\n",
    "list1 = range(SIZE)\n",
    "list2 = range(SIZE)\n",
    "\n",
    "start = time.time()\n",
    "result = [(x+y) for x,y in zip(list1,list2)]\n",
    "print(\"Using Python lists, the addition took\",(time.time() - start)*1000,\"milliseconds.\")\n",
    "print(\"The size of the result object based on Python lists is\",sys.getsizeof(result),\"bytes.\\n\")\n",
    "\n",
    "del(list1,list2,result)\n",
    "\n",
    "nparray1 = np.arange(SIZE)\n",
    "nparray2 = np.arange(SIZE)\n",
    "start = time.time()\n",
    "result = nparray1 + nparray2\n",
    "print(\"Using NumPy arrays, the addition took\",(time.time() - start)*1000,\"milliseconds.\")\n",
    "print(\"The size of the result object based on NumPy arrays is\",sys.getsizeof(result),\"bytes.\\n\")\n",
    "\n",
    "del(nparray1, nparray2, result)"
   ]
  },
  {
   "cell_type": "markdown",
   "metadata": {},
   "source": [
    "Although the exact speed differences will vary based on the machine that is being used, it should be obvious that NumPy performs the addition much faster than standard Python lists, while at the same time consuming less system memory. **In general, whenever it is possible to use NumPy arrays for a task, they should be used!!!**"
   ]
  },
  {
   "cell_type": "markdown",
   "metadata": {},
   "source": [
    "In addition to demonstrating the substantial performance gains offered by NumPy, the previous code block also illsutrates some of the subtle differences of working with Python lists and NumPy arrays, and a method for checking the computation time that is required to execute a portion of code. Specifically:\n",
    "\n",
    "- The `time.time()` function, from the `time` library, returns the current system time. Saving the value of the current time in a variable `start` and then computing the difference `time.time() - start` returns the seconds elapsing between the two calls to `time.time()` in seconds. Multiplying by 1000 converts the elapsed time to milliseconds.\n",
    "\n",
    "\n",
    "- When working with Python lists, the `range()` function returns a sequence of integers starting at zero and ending at the argument passed to `range()`. In our example, we pass a variable `SIZE` to the `range()` function. Thus, the sequence stored in the list is 0, 1, ..., `SIZE`-2, `SIZE`-1.\n",
    "\n",
    "\n",
    "- When working with NumPy arrays, the `np.range()` function returns a sequence of integers starting at zero and ending at the argument passed to `np.arange()`. In our example, we pass a variable `SIZE` to the `np.arange()` function. Thus, the sequence stored in the NumPy array is 0, 1, ..., `SIZE`-2, `SIZE`-1.\n",
    "\n",
    "\n",
    "- The `sys.getsizeof()` function, from the `sys` library, returns the size of an object in bytes.\n",
    "\n",
    "\n",
    "- When working with Python lists, the `zip()` function essentially combines two or more list objects and allows element-wise operations to be performed.\n",
    "\n",
    "\n",
    "- When working with NumPy arrays, there is no need to *zip* arrays. Instead, element-wise operations are performed using standard mathematical operators.\n",
    "\n",
    "[Back to Table of Contents](#Table of Contents)<br>"
   ]
  },
  {
   "cell_type": "markdown",
   "metadata": {},
   "source": [
    "Another approach for timing operations is shown in the following code block, i.e., the special `%timeit` command. Note that specifying `-r 10` tells the `%timeit` function to perform 100 runs of the test."
   ]
  },
  {
   "cell_type": "code",
   "execution_count": 15,
   "metadata": {},
   "outputs": [
    {
     "name": "stdout",
     "output_type": "stream",
     "text": [
      "Time statistics for Python lists:\n",
      "26 ms ± 2.2 ms per loop (mean ± std. dev. of 10 runs, 10 loops each)\n",
      "\n",
      "Time statistics for NumPy arrays:\n",
      "133 µs ± 5.6 µs per loop (mean ± std. dev. of 10 runs, 10000 loops each)\n"
     ]
    }
   ],
   "source": [
    "import numpy as np \n",
    "\n",
    "SIZE = 250000\n",
    "\n",
    "list1 = range(SIZE)\n",
    "list2 = range(SIZE)\n",
    "\n",
    "print(\"Time statistics for Python lists:\")\n",
    "%timeit -r 10 [(x+y) for x,y in zip(list1,list2)]\n",
    "\n",
    "del(list1,list2)\n",
    "\n",
    "nparray1 = np.arange(SIZE)\n",
    "nparray2 = np.arange(SIZE)\n",
    "\n",
    "print(\"\\nTime statistics for NumPy arrays:\")\n",
    "%timeit -r 10 nparray1 + nparray2\n",
    "\n",
    "del(nparray1, nparray2)"
   ]
  },
  {
   "cell_type": "markdown",
   "metadata": {},
   "source": [
    "### Looking for NumPy Methods to Achieve a Task\n",
    "<a id=\"Looking for NumPy Methods to Achieve a Task\"> </a>\n",
    "\n",
    "In addition to the help functionality built in to Python, the NumPy library also allows you to search for functions that are included in the library using keywords. This search capability is achieved using the `lookfor` function as shown in the following cell that searches for functions associated with the search phrase *Standard deviation*.\n",
    "\n",
    "[Back to Table of Contents](#Table of Contents)<br>"
   ]
  },
  {
   "cell_type": "code",
   "execution_count": 16,
   "metadata": {},
   "outputs": [
    {
     "name": "stdout",
     "output_type": "stream",
     "text": [
      "Search results for 'standard deviation'\n",
      "---------------------------------------\n",
      "numpy.std\n",
      "    Compute the standard deviation along the specified axis.\n",
      "numpy.nanstd\n",
      "    Compute the standard deviation along the specified axis, while\n",
      "numpy.ma.std\n",
      "    Returns the standard deviation of the array elements along given axis.\n",
      "numpy.matrix.std\n",
      "    Return the standard deviation of the array elements along the given axis.\n",
      "numpy.chararray.std\n",
      "    Returns the standard deviation of the array elements along given axis.\n",
      "numpy.ma.MaskedArray.std\n",
      "    Returns the standard deviation of the array elements along given axis.\n",
      "numpy.var\n",
      "    Compute the variance along the specified axis.\n",
      "numpy.nanvar\n",
      "    Compute the variance along the specified axis, while ignoring NaNs.\n",
      "numpy.histogram\n",
      "    Compute the histogram of a set of data.\n",
      "numpy.ma.var\n",
      "    Compute the variance along the specified axis.\n",
      "numpy.ma.MaskedArray.var\n",
      "    Compute the variance along the specified axis."
     ]
    }
   ],
   "source": [
    "np.lookfor('Standard deviation')"
   ]
  },
  {
   "cell_type": "markdown",
   "metadata": {},
   "source": [
    "### Operations Involving NumPy Arrays\n",
    "<a id=\"Operations Involving NumPy Arrays\"> </a>\n",
    "\n",
    "The following code blocks demonstrate several functions that perform operations on NumPy arrays and the reshape function. Since it is rather easy to deduce the operations that the functions perform, no additional explanation is provided.\n",
    "\n",
    "[Back to Table of Contents](#Table of Contents)<br>"
   ]
  },
  {
   "cell_type": "code",
   "execution_count": 17,
   "metadata": {},
   "outputs": [
    {
     "data": {
      "text/plain": [
       "array([[ 0,  1,  2,  3],\n",
       "       [ 4,  5,  6,  7],\n",
       "       [ 8,  9, 10, 11]])"
      ]
     },
     "execution_count": 17,
     "metadata": {},
     "output_type": "execute_result"
    }
   ],
   "source": [
    "import numpy as np\n",
    "a = np.arange(12).reshape((3,4)) # Uses the numbers 0,...,11 to create an array with 3 rows and 4 columns\n",
    "a"
   ]
  },
  {
   "cell_type": "code",
   "execution_count": 18,
   "metadata": {},
   "outputs": [
    {
     "data": {
      "text/plain": [
       "array([[  0,   1,   4,   9],\n",
       "       [ 16,  25,  36,  49],\n",
       "       [ 64,  81, 100, 121]])"
      ]
     },
     "execution_count": 18,
     "metadata": {},
     "output_type": "execute_result"
    }
   ],
   "source": [
    "a*a # Multiplies the array a by itself"
   ]
  },
  {
   "cell_type": "code",
   "execution_count": 19,
   "metadata": {},
   "outputs": [
    {
     "data": {
      "text/plain": [
       "array([[ 0.        ,  1.        ,  1.41421356,  1.73205081],\n",
       "       [ 2.        ,  2.23606798,  2.44948974,  2.64575131],\n",
       "       [ 2.82842712,  3.        ,  3.16227766,  3.31662479]])"
      ]
     },
     "execution_count": 19,
     "metadata": {},
     "output_type": "execute_result"
    }
   ],
   "source": [
    "np.sqrt(a) # Takes the square root of all elements in a"
   ]
  },
  {
   "cell_type": "code",
   "execution_count": 20,
   "metadata": {},
   "outputs": [
    {
     "data": {
      "text/plain": [
       "array([[ 0. ,  0.5,  1. ,  1.5],\n",
       "       [ 2. ,  2.5,  3. ,  3.5],\n",
       "       [ 4. ,  4.5,  5. ,  5.5]])"
      ]
     },
     "execution_count": 20,
     "metadata": {},
     "output_type": "execute_result"
    }
   ],
   "source": [
    "a/2 # Divides all elements in a by 2"
   ]
  },
  {
   "cell_type": "code",
   "execution_count": 21,
   "metadata": {},
   "outputs": [
    {
     "data": {
      "text/plain": [
       "5.5"
      ]
     },
     "execution_count": 21,
     "metadata": {},
     "output_type": "execute_result"
    }
   ],
   "source": [
    "a.mean() # Mean of elements in a"
   ]
  },
  {
   "cell_type": "code",
   "execution_count": 22,
   "metadata": {},
   "outputs": [
    {
     "data": {
      "text/plain": [
       "3.4520525295346629"
      ]
     },
     "execution_count": 22,
     "metadata": {},
     "output_type": "execute_result"
    }
   ],
   "source": [
    "a.std() # Standard deviation of elements in a"
   ]
  },
  {
   "cell_type": "code",
   "execution_count": 23,
   "metadata": {},
   "outputs": [
    {
     "data": {
      "text/plain": [
       "66"
      ]
     },
     "execution_count": 23,
     "metadata": {},
     "output_type": "execute_result"
    }
   ],
   "source": [
    "a.sum() # Sums the elements in the array a"
   ]
  },
  {
   "cell_type": "code",
   "execution_count": 24,
   "metadata": {},
   "outputs": [
    {
     "data": {
      "text/plain": [
       "0"
      ]
     },
     "execution_count": 24,
     "metadata": {},
     "output_type": "execute_result"
    }
   ],
   "source": [
    "a.argmin() # Returns the minimum argument in the array a"
   ]
  },
  {
   "cell_type": "code",
   "execution_count": 25,
   "metadata": {},
   "outputs": [
    {
     "data": {
      "text/plain": [
       "11"
      ]
     },
     "execution_count": 25,
     "metadata": {},
     "output_type": "execute_result"
    }
   ],
   "source": [
    "a.argmax() # Returns the maximum argument in the array a"
   ]
  },
  {
   "cell_type": "code",
   "execution_count": 26,
   "metadata": {},
   "outputs": [
    {
     "data": {
      "text/plain": [
       "(3, 4)"
      ]
     },
     "execution_count": 26,
     "metadata": {},
     "output_type": "execute_result"
    }
   ],
   "source": [
    "a.shape # Returns the shape of the NumPy array a"
   ]
  },
  {
   "cell_type": "code",
   "execution_count": 27,
   "metadata": {},
   "outputs": [
    {
     "data": {
      "text/plain": [
       "dtype('int32')"
      ]
     },
     "execution_count": 27,
     "metadata": {},
     "output_type": "execute_result"
    }
   ],
   "source": [
    "a.dtype # Returns the type of the NumPy array a"
   ]
  },
  {
   "cell_type": "markdown",
   "metadata": {},
   "source": [
    "### Special Operations of NumPy Arrays\n",
    "<a id=\"Special Operations Involving NumPy Arrays\"> </a>\n",
    "\n",
    "This subsection looks at special operations that may be performed on NumPy arrays. The first special operation that we illustrate is the ability to filter NumPy arrays based on conditions. The following code block shows how we may use an inequality to create an array of boolean values based on another NumPy array.\n",
    "\n",
    "[Back to Table of Contents](#Table of Contents)<br>"
   ]
  },
  {
   "cell_type": "code",
   "execution_count": 28,
   "metadata": {},
   "outputs": [
    {
     "name": "stdout",
     "output_type": "stream",
     "text": [
      "[[False False False False]\n",
      " [False  True  True  True]\n",
      " [ True  True  True  True]]\n"
     ]
    }
   ],
   "source": [
    "b = a>4\n",
    "print(b)"
   ]
  },
  {
   "cell_type": "markdown",
   "metadata": {},
   "source": [
    "Multiplying the boolean array with the original array allows us to set all values not meeting the specified condition to zero."
   ]
  },
  {
   "cell_type": "code",
   "execution_count": 29,
   "metadata": {},
   "outputs": [
    {
     "data": {
      "text/plain": [
       "array([[ 0,  0,  0,  0],\n",
       "       [ 0,  5,  6,  7],\n",
       "       [ 8,  9, 10, 11]])"
      ]
     },
     "execution_count": 29,
     "metadata": {},
     "output_type": "execute_result"
    }
   ],
   "source": [
    "a*b"
   ]
  },
  {
   "cell_type": "markdown",
   "metadata": {},
   "source": [
    "We may also use the boolean array to specify user-defined values for the entries in the original array that do not meet the condition."
   ]
  },
  {
   "cell_type": "code",
   "execution_count": 30,
   "metadata": {},
   "outputs": [
    {
     "name": "stdout",
     "output_type": "stream",
     "text": [
      "[[999 999 999 999]\n",
      " [999   5   6   7]\n",
      " [  8   9  10  11]]\n"
     ]
    }
   ],
   "source": [
    "a[b==False]=999\n",
    "print(a)"
   ]
  },
  {
   "cell_type": "markdown",
   "metadata": {},
   "source": [
    "The following cell shows two NumPy methods that allow us to flatten a multi-dimensional array to a one-dimensional array."
   ]
  },
  {
   "cell_type": "code",
   "execution_count": 31,
   "metadata": {},
   "outputs": [
    {
     "name": "stdout",
     "output_type": "stream",
     "text": [
      "The original array is\n",
      "\n",
      " [[ 0  1  2  3]\n",
      " [ 4  5  6  7]\n",
      " [ 8  9 10 11]] \n",
      "\n",
      "Using ravel(), we get [ 0  1  2  3  4  5  6  7  8  9 10 11] \n",
      "\n",
      "Using flatten(), we get [ 0  1  2  3  4  5  6  7  8  9 10 11] \n",
      "\n",
      "It is important to note that the array is still defined as the original\n",
      "\n",
      " [[ 0  1  2  3]\n",
      " [ 4  5  6  7]\n",
      " [ 8  9 10 11]] \n",
      "\n"
     ]
    }
   ],
   "source": [
    "a = np.arange(12).reshape((3,4)) # Uses the numbers 0,...,11 to create an array with 3 rows and 4 columns\n",
    "print(\"The original array is\\n\\n\",a,\"\\n\")\n",
    "print(\"Using ravel(), we get\",a.ravel(),\"\\n\")\n",
    "print(\"Using flatten(), we get\",a.flatten(),\"\\n\")\n",
    "print(\"It is important to note that the array is still defined as the original\\n\\n\",a,\"\\n\")"
   ]
  },
  {
   "cell_type": "markdown",
   "metadata": {},
   "source": [
    "### Accessing Elements of NumPy Arrays\n",
    "<a id=\"Accessing Elements of NumPy Arrays\"> </a>\n",
    "\n",
    "This subsection looks at how to access elements of a NumPy arrays. The following code block shows basic methods that can be used to access elements or portions of a NumPy array. It is important to keep in mind that Python and NumPy both consider 0 to be the first index. In other words, the first row of an array is row 0.\n",
    "\n",
    "[Back to Table of Contents](#Table of Contents)<br>"
   ]
  },
  {
   "cell_type": "code",
   "execution_count": 32,
   "metadata": {},
   "outputs": [
    {
     "data": {
      "text/plain": [
       "5"
      ]
     },
     "execution_count": 32,
     "metadata": {},
     "output_type": "execute_result"
    }
   ],
   "source": [
    "a[1,1] # Access the element in the second row, second column of array a."
   ]
  },
  {
   "cell_type": "code",
   "execution_count": 33,
   "metadata": {},
   "outputs": [
    {
     "data": {
      "text/plain": [
       "array([1, 5, 9])"
      ]
     },
     "execution_count": 33,
     "metadata": {},
     "output_type": "execute_result"
    }
   ],
   "source": [
    "a[:,1] # Access the second column of the array a."
   ]
  },
  {
   "cell_type": "code",
   "execution_count": 34,
   "metadata": {},
   "outputs": [
    {
     "data": {
      "text/plain": [
       "array([4, 5, 6, 7])"
      ]
     },
     "execution_count": 34,
     "metadata": {},
     "output_type": "execute_result"
    }
   ],
   "source": [
    "a[1,:] # Access the second row of the array a."
   ]
  },
  {
   "cell_type": "markdown",
   "metadata": {},
   "source": [
    "The following cell illustrates the `nditer` method that allows us to iterate over all values in a NumPy array. When using this method, we can specify the `order` to control whether we iterate by columns or by rows. Specifying `order = 'C'` tells NumPy to use *C-style* order that processes records across rows. Specifying `order = 'F'` tells NumPy to use *Fortran-style* order that processes records down columns."
   ]
  },
  {
   "cell_type": "code",
   "execution_count": 35,
   "metadata": {},
   "outputs": [
    {
     "name": "stdout",
     "output_type": "stream",
     "text": [
      "The original array is\n",
      "\n",
      " [[ 0  1  2  3]\n",
      " [ 4  5  6  7]\n",
      " [ 8  9 10 11]] \n",
      "\n",
      "We will now iterate over the array using C-style order.\n",
      "0\n",
      "1\n",
      "2\n",
      "3\n",
      "4\n",
      "5\n",
      "6\n",
      "7\n",
      "8\n",
      "9\n",
      "10\n",
      "11\n",
      "\n",
      "We will now iterate over the array using Fortran-style order.\n",
      "0\n",
      "4\n",
      "8\n",
      "1\n",
      "5\n",
      "9\n",
      "2\n",
      "6\n",
      "10\n",
      "3\n",
      "7\n",
      "11\n"
     ]
    }
   ],
   "source": [
    "a = np.arange(12).reshape((3,4)) # Uses the numbers 0,...,11 to create an array with 3 rows and 4 columns\n",
    "print(\"The original array is\\n\\n\",a,\"\\n\")\n",
    "\n",
    "print(\"We will now iterate over the array using C-style order.\")\n",
    "for x in np.nditer(a,order = 'C'):\n",
    "    print(x)\n",
    "    \n",
    "print(\"\\nWe will now iterate over the array using Fortran-style order.\")\n",
    "for x in np.nditer(a,order = 'F'):\n",
    "    print(x)"
   ]
  },
  {
   "cell_type": "markdown",
   "metadata": {},
   "source": [
    "## Random Number Generation\n",
    "<a id=\"Random Number Generation\"> </a>\n",
    "\n",
    "Although NumPy has several more interesting capabilities, we will conclude this section by looking at NumPy's random number generation functionalities. The following code block shows how we can generate an array of random numbers drawn from the interval [0, 1) with a user-specified shape.\n",
    "\n",
    "[Back to Table of Contents](#Table of Contents)<br>"
   ]
  },
  {
   "cell_type": "code",
   "execution_count": 36,
   "metadata": {},
   "outputs": [
    {
     "data": {
      "text/plain": [
       "array([[ 0.4442559 ,  0.78168442,  0.6174225 ,  0.91304189],\n",
       "       [ 0.84835422,  0.37579749,  0.53882255,  0.74210146],\n",
       "       [ 0.5552142 ,  0.15441724,  0.41410632,  0.86765271]])"
      ]
     },
     "execution_count": 36,
     "metadata": {},
     "output_type": "execute_result"
    }
   ],
   "source": [
    "np.random.rand(3,4) # Generates an array of random numbers with three rows and four columns"
   ]
  },
  {
   "cell_type": "markdown",
   "metadata": {},
   "source": [
    "The following code block shows how we can generate an array of random integers numbers drawn from a user-specified interval.\n",
    "\n",
    "[Back to Table of Contents](#Table of Contents)<br>"
   ]
  },
  {
   "cell_type": "code",
   "execution_count": 37,
   "metadata": {},
   "outputs": [
    {
     "data": {
      "text/plain": [
       "array([ 10,  19,  47,  77,  34,  25,  98,  43,  93,  41,  21,  73,  90,\n",
       "       100,   2,  93,  71,  57,  61,  68,   7,   3,  66,  14,  25])"
      ]
     },
     "execution_count": 37,
     "metadata": {},
     "output_type": "execute_result"
    }
   ],
   "source": [
    "np.random.randint(1,101,25) # Randomly draws 25 integers from the interval [1,101)."
   ]
  },
  {
   "cell_type": "markdown",
   "metadata": {},
   "source": [
    "The following code block shows how we can randomly select elements from an existing array (in this example *a*). The function arguments specify the array to select from, the number of elements to select, and whether or not the sampling should be with replacement.\n",
    "\n",
    "[Back to Table of Contents](#Table of Contents)<br>"
   ]
  },
  {
   "cell_type": "code",
   "execution_count": 38,
   "metadata": {},
   "outputs": [
    {
     "name": "stdout",
     "output_type": "stream",
     "text": [
      "The original array is [22 18 50  6 92 94 50 24 40 56 72 19 59 86 94  8 91 66 43 36 22 99 52 27 30]\n",
      "The randomly drawn values are [19 66 52 40 36 43 91 72 52 50]\n"
     ]
    }
   ],
   "source": [
    "a = np.random.randint(1,101,25)\n",
    "print(\"The original array is\",a)\n",
    "\n",
    "print(\"The randomly drawn values are\",np.random.choice(a,10,True))"
   ]
  },
  {
   "cell_type": "markdown",
   "metadata": {},
   "source": [
    "Using two arrays, one for values and one for probabilities, we can define a custom probability distribution by passing the probability array as an additional argument to the `choice` function. This is demonstrated below.\n",
    "\n",
    "[Back to Table of Contents](#Table of Contents)<br>"
   ]
  },
  {
   "cell_type": "code",
   "execution_count": 39,
   "metadata": {},
   "outputs": [
    {
     "data": {
      "image/png": "[encoded data removed]",
      "text/plain": [
       "<matplotlib.figure.Figure at 0x20a104ae438>"
      ]
     },
     "metadata": {},
     "output_type": "display_data"
    }
   ],
   "source": [
    "support = np.arange(5)\n",
    "probabilities = [0.3, 0.2, 0.1, 0.2, 0.2]\n",
    "\n",
    "distribution = np.random.choice(support,1000,True,probabilities)\n",
    "\n",
    "import matplotlib.pyplot as plt\n",
    "tnrfont = {'fontname':'Times New Roman'}\n",
    "\n",
    "fig, ax = plt.subplots(figsize=(12,8))\n",
    "ax.hist(distribution)\n",
    "ax.set_title('Histogram of Randomly Generated Values',fontsize=25)\n",
    "ax.set_xlabel('Value',fontsize = 20)\n",
    "ax.set_ylabel('Occurences',fontsize = 20)\n",
    "ax.xaxis.set_tick_params(labelsize=20)\n",
    "ax.yaxis.set_tick_params(labelsize=20)\n",
    "plt.show() "
   ]
  },
  {
   "cell_type": "markdown",
   "metadata": {},
   "source": [
    "In addition to custom distributions, there are several well-known distributions that may be selected. The following code block demonstrates randomly sampling from a Normal distribution.\n",
    "\n",
    "[Back to Table of Contents](#Table of Contents)<br>"
   ]
  },
  {
   "cell_type": "code",
   "execution_count": 40,
   "metadata": {},
   "outputs": [
    {
     "data": {
      "image/png": "[encoded data removed]",
      "text/plain": [
       "<matplotlib.figure.Figure at 0x20a113a4a20>"
      ]
     },
     "metadata": {},
     "output_type": "display_data"
    }
   ],
   "source": [
    "mean = 1000\n",
    "sd = 100\n",
    "distribution = np.random.normal(mean,sd,10000)\n",
    "\n",
    "import matplotlib.pyplot as plt\n",
    "tnrfont = {'fontname':'Times New Roman'}\n",
    "\n",
    "fig, ax = plt.subplots(figsize=(12,8))\n",
    "ax.hist(distribution,bins = 50)\n",
    "ax.set_title('Histogram of Randomly Generated Values',fontsize=25)\n",
    "ax.set_xlabel('Value',fontsize = 20)\n",
    "ax.set_ylabel('Occurences',fontsize = 20)\n",
    "ax.xaxis.set_tick_params(labelsize=20)\n",
    "ax.yaxis.set_tick_params(labelsize=20)\n",
    "plt.show()"
   ]
  },
  {
   "cell_type": "markdown",
   "metadata": {},
   "source": [
    "The following code block demonstrates randomly sampling from a Poisson distribution.\n",
    "\n",
    "[Back to Table of Contents](#Table of Contents)<br>"
   ]
  },
  {
   "cell_type": "code",
   "execution_count": 41,
   "metadata": {},
   "outputs": [
    {
     "data": {
      "image/png": "[encoded data removed]",
      "text/plain": [
       "<matplotlib.figure.Figure at 0x20a104cdbe0>"
      ]
     },
     "metadata": {},
     "output_type": "display_data"
    }
   ],
   "source": [
    "mean = 2\n",
    "distribution = np.random.poisson(mean,10000)\n",
    "\n",
    "import matplotlib.pyplot as plt\n",
    "tnrfont = {'fontname':'Times New Roman'}\n",
    "\n",
    "fig, ax = plt.subplots(figsize=(12,8))\n",
    "ax.hist(distribution,bins = 50)\n",
    "ax.set_title('Histogram of Randomly Generated Values',fontsize=25)\n",
    "ax.set_xlabel('Value',fontsize = 20)\n",
    "ax.set_ylabel('Occurences',fontsize = 20)\n",
    "ax.xaxis.set_tick_params(labelsize=20)\n",
    "ax.yaxis.set_tick_params(labelsize=20)\n",
    "plt.show()"
   ]
  },
  {
   "cell_type": "markdown",
   "metadata": {},
   "source": [
    "When employing heuristic solution procedures, a common task is generating a permutation of a vector that represents a solution. NumPy allows random permutations of an array to be generated very simply using the `permutation` routine. The following code block shows an example.  \n",
    "\n",
    "[Back to Table of Contents](#Table of Contents)<br>"
   ]
  },
  {
   "cell_type": "code",
   "execution_count": 42,
   "metadata": {},
   "outputs": [
    {
     "name": "stdout",
     "output_type": "stream",
     "text": [
      "The original sequence is: [ 0  1  2  3  4  5  6  7  8  9 10]\n",
      "A permutation of the original sequence is: [ 3  5  4 10  7  9  6  2  8  1  0]\n",
      "Another permutation of the original sequence is: [ 4  3  5  6  1  7  0  9  8 10  2]\n",
      "\n",
      "\n",
      "The original sequence is: [ 1  3  5  7  9 11 13]\n",
      "A permutation of the original sequence is: [ 3  5  9  1 13 11  7]\n",
      "Another permutation of the original sequence is: [11  7  3  9  5 13  1]\n"
     ]
    }
   ],
   "source": [
    "mysequence = np.arange(11)\n",
    "print(\"The original sequence is:\", mysequence)\n",
    "print(\"A permutation of the original sequence is:\", np.random.permutation(mysequence))\n",
    "print(\"Another permutation of the original sequence is:\", np.random.permutation(mysequence))\n",
    "\n",
    "print(\"\\n\")\n",
    "mysequence = np.array([1,3,5,7,9,11,13])\n",
    "print(\"The original sequence is:\", mysequence)\n",
    "print(\"A permutation of the original sequence is:\", np.random.permutation(mysequence))\n",
    "print(\"Another permutation of the original sequence is:\", np.random.permutation(mysequence))"
   ]
  },
  {
   "cell_type": "markdown",
   "metadata": {},
   "source": [
    "NumPy also allows us to determine percentiles of data stored in a NumPy array. The following example shows how to determine several percentile values for a randomly sample Normal distribution.\n",
    "\n",
    "[Back to Table of Contents](#Table of Contents)<br>"
   ]
  },
  {
   "cell_type": "code",
   "execution_count": 43,
   "metadata": {},
   "outputs": [
    {
     "name": "stdout",
     "output_type": "stream",
     "text": [
      "The 50th and 75th percentiles of the defined distribution are [ 1000.76884623  1068.46074976] respectively\n",
      "The 99th percentiles of the defined distribution is 1228.43523792\n"
     ]
    }
   ],
   "source": [
    "mean = 1000\n",
    "sd = 100\n",
    "distribution = np.random.normal(mean,sd,10000)\n",
    "\n",
    "print(\"The 50th and 75th percentiles of the defined distribution are\",np.percentile(distribution,[50,75]),\"respectively\")\n",
    "\n",
    "print(\"The 99th percentiles of the defined distribution is\",np.percentile(distribution,99))\n"
   ]
  },
  {
   "cell_type": "markdown",
   "metadata": {},
   "source": [
    "# Pandas Basics\n",
    "<a id=\"Pandas Basics\"> </a>\n",
    "\n",
    "From https://en.wikipedia.org/wiki/Pandas_(software) (accessed 1/7/2018):\n",
    "\n",
    ">Pandas is a software library written for the Python programming language for data manipulation and analysis. In particular, it offers data structures and operations for manipulating numerical tables and time series. It is free software released under the three-clause BSD license. The name is derived from the term \"panel data\", an econometrics term for multidimensional, structured data sets. Major features of the library are:\n",
    "\n",
    "> - DataFrame object for data manipulation with integrated indexing.\n",
    "> - Tools for reading and writing data between in-memory data structures and different file formats.\n",
    "> - Data alignment and integrated handling of missing data.\n",
    "> - Reshaping and pivoting of data sets.\n",
    "> - Label-based slicing, fancy indexing, and subsetting of large data sets.\n",
    "> - Data structure column insertion and deletion.\n",
    "> - Group by engine allowing split-apply-combine operations on data sets.\n",
    "> - Data set merging and joining.\n",
    "> - Hierarchical axis indexing to work with high-dimensional data in a lower-dimensional data structure.\n",
    "> - Time series-functionality: Date range generation and frequency conversion, moving window statistics, moving window linear regressions, date shifting and lagging.\n",
    "> The library is highly optimized for performance, with critical code paths written in Cython or C.\n",
    "\n",
    "[Back to Table of Contents](#Table of Contents)<br>"
   ]
  },
  {
   "cell_type": "markdown",
   "metadata": {},
   "source": [
    "### Importing Data Using Pandas\n",
    "<a id=\"Importing Data Using Pandas\"> </a>\n",
    "\n",
    "The following code block imports the Pandas library, defines a small dataframe, and uses the `head()` function to print the first five rows. Actually, the dataframe is first being defined as a dictionary that is converted to a dataframe by the `pd.dataframe()` function call.\n",
    "\n",
    "[Back to Table of Contents](#Table of Contents)<br>"
   ]
  },
  {
   "cell_type": "code",
   "execution_count": 44,
   "metadata": {},
   "outputs": [
    {
     "name": "stdout",
     "output_type": "stream",
     "text": [
      "   Column 1  Column 2  Column 3\n",
      "0         1        11        21\n",
      "1         2        12        22\n",
      "2         3        13        23\n",
      "3         4        14        24\n",
      "4         5        15        25\n"
     ]
    }
   ],
   "source": [
    "import pandas as pd\n",
    "\n",
    "df = pd.DataFrame({'Column 1': [1, 2, 3, 4, 5, 6, 7, 8, 9], \n",
    "     'Column 2': [11, 12, 13, 14, 15, 16, 17, 18, 19],\n",
    "     'Column 3': [21, 22, 23, 24, 25, 26, 27, 28, 29]})\n",
    "\n",
    "print(df.head())\n",
    "del(df)"
   ]
  },
  {
   "cell_type": "markdown",
   "metadata": {},
   "source": [
    "In practice, it is most common to create data frames by reading in data from other file formats or the internet. One of the applications presented later in this notebook illustrates how to read data from a *csv* (comma separated values) file format into a pandas dataframe. The following code block shows how to read a *csv* file format from the internet. Actually, although the file extension indicates that the file is formatted using a *csv* format, semi-colons are actually the delimter that separates data in the file. Thus, we pass the argument `sep=';'` to the `read.table()` function to let Pandas know that we want the data separated by semi-colons.\n",
    "\n",
    "The dataset was collected by a large Brazillian logistics company over 60 days and was stored on the UC Irvine repository of datasets for machine learning at the time of writing (1/8/2018). To avoid errors arising if the data file is moved, we include the data as `pickle` file in the *data* folder and execute the dataframe import in a `try-except` block. Essentially, Python will attempt to download the data file, and if it exists, the data will be stored as a Pandas dataframe, the data will be used to update the pickle file, and the first five rows of the dataframe will be printed. If the data link is no longer valied, a message will print letting the user know that the data file no longer exists and that the data is being read from the existing pickle file.\n",
    "\n",
    "The pickle format is Python-specific and is optimized for storing and retrieving Python objects. In general, if you ever need to store data in some intermediate form after performing analysis in Python, pickle files are a good way to store the files since they will include the most up to dat content of the object along with information on the data structure.\n",
    "\n",
    "[Back to Table of Contents](#Table of Contents)<br>"
   ]
  },
  {
   "cell_type": "code",
   "execution_count": 45,
   "metadata": {},
   "outputs": [
    {
     "name": "stdout",
     "output_type": "stream",
     "text": [
      "   Week of the month (first week, second, third, fourth or fifth week  \\\n",
      "0                                                  1                    \n",
      "1                                                  1                    \n",
      "2                                                  1                    \n",
      "3                                                  2                    \n",
      "4                                                  2                    \n",
      "\n",
      "   Day of the week (Monday to Friday)  Non-urgent order  Urgent order  \\\n",
      "0                                   4           316.307       223.270   \n",
      "1                                   5           128.633        96.042   \n",
      "2                                   6            43.651        84.375   \n",
      "3                                   2           171.297       127.667   \n",
      "4                                   3            90.532       113.526   \n",
      "\n",
      "   Order type A  Order type B  Order type C  Fiscal sector orders  \\\n",
      "0        61.543       175.586       302.448                 0.000   \n",
      "1        38.058        56.037       130.580                 0.000   \n",
      "2        21.826        25.125        82.461                 1.386   \n",
      "3        41.542       113.294       162.284                18.156   \n",
      "4        37.679        56.618       116.220                 6.459   \n",
      "\n",
      "   Orders from the traffic controller sector  Banking orders (1)  \\\n",
      "0                                      65556               44914   \n",
      "1                                      40419               21399   \n",
      "2                                      11992                3452   \n",
      "3                                      49971               33703   \n",
      "4                                      48534               19646   \n",
      "\n",
      "   Banking orders (2)  Banking orders (3)  Target (Total orders)  \n",
      "0              188411               14793                539.577  \n",
      "1               89461                7679                224.675  \n",
      "2               21305               14947                129.412  \n",
      "3               69054               18423                317.120  \n",
      "4               16411               20257                210.517  \n"
     ]
    }
   ],
   "source": [
    "import pandas as pd\n",
    "try:\n",
    "    df = pd.read_table('http://archive.ics.uci.edu/ml/machine-learning-databases/00409/'\n",
    "                            'Daily_Demand_Forecasting_Orders.csv', sep=';')\n",
    "    df.to_pickle('data/pandas_basics_data.pkl')\n",
    "    print(df.head())\n",
    "except:\n",
    "    print('The data file no longer exists!\\nReading from pickle file.')\n",
    "    df = pd.read_pickle('data/pandas_basics_data.pkl')\n",
    "    print(df.head())"
   ]
  },
  {
   "cell_type": "markdown",
   "metadata": {},
   "source": [
    "In addition to the `head()` function, Pandas also has a tail function that allows you to veiw records at the end of a dataframe. The following code block uses the `tail()` function to view the last 10 records of our dataframe.\n",
    "\n",
    "[Back to Table of Contents](#Table of Contents)<br>"
   ]
  },
  {
   "cell_type": "code",
   "execution_count": 46,
   "metadata": {},
   "outputs": [
    {
     "data": {
      "text/html": [
       "<div>\n",
       "<style>\n",
       "    .dataframe thead tr:only-child th {\n",
       "        text-align: right;\n",
       "    }\n",
       "\n",
       "    .dataframe thead th {\n",
       "        text-align: left;\n",
       "    }\n",
       "\n",
       "    .dataframe tbody tr th {\n",
       "        vertical-align: top;\n",
       "    }\n",
       "</style>\n",
       "<table border=\"1\" class=\"dataframe\">\n",
       "  <thead>\n",
       "    <tr style=\"text-align: right;\">\n",
       "      <th></th>\n",
       "      <th>Week of the month (first week, second, third, fourth or fifth week</th>\n",
       "      <th>Day of the week (Monday to Friday)</th>\n",
       "      <th>Non-urgent order</th>\n",
       "      <th>Urgent order</th>\n",
       "      <th>Order type A</th>\n",
       "      <th>Order type B</th>\n",
       "      <th>Order type C</th>\n",
       "      <th>Fiscal sector orders</th>\n",
       "      <th>Orders from the traffic controller sector</th>\n",
       "      <th>Banking orders (1)</th>\n",
       "      <th>Banking orders (2)</th>\n",
       "      <th>Banking orders (3)</th>\n",
       "      <th>Target (Total orders)</th>\n",
       "    </tr>\n",
       "  </thead>\n",
       "  <tbody>\n",
       "    <tr>\n",
       "      <th>50</th>\n",
       "      <td>4</td>\n",
       "      <td>2</td>\n",
       "      <td>222.282</td>\n",
       "      <td>120.324</td>\n",
       "      <td>41.418</td>\n",
       "      <td>135.189</td>\n",
       "      <td>165.999</td>\n",
       "      <td>0.000</td>\n",
       "      <td>39446</td>\n",
       "      <td>29290</td>\n",
       "      <td>154144</td>\n",
       "      <td>10811</td>\n",
       "      <td>342.606</td>\n",
       "    </tr>\n",
       "    <tr>\n",
       "      <th>51</th>\n",
       "      <td>4</td>\n",
       "      <td>3</td>\n",
       "      <td>150.257</td>\n",
       "      <td>116.959</td>\n",
       "      <td>34.193</td>\n",
       "      <td>115.536</td>\n",
       "      <td>118.911</td>\n",
       "      <td>1.424</td>\n",
       "      <td>51346</td>\n",
       "      <td>19782</td>\n",
       "      <td>89704</td>\n",
       "      <td>12182</td>\n",
       "      <td>268.640</td>\n",
       "    </tr>\n",
       "    <tr>\n",
       "      <th>52</th>\n",
       "      <td>4</td>\n",
       "      <td>4</td>\n",
       "      <td>96.494</td>\n",
       "      <td>87.294</td>\n",
       "      <td>32.653</td>\n",
       "      <td>81.576</td>\n",
       "      <td>74.372</td>\n",
       "      <td>4.813</td>\n",
       "      <td>34631</td>\n",
       "      <td>22420</td>\n",
       "      <td>49644</td>\n",
       "      <td>15390</td>\n",
       "      <td>188.601</td>\n",
       "    </tr>\n",
       "    <tr>\n",
       "      <th>53</th>\n",
       "      <td>4</td>\n",
       "      <td>5</td>\n",
       "      <td>89.526</td>\n",
       "      <td>99.756</td>\n",
       "      <td>51.985</td>\n",
       "      <td>51.930</td>\n",
       "      <td>98.107</td>\n",
       "      <td>12.740</td>\n",
       "      <td>31850</td>\n",
       "      <td>32150</td>\n",
       "      <td>21573</td>\n",
       "      <td>13807</td>\n",
       "      <td>202.022</td>\n",
       "    </tr>\n",
       "    <tr>\n",
       "      <th>54</th>\n",
       "      <td>4</td>\n",
       "      <td>6</td>\n",
       "      <td>134.425</td>\n",
       "      <td>79.084</td>\n",
       "      <td>36.748</td>\n",
       "      <td>71.353</td>\n",
       "      <td>105.408</td>\n",
       "      <td>0.000</td>\n",
       "      <td>33970</td>\n",
       "      <td>28701</td>\n",
       "      <td>65199</td>\n",
       "      <td>11023</td>\n",
       "      <td>213.509</td>\n",
       "    </tr>\n",
       "    <tr>\n",
       "      <th>55</th>\n",
       "      <td>5</td>\n",
       "      <td>2</td>\n",
       "      <td>158.716</td>\n",
       "      <td>158.133</td>\n",
       "      <td>59.131</td>\n",
       "      <td>92.639</td>\n",
       "      <td>165.079</td>\n",
       "      <td>0.000</td>\n",
       "      <td>32027</td>\n",
       "      <td>33282</td>\n",
       "      <td>128269</td>\n",
       "      <td>9287</td>\n",
       "      <td>316.849</td>\n",
       "    </tr>\n",
       "    <tr>\n",
       "      <th>56</th>\n",
       "      <td>5</td>\n",
       "      <td>3</td>\n",
       "      <td>150.784</td>\n",
       "      <td>133.069</td>\n",
       "      <td>54.224</td>\n",
       "      <td>115.746</td>\n",
       "      <td>116.442</td>\n",
       "      <td>2.559</td>\n",
       "      <td>51235</td>\n",
       "      <td>34421</td>\n",
       "      <td>87708</td>\n",
       "      <td>11354</td>\n",
       "      <td>286.412</td>\n",
       "    </tr>\n",
       "    <tr>\n",
       "      <th>57</th>\n",
       "      <td>5</td>\n",
       "      <td>4</td>\n",
       "      <td>193.534</td>\n",
       "      <td>109.639</td>\n",
       "      <td>58.378</td>\n",
       "      <td>142.382</td>\n",
       "      <td>102.687</td>\n",
       "      <td>274.000</td>\n",
       "      <td>28364</td>\n",
       "      <td>88404</td>\n",
       "      <td>91367</td>\n",
       "      <td>15003</td>\n",
       "      <td>303.447</td>\n",
       "    </tr>\n",
       "    <tr>\n",
       "      <th>58</th>\n",
       "      <td>5</td>\n",
       "      <td>5</td>\n",
       "      <td>196.555</td>\n",
       "      <td>108.395</td>\n",
       "      <td>76.763</td>\n",
       "      <td>96.478</td>\n",
       "      <td>131.709</td>\n",
       "      <td>0.000</td>\n",
       "      <td>37011</td>\n",
       "      <td>109931</td>\n",
       "      <td>50112</td>\n",
       "      <td>12957</td>\n",
       "      <td>304.950</td>\n",
       "    </tr>\n",
       "    <tr>\n",
       "      <th>59</th>\n",
       "      <td>5</td>\n",
       "      <td>6</td>\n",
       "      <td>192.116</td>\n",
       "      <td>121.106</td>\n",
       "      <td>107.568</td>\n",
       "      <td>121.152</td>\n",
       "      <td>103.180</td>\n",
       "      <td>18.678</td>\n",
       "      <td>27328</td>\n",
       "      <td>108072</td>\n",
       "      <td>56015</td>\n",
       "      <td>10690</td>\n",
       "      <td>331.900</td>\n",
       "    </tr>\n",
       "  </tbody>\n",
       "</table>\n",
       "</div>"
      ],
      "text/plain": [
       "    Week of the month (first week, second, third, fourth or fifth week  \\\n",
       "50                                                  4                    \n",
       "51                                                  4                    \n",
       "52                                                  4                    \n",
       "53                                                  4                    \n",
       "54                                                  4                    \n",
       "55                                                  5                    \n",
       "56                                                  5                    \n",
       "57                                                  5                    \n",
       "58                                                  5                    \n",
       "59                                                  5                    \n",
       "\n",
       "    Day of the week (Monday to Friday)  Non-urgent order  Urgent order  \\\n",
       "50                                   2           222.282       120.324   \n",
       "51                                   3           150.257       116.959   \n",
       "52                                   4            96.494        87.294   \n",
       "53                                   5            89.526        99.756   \n",
       "54                                   6           134.425        79.084   \n",
       "55                                   2           158.716       158.133   \n",
       "56                                   3           150.784       133.069   \n",
       "57                                   4           193.534       109.639   \n",
       "58                                   5           196.555       108.395   \n",
       "59                                   6           192.116       121.106   \n",
       "\n",
       "    Order type A  Order type B  Order type C  Fiscal sector orders  \\\n",
       "50        41.418       135.189       165.999                 0.000   \n",
       "51        34.193       115.536       118.911                 1.424   \n",
       "52        32.653        81.576        74.372                 4.813   \n",
       "53        51.985        51.930        98.107                12.740   \n",
       "54        36.748        71.353       105.408                 0.000   \n",
       "55        59.131        92.639       165.079                 0.000   \n",
       "56        54.224       115.746       116.442                 2.559   \n",
       "57        58.378       142.382       102.687               274.000   \n",
       "58        76.763        96.478       131.709                 0.000   \n",
       "59       107.568       121.152       103.180                18.678   \n",
       "\n",
       "    Orders from the traffic controller sector  Banking orders (1)  \\\n",
       "50                                      39446               29290   \n",
       "51                                      51346               19782   \n",
       "52                                      34631               22420   \n",
       "53                                      31850               32150   \n",
       "54                                      33970               28701   \n",
       "55                                      32027               33282   \n",
       "56                                      51235               34421   \n",
       "57                                      28364               88404   \n",
       "58                                      37011              109931   \n",
       "59                                      27328              108072   \n",
       "\n",
       "    Banking orders (2)  Banking orders (3)  Target (Total orders)  \n",
       "50              154144               10811                342.606  \n",
       "51               89704               12182                268.640  \n",
       "52               49644               15390                188.601  \n",
       "53               21573               13807                202.022  \n",
       "54               65199               11023                213.509  \n",
       "55              128269                9287                316.849  \n",
       "56               87708               11354                286.412  \n",
       "57               91367               15003                303.447  \n",
       "58               50112               12957                304.950  \n",
       "59               56015               10690                331.900  "
      ]
     },
     "execution_count": 46,
     "metadata": {},
     "output_type": "execute_result"
    }
   ],
   "source": [
    "df.tail(10)"
   ]
  },
  {
   "cell_type": "markdown",
   "metadata": {},
   "source": [
    "### Modifying a Pandas Dataframe\n",
    "<a id=\"Modifying a Pandas Dataframe\"> </a>\n",
    "\n",
    "We can rename the columns of a Pandas dataframe by accessing its `columns` attibute as shown below.\n",
    "\n",
    "[Back to Table of Contents](#Table of Contents)<br>"
   ]
  },
  {
   "cell_type": "code",
   "execution_count": 47,
   "metadata": {},
   "outputs": [
    {
     "data": {
      "text/html": [
       "<div>\n",
       "<style>\n",
       "    .dataframe thead tr:only-child th {\n",
       "        text-align: right;\n",
       "    }\n",
       "\n",
       "    .dataframe thead th {\n",
       "        text-align: left;\n",
       "    }\n",
       "\n",
       "    .dataframe tbody tr th {\n",
       "        vertical-align: top;\n",
       "    }\n",
       "</style>\n",
       "<table border=\"1\" class=\"dataframe\">\n",
       "  <thead>\n",
       "    <tr style=\"text-align: right;\">\n",
       "      <th></th>\n",
       "      <th>Week of Month</th>\n",
       "      <th>Day of Week</th>\n",
       "      <th>Non-urgent Order</th>\n",
       "      <th>Urgent Order</th>\n",
       "      <th>Order Type A</th>\n",
       "      <th>Order Type B</th>\n",
       "      <th>Order Type C</th>\n",
       "      <th>Fiscal Sector Orders</th>\n",
       "      <th>Traffic Controller Orders</th>\n",
       "      <th>Banking Orders (1)</th>\n",
       "      <th>Banking Orders (2)</th>\n",
       "      <th>Banking Orders (3)</th>\n",
       "      <th>Total Orders</th>\n",
       "    </tr>\n",
       "  </thead>\n",
       "  <tbody>\n",
       "    <tr>\n",
       "      <th>0</th>\n",
       "      <td>1</td>\n",
       "      <td>4</td>\n",
       "      <td>316.307</td>\n",
       "      <td>223.270</td>\n",
       "      <td>61.543</td>\n",
       "      <td>175.586</td>\n",
       "      <td>302.448</td>\n",
       "      <td>0.000</td>\n",
       "      <td>65556</td>\n",
       "      <td>44914</td>\n",
       "      <td>188411</td>\n",
       "      <td>14793</td>\n",
       "      <td>539.577</td>\n",
       "    </tr>\n",
       "    <tr>\n",
       "      <th>1</th>\n",
       "      <td>1</td>\n",
       "      <td>5</td>\n",
       "      <td>128.633</td>\n",
       "      <td>96.042</td>\n",
       "      <td>38.058</td>\n",
       "      <td>56.037</td>\n",
       "      <td>130.580</td>\n",
       "      <td>0.000</td>\n",
       "      <td>40419</td>\n",
       "      <td>21399</td>\n",
       "      <td>89461</td>\n",
       "      <td>7679</td>\n",
       "      <td>224.675</td>\n",
       "    </tr>\n",
       "    <tr>\n",
       "      <th>2</th>\n",
       "      <td>1</td>\n",
       "      <td>6</td>\n",
       "      <td>43.651</td>\n",
       "      <td>84.375</td>\n",
       "      <td>21.826</td>\n",
       "      <td>25.125</td>\n",
       "      <td>82.461</td>\n",
       "      <td>1.386</td>\n",
       "      <td>11992</td>\n",
       "      <td>3452</td>\n",
       "      <td>21305</td>\n",
       "      <td>14947</td>\n",
       "      <td>129.412</td>\n",
       "    </tr>\n",
       "    <tr>\n",
       "      <th>3</th>\n",
       "      <td>2</td>\n",
       "      <td>2</td>\n",
       "      <td>171.297</td>\n",
       "      <td>127.667</td>\n",
       "      <td>41.542</td>\n",
       "      <td>113.294</td>\n",
       "      <td>162.284</td>\n",
       "      <td>18.156</td>\n",
       "      <td>49971</td>\n",
       "      <td>33703</td>\n",
       "      <td>69054</td>\n",
       "      <td>18423</td>\n",
       "      <td>317.120</td>\n",
       "    </tr>\n",
       "    <tr>\n",
       "      <th>4</th>\n",
       "      <td>2</td>\n",
       "      <td>3</td>\n",
       "      <td>90.532</td>\n",
       "      <td>113.526</td>\n",
       "      <td>37.679</td>\n",
       "      <td>56.618</td>\n",
       "      <td>116.220</td>\n",
       "      <td>6.459</td>\n",
       "      <td>48534</td>\n",
       "      <td>19646</td>\n",
       "      <td>16411</td>\n",
       "      <td>20257</td>\n",
       "      <td>210.517</td>\n",
       "    </tr>\n",
       "  </tbody>\n",
       "</table>\n",
       "</div>"
      ],
      "text/plain": [
       "   Week of Month  Day of Week  Non-urgent Order  Urgent Order  Order Type A  \\\n",
       "0              1            4           316.307       223.270        61.543   \n",
       "1              1            5           128.633        96.042        38.058   \n",
       "2              1            6            43.651        84.375        21.826   \n",
       "3              2            2           171.297       127.667        41.542   \n",
       "4              2            3            90.532       113.526        37.679   \n",
       "\n",
       "   Order Type B  Order Type C  Fiscal Sector Orders  \\\n",
       "0       175.586       302.448                 0.000   \n",
       "1        56.037       130.580                 0.000   \n",
       "2        25.125        82.461                 1.386   \n",
       "3       113.294       162.284                18.156   \n",
       "4        56.618       116.220                 6.459   \n",
       "\n",
       "   Traffic Controller Orders  Banking Orders (1)  Banking Orders (2)  \\\n",
       "0                      65556               44914              188411   \n",
       "1                      40419               21399               89461   \n",
       "2                      11992                3452               21305   \n",
       "3                      49971               33703               69054   \n",
       "4                      48534               19646               16411   \n",
       "\n",
       "   Banking Orders (3)  Total Orders  \n",
       "0               14793       539.577  \n",
       "1                7679       224.675  \n",
       "2               14947       129.412  \n",
       "3               18423       317.120  \n",
       "4               20257       210.517  "
      ]
     },
     "execution_count": 47,
     "metadata": {},
     "output_type": "execute_result"
    }
   ],
   "source": [
    "df.columns = ['Week of Month', 'Day of Week', 'Non-urgent Order', 'Urgent Order',\n",
    "              'Order Type A','Order Type B','Order Type C', 'Fiscal Sector Orders', \n",
    "              'Traffic Controller Orders', 'Banking Orders (1)', 'Banking Orders (2)','Banking Orders (3)', 'Total Orders']\n",
    "df.head()"
   ]
  },
  {
   "cell_type": "markdown",
   "metadata": {},
   "source": [
    "We can drop columns from a Pandas dataframe using the `drop` function as shown in the following code block. The `axis=1` argument specifies that we are dropping columns, whereas an `axis=0` argument would be used in cases where we want to drop rows.\n",
    "\n",
    "[Back to Table of Contents](#Table of Contents)<br>"
   ]
  },
  {
   "cell_type": "code",
   "execution_count": 48,
   "metadata": {
    "scrolled": false
   },
   "outputs": [
    {
     "data": {
      "text/html": [
       "<div>\n",
       "<style>\n",
       "    .dataframe thead tr:only-child th {\n",
       "        text-align: right;\n",
       "    }\n",
       "\n",
       "    .dataframe thead th {\n",
       "        text-align: left;\n",
       "    }\n",
       "\n",
       "    .dataframe tbody tr th {\n",
       "        vertical-align: top;\n",
       "    }\n",
       "</style>\n",
       "<table border=\"1\" class=\"dataframe\">\n",
       "  <thead>\n",
       "    <tr style=\"text-align: right;\">\n",
       "      <th></th>\n",
       "      <th>Week of Month</th>\n",
       "      <th>Day of Week</th>\n",
       "      <th>Non-urgent Order</th>\n",
       "      <th>Urgent Order</th>\n",
       "      <th>Order Type A</th>\n",
       "      <th>Order Type B</th>\n",
       "      <th>Order Type C</th>\n",
       "      <th>Total Orders</th>\n",
       "    </tr>\n",
       "  </thead>\n",
       "  <tbody>\n",
       "    <tr>\n",
       "      <th>0</th>\n",
       "      <td>1</td>\n",
       "      <td>4</td>\n",
       "      <td>316.307</td>\n",
       "      <td>223.270</td>\n",
       "      <td>61.543</td>\n",
       "      <td>175.586</td>\n",
       "      <td>302.448</td>\n",
       "      <td>539.577</td>\n",
       "    </tr>\n",
       "    <tr>\n",
       "      <th>1</th>\n",
       "      <td>1</td>\n",
       "      <td>5</td>\n",
       "      <td>128.633</td>\n",
       "      <td>96.042</td>\n",
       "      <td>38.058</td>\n",
       "      <td>56.037</td>\n",
       "      <td>130.580</td>\n",
       "      <td>224.675</td>\n",
       "    </tr>\n",
       "    <tr>\n",
       "      <th>2</th>\n",
       "      <td>1</td>\n",
       "      <td>6</td>\n",
       "      <td>43.651</td>\n",
       "      <td>84.375</td>\n",
       "      <td>21.826</td>\n",
       "      <td>25.125</td>\n",
       "      <td>82.461</td>\n",
       "      <td>129.412</td>\n",
       "    </tr>\n",
       "    <tr>\n",
       "      <th>3</th>\n",
       "      <td>2</td>\n",
       "      <td>2</td>\n",
       "      <td>171.297</td>\n",
       "      <td>127.667</td>\n",
       "      <td>41.542</td>\n",
       "      <td>113.294</td>\n",
       "      <td>162.284</td>\n",
       "      <td>317.120</td>\n",
       "    </tr>\n",
       "    <tr>\n",
       "      <th>4</th>\n",
       "      <td>2</td>\n",
       "      <td>3</td>\n",
       "      <td>90.532</td>\n",
       "      <td>113.526</td>\n",
       "      <td>37.679</td>\n",
       "      <td>56.618</td>\n",
       "      <td>116.220</td>\n",
       "      <td>210.517</td>\n",
       "    </tr>\n",
       "    <tr>\n",
       "      <th>5</th>\n",
       "      <td>2</td>\n",
       "      <td>4</td>\n",
       "      <td>110.925</td>\n",
       "      <td>96.360</td>\n",
       "      <td>30.792</td>\n",
       "      <td>50.704</td>\n",
       "      <td>125.868</td>\n",
       "      <td>207.364</td>\n",
       "    </tr>\n",
       "    <tr>\n",
       "      <th>6</th>\n",
       "      <td>2</td>\n",
       "      <td>5</td>\n",
       "      <td>144.124</td>\n",
       "      <td>118.919</td>\n",
       "      <td>43.304</td>\n",
       "      <td>66.371</td>\n",
       "      <td>153.368</td>\n",
       "      <td>263.043</td>\n",
       "    </tr>\n",
       "    <tr>\n",
       "      <th>7</th>\n",
       "      <td>2</td>\n",
       "      <td>6</td>\n",
       "      <td>119.379</td>\n",
       "      <td>113.870</td>\n",
       "      <td>38.584</td>\n",
       "      <td>85.961</td>\n",
       "      <td>124.413</td>\n",
       "      <td>248.958</td>\n",
       "    </tr>\n",
       "    <tr>\n",
       "      <th>8</th>\n",
       "      <td>3</td>\n",
       "      <td>2</td>\n",
       "      <td>218.856</td>\n",
       "      <td>124.381</td>\n",
       "      <td>33.973</td>\n",
       "      <td>148.274</td>\n",
       "      <td>162.044</td>\n",
       "      <td>344.291</td>\n",
       "    </tr>\n",
       "    <tr>\n",
       "      <th>9</th>\n",
       "      <td>3</td>\n",
       "      <td>3</td>\n",
       "      <td>146.518</td>\n",
       "      <td>101.045</td>\n",
       "      <td>36.399</td>\n",
       "      <td>43.306</td>\n",
       "      <td>168.723</td>\n",
       "      <td>248.428</td>\n",
       "    </tr>\n",
       "    <tr>\n",
       "      <th>10</th>\n",
       "      <td>3</td>\n",
       "      <td>4</td>\n",
       "      <td>178.433</td>\n",
       "      <td>102.793</td>\n",
       "      <td>45.706</td>\n",
       "      <td>111.036</td>\n",
       "      <td>124.678</td>\n",
       "      <td>281.420</td>\n",
       "    </tr>\n",
       "    <tr>\n",
       "      <th>11</th>\n",
       "      <td>3</td>\n",
       "      <td>5</td>\n",
       "      <td>145.865</td>\n",
       "      <td>91.180</td>\n",
       "      <td>43.851</td>\n",
       "      <td>66.277</td>\n",
       "      <td>133.440</td>\n",
       "      <td>243.568</td>\n",
       "    </tr>\n",
       "    <tr>\n",
       "      <th>12</th>\n",
       "      <td>3</td>\n",
       "      <td>6</td>\n",
       "      <td>170.566</td>\n",
       "      <td>114.412</td>\n",
       "      <td>43.339</td>\n",
       "      <td>136.434</td>\n",
       "      <td>128.405</td>\n",
       "      <td>308.178</td>\n",
       "    </tr>\n",
       "    <tr>\n",
       "      <th>13</th>\n",
       "      <td>4</td>\n",
       "      <td>2</td>\n",
       "      <td>220.343</td>\n",
       "      <td>141.406</td>\n",
       "      <td>46.241</td>\n",
       "      <td>120.865</td>\n",
       "      <td>196.296</td>\n",
       "      <td>363.402</td>\n",
       "    </tr>\n",
       "    <tr>\n",
       "      <th>14</th>\n",
       "      <td>4</td>\n",
       "      <td>3</td>\n",
       "      <td>193.768</td>\n",
       "      <td>141.854</td>\n",
       "      <td>56.519</td>\n",
       "      <td>136.709</td>\n",
       "      <td>143.644</td>\n",
       "      <td>336.872</td>\n",
       "    </tr>\n",
       "    <tr>\n",
       "      <th>15</th>\n",
       "      <td>4</td>\n",
       "      <td>4</td>\n",
       "      <td>122.736</td>\n",
       "      <td>124.256</td>\n",
       "      <td>56.167</td>\n",
       "      <td>78.101</td>\n",
       "      <td>112.724</td>\n",
       "      <td>246.992</td>\n",
       "    </tr>\n",
       "    <tr>\n",
       "      <th>16</th>\n",
       "      <td>4</td>\n",
       "      <td>5</td>\n",
       "      <td>144.051</td>\n",
       "      <td>158.408</td>\n",
       "      <td>51.660</td>\n",
       "      <td>92.272</td>\n",
       "      <td>164.948</td>\n",
       "      <td>308.880</td>\n",
       "    </tr>\n",
       "    <tr>\n",
       "      <th>17</th>\n",
       "      <td>4</td>\n",
       "      <td>6</td>\n",
       "      <td>105.415</td>\n",
       "      <td>108.688</td>\n",
       "      <td>47.717</td>\n",
       "      <td>71.474</td>\n",
       "      <td>113.935</td>\n",
       "      <td>233.126</td>\n",
       "    </tr>\n",
       "    <tr>\n",
       "      <th>18</th>\n",
       "      <td>5</td>\n",
       "      <td>2</td>\n",
       "      <td>240.660</td>\n",
       "      <td>163.720</td>\n",
       "      <td>59.135</td>\n",
       "      <td>157.681</td>\n",
       "      <td>187.564</td>\n",
       "      <td>404.380</td>\n",
       "    </tr>\n",
       "    <tr>\n",
       "      <th>19</th>\n",
       "      <td>1</td>\n",
       "      <td>3</td>\n",
       "      <td>131.067</td>\n",
       "      <td>166.649</td>\n",
       "      <td>90.476</td>\n",
       "      <td>80.509</td>\n",
       "      <td>127.575</td>\n",
       "      <td>298.560</td>\n",
       "    </tr>\n",
       "    <tr>\n",
       "      <th>20</th>\n",
       "      <td>1</td>\n",
       "      <td>4</td>\n",
       "      <td>130.129</td>\n",
       "      <td>98.927</td>\n",
       "      <td>42.904</td>\n",
       "      <td>43.962</td>\n",
       "      <td>142.383</td>\n",
       "      <td>229.249</td>\n",
       "    </tr>\n",
       "    <tr>\n",
       "      <th>21</th>\n",
       "      <td>1</td>\n",
       "      <td>5</td>\n",
       "      <td>123.286</td>\n",
       "      <td>103.551</td>\n",
       "      <td>47.331</td>\n",
       "      <td>72.444</td>\n",
       "      <td>116.529</td>\n",
       "      <td>236.304</td>\n",
       "    </tr>\n",
       "    <tr>\n",
       "      <th>22</th>\n",
       "      <td>1</td>\n",
       "      <td>6</td>\n",
       "      <td>190.816</td>\n",
       "      <td>87.629</td>\n",
       "      <td>32.077</td>\n",
       "      <td>127.358</td>\n",
       "      <td>137.739</td>\n",
       "      <td>297.174</td>\n",
       "    </tr>\n",
       "    <tr>\n",
       "      <th>23</th>\n",
       "      <td>2</td>\n",
       "      <td>2</td>\n",
       "      <td>266.741</td>\n",
       "      <td>141.437</td>\n",
       "      <td>58.721</td>\n",
       "      <td>139.034</td>\n",
       "      <td>211.646</td>\n",
       "      <td>409.401</td>\n",
       "    </tr>\n",
       "    <tr>\n",
       "      <th>24</th>\n",
       "      <td>2</td>\n",
       "      <td>3</td>\n",
       "      <td>123.143</td>\n",
       "      <td>106.083</td>\n",
       "      <td>36.017</td>\n",
       "      <td>75.813</td>\n",
       "      <td>119.205</td>\n",
       "      <td>231.035</td>\n",
       "    </tr>\n",
       "    <tr>\n",
       "      <th>25</th>\n",
       "      <td>2</td>\n",
       "      <td>4</td>\n",
       "      <td>148.139</td>\n",
       "      <td>85.310</td>\n",
       "      <td>35.576</td>\n",
       "      <td>79.997</td>\n",
       "      <td>123.253</td>\n",
       "      <td>238.826</td>\n",
       "    </tr>\n",
       "    <tr>\n",
       "      <th>26</th>\n",
       "      <td>2</td>\n",
       "      <td>5</td>\n",
       "      <td>118.552</td>\n",
       "      <td>100.417</td>\n",
       "      <td>54.401</td>\n",
       "      <td>75.613</td>\n",
       "      <td>105.584</td>\n",
       "      <td>235.598</td>\n",
       "    </tr>\n",
       "    <tr>\n",
       "      <th>27</th>\n",
       "      <td>2</td>\n",
       "      <td>6</td>\n",
       "      <td>146.959</td>\n",
       "      <td>95.153</td>\n",
       "      <td>37.656</td>\n",
       "      <td>59.907</td>\n",
       "      <td>144.549</td>\n",
       "      <td>242.112</td>\n",
       "    </tr>\n",
       "    <tr>\n",
       "      <th>28</th>\n",
       "      <td>3</td>\n",
       "      <td>2</td>\n",
       "      <td>299.770</td>\n",
       "      <td>133.375</td>\n",
       "      <td>57.810</td>\n",
       "      <td>236.248</td>\n",
       "      <td>196.732</td>\n",
       "      <td>490.790</td>\n",
       "    </tr>\n",
       "    <tr>\n",
       "      <th>29</th>\n",
       "      <td>3</td>\n",
       "      <td>3</td>\n",
       "      <td>151.341</td>\n",
       "      <td>131.788</td>\n",
       "      <td>43.359</td>\n",
       "      <td>89.382</td>\n",
       "      <td>156.916</td>\n",
       "      <td>289.657</td>\n",
       "    </tr>\n",
       "    <tr>\n",
       "      <th>30</th>\n",
       "      <td>3</td>\n",
       "      <td>4</td>\n",
       "      <td>206.206</td>\n",
       "      <td>92.160</td>\n",
       "      <td>45.555</td>\n",
       "      <td>148.718</td>\n",
       "      <td>104.186</td>\n",
       "      <td>298.459</td>\n",
       "    </tr>\n",
       "    <tr>\n",
       "      <th>31</th>\n",
       "      <td>3</td>\n",
       "      <td>5</td>\n",
       "      <td>170.868</td>\n",
       "      <td>131.463</td>\n",
       "      <td>45.550</td>\n",
       "      <td>120.548</td>\n",
       "      <td>157.505</td>\n",
       "      <td>323.603</td>\n",
       "    </tr>\n",
       "    <tr>\n",
       "      <th>32</th>\n",
       "      <td>4</td>\n",
       "      <td>3</td>\n",
       "      <td>435.304</td>\n",
       "      <td>181.149</td>\n",
       "      <td>67.884</td>\n",
       "      <td>267.342</td>\n",
       "      <td>281.227</td>\n",
       "      <td>616.453</td>\n",
       "    </tr>\n",
       "    <tr>\n",
       "      <th>33</th>\n",
       "      <td>4</td>\n",
       "      <td>4</td>\n",
       "      <td>235.106</td>\n",
       "      <td>110.874</td>\n",
       "      <td>70.376</td>\n",
       "      <td>154.242</td>\n",
       "      <td>121.417</td>\n",
       "      <td>346.035</td>\n",
       "    </tr>\n",
       "    <tr>\n",
       "      <th>34</th>\n",
       "      <td>4</td>\n",
       "      <td>5</td>\n",
       "      <td>168.179</td>\n",
       "      <td>125.119</td>\n",
       "      <td>71.068</td>\n",
       "      <td>100.544</td>\n",
       "      <td>136.033</td>\n",
       "      <td>307.645</td>\n",
       "    </tr>\n",
       "    <tr>\n",
       "      <th>35</th>\n",
       "      <td>4</td>\n",
       "      <td>6</td>\n",
       "      <td>172.783</td>\n",
       "      <td>77.371</td>\n",
       "      <td>64.137</td>\n",
       "      <td>109.062</td>\n",
       "      <td>80.648</td>\n",
       "      <td>253.847</td>\n",
       "    </tr>\n",
       "    <tr>\n",
       "      <th>36</th>\n",
       "      <td>5</td>\n",
       "      <td>2</td>\n",
       "      <td>381.768</td>\n",
       "      <td>140.041</td>\n",
       "      <td>118.178</td>\n",
       "      <td>260.632</td>\n",
       "      <td>152.134</td>\n",
       "      <td>530.944</td>\n",
       "    </tr>\n",
       "    <tr>\n",
       "      <th>37</th>\n",
       "      <td>5</td>\n",
       "      <td>3</td>\n",
       "      <td>221.438</td>\n",
       "      <td>111.392</td>\n",
       "      <td>51.199</td>\n",
       "      <td>124.660</td>\n",
       "      <td>157.500</td>\n",
       "      <td>333.359</td>\n",
       "    </tr>\n",
       "    <tr>\n",
       "      <th>38</th>\n",
       "      <td>5</td>\n",
       "      <td>4</td>\n",
       "      <td>193.957</td>\n",
       "      <td>111.859</td>\n",
       "      <td>47.002</td>\n",
       "      <td>99.892</td>\n",
       "      <td>159.462</td>\n",
       "      <td>306.356</td>\n",
       "    </tr>\n",
       "    <tr>\n",
       "      <th>39</th>\n",
       "      <td>1</td>\n",
       "      <td>6</td>\n",
       "      <td>275.076</td>\n",
       "      <td>121.697</td>\n",
       "      <td>109.888</td>\n",
       "      <td>131.165</td>\n",
       "      <td>175.777</td>\n",
       "      <td>416.830</td>\n",
       "    </tr>\n",
       "    <tr>\n",
       "      <th>40</th>\n",
       "      <td>2</td>\n",
       "      <td>2</td>\n",
       "      <td>252.298</td>\n",
       "      <td>150.708</td>\n",
       "      <td>77.388</td>\n",
       "      <td>154.863</td>\n",
       "      <td>182.936</td>\n",
       "      <td>415.187</td>\n",
       "    </tr>\n",
       "    <tr>\n",
       "      <th>41</th>\n",
       "      <td>2</td>\n",
       "      <td>3</td>\n",
       "      <td>165.472</td>\n",
       "      <td>102.530</td>\n",
       "      <td>46.295</td>\n",
       "      <td>96.870</td>\n",
       "      <td>124.837</td>\n",
       "      <td>268.002</td>\n",
       "    </tr>\n",
       "    <tr>\n",
       "      <th>42</th>\n",
       "      <td>2</td>\n",
       "      <td>4</td>\n",
       "      <td>126.030</td>\n",
       "      <td>108.055</td>\n",
       "      <td>53.366</td>\n",
       "      <td>69.150</td>\n",
       "      <td>111.987</td>\n",
       "      <td>234.503</td>\n",
       "    </tr>\n",
       "    <tr>\n",
       "      <th>43</th>\n",
       "      <td>2</td>\n",
       "      <td>5</td>\n",
       "      <td>112.246</td>\n",
       "      <td>106.641</td>\n",
       "      <td>47.399</td>\n",
       "      <td>77.610</td>\n",
       "      <td>109.715</td>\n",
       "      <td>234.724</td>\n",
       "    </tr>\n",
       "    <tr>\n",
       "      <th>44</th>\n",
       "      <td>2</td>\n",
       "      <td>6</td>\n",
       "      <td>123.302</td>\n",
       "      <td>94.315</td>\n",
       "      <td>48.081</td>\n",
       "      <td>72.826</td>\n",
       "      <td>109.157</td>\n",
       "      <td>230.064</td>\n",
       "    </tr>\n",
       "    <tr>\n",
       "      <th>45</th>\n",
       "      <td>3</td>\n",
       "      <td>2</td>\n",
       "      <td>187.810</td>\n",
       "      <td>167.455</td>\n",
       "      <td>59.042</td>\n",
       "      <td>130.098</td>\n",
       "      <td>168.254</td>\n",
       "      <td>357.394</td>\n",
       "    </tr>\n",
       "    <tr>\n",
       "      <th>46</th>\n",
       "      <td>3</td>\n",
       "      <td>3</td>\n",
       "      <td>119.863</td>\n",
       "      <td>139.383</td>\n",
       "      <td>44.809</td>\n",
       "      <td>99.072</td>\n",
       "      <td>115.365</td>\n",
       "      <td>259.246</td>\n",
       "    </tr>\n",
       "    <tr>\n",
       "      <th>47</th>\n",
       "      <td>3</td>\n",
       "      <td>4</td>\n",
       "      <td>127.805</td>\n",
       "      <td>114.813</td>\n",
       "      <td>39.025</td>\n",
       "      <td>110.740</td>\n",
       "      <td>94.470</td>\n",
       "      <td>244.235</td>\n",
       "    </tr>\n",
       "    <tr>\n",
       "      <th>48</th>\n",
       "      <td>3</td>\n",
       "      <td>5</td>\n",
       "      <td>120.629</td>\n",
       "      <td>112.703</td>\n",
       "      <td>39.600</td>\n",
       "      <td>240.922</td>\n",
       "      <td>122.085</td>\n",
       "      <td>402.607</td>\n",
       "    </tr>\n",
       "    <tr>\n",
       "      <th>49</th>\n",
       "      <td>3</td>\n",
       "      <td>6</td>\n",
       "      <td>130.465</td>\n",
       "      <td>105.273</td>\n",
       "      <td>57.467</td>\n",
       "      <td>88.462</td>\n",
       "      <td>109.132</td>\n",
       "      <td>255.061</td>\n",
       "    </tr>\n",
       "    <tr>\n",
       "      <th>50</th>\n",
       "      <td>4</td>\n",
       "      <td>2</td>\n",
       "      <td>222.282</td>\n",
       "      <td>120.324</td>\n",
       "      <td>41.418</td>\n",
       "      <td>135.189</td>\n",
       "      <td>165.999</td>\n",
       "      <td>342.606</td>\n",
       "    </tr>\n",
       "    <tr>\n",
       "      <th>51</th>\n",
       "      <td>4</td>\n",
       "      <td>3</td>\n",
       "      <td>150.257</td>\n",
       "      <td>116.959</td>\n",
       "      <td>34.193</td>\n",
       "      <td>115.536</td>\n",
       "      <td>118.911</td>\n",
       "      <td>268.640</td>\n",
       "    </tr>\n",
       "    <tr>\n",
       "      <th>52</th>\n",
       "      <td>4</td>\n",
       "      <td>4</td>\n",
       "      <td>96.494</td>\n",
       "      <td>87.294</td>\n",
       "      <td>32.653</td>\n",
       "      <td>81.576</td>\n",
       "      <td>74.372</td>\n",
       "      <td>188.601</td>\n",
       "    </tr>\n",
       "    <tr>\n",
       "      <th>53</th>\n",
       "      <td>4</td>\n",
       "      <td>5</td>\n",
       "      <td>89.526</td>\n",
       "      <td>99.756</td>\n",
       "      <td>51.985</td>\n",
       "      <td>51.930</td>\n",
       "      <td>98.107</td>\n",
       "      <td>202.022</td>\n",
       "    </tr>\n",
       "    <tr>\n",
       "      <th>54</th>\n",
       "      <td>4</td>\n",
       "      <td>6</td>\n",
       "      <td>134.425</td>\n",
       "      <td>79.084</td>\n",
       "      <td>36.748</td>\n",
       "      <td>71.353</td>\n",
       "      <td>105.408</td>\n",
       "      <td>213.509</td>\n",
       "    </tr>\n",
       "    <tr>\n",
       "      <th>55</th>\n",
       "      <td>5</td>\n",
       "      <td>2</td>\n",
       "      <td>158.716</td>\n",
       "      <td>158.133</td>\n",
       "      <td>59.131</td>\n",
       "      <td>92.639</td>\n",
       "      <td>165.079</td>\n",
       "      <td>316.849</td>\n",
       "    </tr>\n",
       "    <tr>\n",
       "      <th>56</th>\n",
       "      <td>5</td>\n",
       "      <td>3</td>\n",
       "      <td>150.784</td>\n",
       "      <td>133.069</td>\n",
       "      <td>54.224</td>\n",
       "      <td>115.746</td>\n",
       "      <td>116.442</td>\n",
       "      <td>286.412</td>\n",
       "    </tr>\n",
       "    <tr>\n",
       "      <th>57</th>\n",
       "      <td>5</td>\n",
       "      <td>4</td>\n",
       "      <td>193.534</td>\n",
       "      <td>109.639</td>\n",
       "      <td>58.378</td>\n",
       "      <td>142.382</td>\n",
       "      <td>102.687</td>\n",
       "      <td>303.447</td>\n",
       "    </tr>\n",
       "    <tr>\n",
       "      <th>58</th>\n",
       "      <td>5</td>\n",
       "      <td>5</td>\n",
       "      <td>196.555</td>\n",
       "      <td>108.395</td>\n",
       "      <td>76.763</td>\n",
       "      <td>96.478</td>\n",
       "      <td>131.709</td>\n",
       "      <td>304.950</td>\n",
       "    </tr>\n",
       "    <tr>\n",
       "      <th>59</th>\n",
       "      <td>5</td>\n",
       "      <td>6</td>\n",
       "      <td>192.116</td>\n",
       "      <td>121.106</td>\n",
       "      <td>107.568</td>\n",
       "      <td>121.152</td>\n",
       "      <td>103.180</td>\n",
       "      <td>331.900</td>\n",
       "    </tr>\n",
       "  </tbody>\n",
       "</table>\n",
       "</div>"
      ],
      "text/plain": [
       "    Week of Month  Day of Week  Non-urgent Order  Urgent Order  Order Type A  \\\n",
       "0               1            4           316.307       223.270        61.543   \n",
       "1               1            5           128.633        96.042        38.058   \n",
       "2               1            6            43.651        84.375        21.826   \n",
       "3               2            2           171.297       127.667        41.542   \n",
       "4               2            3            90.532       113.526        37.679   \n",
       "5               2            4           110.925        96.360        30.792   \n",
       "6               2            5           144.124       118.919        43.304   \n",
       "7               2            6           119.379       113.870        38.584   \n",
       "8               3            2           218.856       124.381        33.973   \n",
       "9               3            3           146.518       101.045        36.399   \n",
       "10              3            4           178.433       102.793        45.706   \n",
       "11              3            5           145.865        91.180        43.851   \n",
       "12              3            6           170.566       114.412        43.339   \n",
       "13              4            2           220.343       141.406        46.241   \n",
       "14              4            3           193.768       141.854        56.519   \n",
       "15              4            4           122.736       124.256        56.167   \n",
       "16              4            5           144.051       158.408        51.660   \n",
       "17              4            6           105.415       108.688        47.717   \n",
       "18              5            2           240.660       163.720        59.135   \n",
       "19              1            3           131.067       166.649        90.476   \n",
       "20              1            4           130.129        98.927        42.904   \n",
       "21              1            5           123.286       103.551        47.331   \n",
       "22              1            6           190.816        87.629        32.077   \n",
       "23              2            2           266.741       141.437        58.721   \n",
       "24              2            3           123.143       106.083        36.017   \n",
       "25              2            4           148.139        85.310        35.576   \n",
       "26              2            5           118.552       100.417        54.401   \n",
       "27              2            6           146.959        95.153        37.656   \n",
       "28              3            2           299.770       133.375        57.810   \n",
       "29              3            3           151.341       131.788        43.359   \n",
       "30              3            4           206.206        92.160        45.555   \n",
       "31              3            5           170.868       131.463        45.550   \n",
       "32              4            3           435.304       181.149        67.884   \n",
       "33              4            4           235.106       110.874        70.376   \n",
       "34              4            5           168.179       125.119        71.068   \n",
       "35              4            6           172.783        77.371        64.137   \n",
       "36              5            2           381.768       140.041       118.178   \n",
       "37              5            3           221.438       111.392        51.199   \n",
       "38              5            4           193.957       111.859        47.002   \n",
       "39              1            6           275.076       121.697       109.888   \n",
       "40              2            2           252.298       150.708        77.388   \n",
       "41              2            3           165.472       102.530        46.295   \n",
       "42              2            4           126.030       108.055        53.366   \n",
       "43              2            5           112.246       106.641        47.399   \n",
       "44              2            6           123.302        94.315        48.081   \n",
       "45              3            2           187.810       167.455        59.042   \n",
       "46              3            3           119.863       139.383        44.809   \n",
       "47              3            4           127.805       114.813        39.025   \n",
       "48              3            5           120.629       112.703        39.600   \n",
       "49              3            6           130.465       105.273        57.467   \n",
       "50              4            2           222.282       120.324        41.418   \n",
       "51              4            3           150.257       116.959        34.193   \n",
       "52              4            4            96.494        87.294        32.653   \n",
       "53              4            5            89.526        99.756        51.985   \n",
       "54              4            6           134.425        79.084        36.748   \n",
       "55              5            2           158.716       158.133        59.131   \n",
       "56              5            3           150.784       133.069        54.224   \n",
       "57              5            4           193.534       109.639        58.378   \n",
       "58              5            5           196.555       108.395        76.763   \n",
       "59              5            6           192.116       121.106       107.568   \n",
       "\n",
       "    Order Type B  Order Type C  Total Orders  \n",
       "0        175.586       302.448       539.577  \n",
       "1         56.037       130.580       224.675  \n",
       "2         25.125        82.461       129.412  \n",
       "3        113.294       162.284       317.120  \n",
       "4         56.618       116.220       210.517  \n",
       "5         50.704       125.868       207.364  \n",
       "6         66.371       153.368       263.043  \n",
       "7         85.961       124.413       248.958  \n",
       "8        148.274       162.044       344.291  \n",
       "9         43.306       168.723       248.428  \n",
       "10       111.036       124.678       281.420  \n",
       "11        66.277       133.440       243.568  \n",
       "12       136.434       128.405       308.178  \n",
       "13       120.865       196.296       363.402  \n",
       "14       136.709       143.644       336.872  \n",
       "15        78.101       112.724       246.992  \n",
       "16        92.272       164.948       308.880  \n",
       "17        71.474       113.935       233.126  \n",
       "18       157.681       187.564       404.380  \n",
       "19        80.509       127.575       298.560  \n",
       "20        43.962       142.383       229.249  \n",
       "21        72.444       116.529       236.304  \n",
       "22       127.358       137.739       297.174  \n",
       "23       139.034       211.646       409.401  \n",
       "24        75.813       119.205       231.035  \n",
       "25        79.997       123.253       238.826  \n",
       "26        75.613       105.584       235.598  \n",
       "27        59.907       144.549       242.112  \n",
       "28       236.248       196.732       490.790  \n",
       "29        89.382       156.916       289.657  \n",
       "30       148.718       104.186       298.459  \n",
       "31       120.548       157.505       323.603  \n",
       "32       267.342       281.227       616.453  \n",
       "33       154.242       121.417       346.035  \n",
       "34       100.544       136.033       307.645  \n",
       "35       109.062        80.648       253.847  \n",
       "36       260.632       152.134       530.944  \n",
       "37       124.660       157.500       333.359  \n",
       "38        99.892       159.462       306.356  \n",
       "39       131.165       175.777       416.830  \n",
       "40       154.863       182.936       415.187  \n",
       "41        96.870       124.837       268.002  \n",
       "42        69.150       111.987       234.503  \n",
       "43        77.610       109.715       234.724  \n",
       "44        72.826       109.157       230.064  \n",
       "45       130.098       168.254       357.394  \n",
       "46        99.072       115.365       259.246  \n",
       "47       110.740        94.470       244.235  \n",
       "48       240.922       122.085       402.607  \n",
       "49        88.462       109.132       255.061  \n",
       "50       135.189       165.999       342.606  \n",
       "51       115.536       118.911       268.640  \n",
       "52        81.576        74.372       188.601  \n",
       "53        51.930        98.107       202.022  \n",
       "54        71.353       105.408       213.509  \n",
       "55        92.639       165.079       316.849  \n",
       "56       115.746       116.442       286.412  \n",
       "57       142.382       102.687       303.447  \n",
       "58        96.478       131.709       304.950  \n",
       "59       121.152       103.180       331.900  "
      ]
     },
     "execution_count": 48,
     "metadata": {},
     "output_type": "execute_result"
    }
   ],
   "source": [
    "df.drop(['Fiscal Sector Orders', 'Traffic Controller Orders', 'Banking Orders (1)', 'Banking Orders (2)',\\\n",
    "         'Banking Orders (3)'], axis = 1)"
   ]
  },
  {
   "cell_type": "markdown",
   "metadata": {},
   "source": [
    "It is very important to note that our previous operation results in no permanent change to the dataframe object because we did not specify an assignment. This can be seen by executing the following code block that prints the head of the df object. In particular, note that all of the columns we specified to be dropped still exist.\n",
    "\n",
    "[Back to Table of Contents](#Table of Contents)<br>"
   ]
  },
  {
   "cell_type": "code",
   "execution_count": 49,
   "metadata": {},
   "outputs": [
    {
     "data": {
      "text/html": [
       "<div>\n",
       "<style>\n",
       "    .dataframe thead tr:only-child th {\n",
       "        text-align: right;\n",
       "    }\n",
       "\n",
       "    .dataframe thead th {\n",
       "        text-align: left;\n",
       "    }\n",
       "\n",
       "    .dataframe tbody tr th {\n",
       "        vertical-align: top;\n",
       "    }\n",
       "</style>\n",
       "<table border=\"1\" class=\"dataframe\">\n",
       "  <thead>\n",
       "    <tr style=\"text-align: right;\">\n",
       "      <th></th>\n",
       "      <th>Week of Month</th>\n",
       "      <th>Day of Week</th>\n",
       "      <th>Non-urgent Order</th>\n",
       "      <th>Urgent Order</th>\n",
       "      <th>Order Type A</th>\n",
       "      <th>Order Type B</th>\n",
       "      <th>Order Type C</th>\n",
       "      <th>Fiscal Sector Orders</th>\n",
       "      <th>Traffic Controller Orders</th>\n",
       "      <th>Banking Orders (1)</th>\n",
       "      <th>Banking Orders (2)</th>\n",
       "      <th>Banking Orders (3)</th>\n",
       "      <th>Total Orders</th>\n",
       "    </tr>\n",
       "  </thead>\n",
       "  <tbody>\n",
       "    <tr>\n",
       "      <th>0</th>\n",
       "      <td>1</td>\n",
       "      <td>4</td>\n",
       "      <td>316.307</td>\n",
       "      <td>223.270</td>\n",
       "      <td>61.543</td>\n",
       "      <td>175.586</td>\n",
       "      <td>302.448</td>\n",
       "      <td>0.000</td>\n",
       "      <td>65556</td>\n",
       "      <td>44914</td>\n",
       "      <td>188411</td>\n",
       "      <td>14793</td>\n",
       "      <td>539.577</td>\n",
       "    </tr>\n",
       "    <tr>\n",
       "      <th>1</th>\n",
       "      <td>1</td>\n",
       "      <td>5</td>\n",
       "      <td>128.633</td>\n",
       "      <td>96.042</td>\n",
       "      <td>38.058</td>\n",
       "      <td>56.037</td>\n",
       "      <td>130.580</td>\n",
       "      <td>0.000</td>\n",
       "      <td>40419</td>\n",
       "      <td>21399</td>\n",
       "      <td>89461</td>\n",
       "      <td>7679</td>\n",
       "      <td>224.675</td>\n",
       "    </tr>\n",
       "    <tr>\n",
       "      <th>2</th>\n",
       "      <td>1</td>\n",
       "      <td>6</td>\n",
       "      <td>43.651</td>\n",
       "      <td>84.375</td>\n",
       "      <td>21.826</td>\n",
       "      <td>25.125</td>\n",
       "      <td>82.461</td>\n",
       "      <td>1.386</td>\n",
       "      <td>11992</td>\n",
       "      <td>3452</td>\n",
       "      <td>21305</td>\n",
       "      <td>14947</td>\n",
       "      <td>129.412</td>\n",
       "    </tr>\n",
       "    <tr>\n",
       "      <th>3</th>\n",
       "      <td>2</td>\n",
       "      <td>2</td>\n",
       "      <td>171.297</td>\n",
       "      <td>127.667</td>\n",
       "      <td>41.542</td>\n",
       "      <td>113.294</td>\n",
       "      <td>162.284</td>\n",
       "      <td>18.156</td>\n",
       "      <td>49971</td>\n",
       "      <td>33703</td>\n",
       "      <td>69054</td>\n",
       "      <td>18423</td>\n",
       "      <td>317.120</td>\n",
       "    </tr>\n",
       "    <tr>\n",
       "      <th>4</th>\n",
       "      <td>2</td>\n",
       "      <td>3</td>\n",
       "      <td>90.532</td>\n",
       "      <td>113.526</td>\n",
       "      <td>37.679</td>\n",
       "      <td>56.618</td>\n",
       "      <td>116.220</td>\n",
       "      <td>6.459</td>\n",
       "      <td>48534</td>\n",
       "      <td>19646</td>\n",
       "      <td>16411</td>\n",
       "      <td>20257</td>\n",
       "      <td>210.517</td>\n",
       "    </tr>\n",
       "  </tbody>\n",
       "</table>\n",
       "</div>"
      ],
      "text/plain": [
       "   Week of Month  Day of Week  Non-urgent Order  Urgent Order  Order Type A  \\\n",
       "0              1            4           316.307       223.270        61.543   \n",
       "1              1            5           128.633        96.042        38.058   \n",
       "2              1            6            43.651        84.375        21.826   \n",
       "3              2            2           171.297       127.667        41.542   \n",
       "4              2            3            90.532       113.526        37.679   \n",
       "\n",
       "   Order Type B  Order Type C  Fiscal Sector Orders  \\\n",
       "0       175.586       302.448                 0.000   \n",
       "1        56.037       130.580                 0.000   \n",
       "2        25.125        82.461                 1.386   \n",
       "3       113.294       162.284                18.156   \n",
       "4        56.618       116.220                 6.459   \n",
       "\n",
       "   Traffic Controller Orders  Banking Orders (1)  Banking Orders (2)  \\\n",
       "0                      65556               44914              188411   \n",
       "1                      40419               21399               89461   \n",
       "2                      11992                3452               21305   \n",
       "3                      49971               33703               69054   \n",
       "4                      48534               19646               16411   \n",
       "\n",
       "   Banking Orders (3)  Total Orders  \n",
       "0               14793       539.577  \n",
       "1                7679       224.675  \n",
       "2               14947       129.412  \n",
       "3               18423       317.120  \n",
       "4               20257       210.517  "
      ]
     },
     "execution_count": 49,
     "metadata": {},
     "output_type": "execute_result"
    }
   ],
   "source": [
    "df.head()"
   ]
  },
  {
   "cell_type": "markdown",
   "metadata": {},
   "source": [
    "If we wanted the drop column operation to be permanent, we coul have overwritten the existing dataframe using `df = df.drop(['Fiscal Sector Orders', 'Traffic Controller Orders', 'Banking Orders (1)', 'Banking Orders (2)','Banking Orders (3)'])`. \n",
    "\n",
    "Another approach is to supply the additional argument `inplace = True`. This latter approach is demonstrated in the next code block.\n",
    "\n",
    "**Note: Once you run the following cell, the dataframe will no longer contain the dropped columns. Thus, if you rerun any cells that reference the dropped columns you will get an error unless you import the dataframe and rename the columns as is done earlier.**\n",
    "\n",
    "[Back to Table of Contents](#Table of Contents)<br>"
   ]
  },
  {
   "cell_type": "code",
   "execution_count": 50,
   "metadata": {},
   "outputs": [
    {
     "data": {
      "text/html": [
       "<div>\n",
       "<style>\n",
       "    .dataframe thead tr:only-child th {\n",
       "        text-align: right;\n",
       "    }\n",
       "\n",
       "    .dataframe thead th {\n",
       "        text-align: left;\n",
       "    }\n",
       "\n",
       "    .dataframe tbody tr th {\n",
       "        vertical-align: top;\n",
       "    }\n",
       "</style>\n",
       "<table border=\"1\" class=\"dataframe\">\n",
       "  <thead>\n",
       "    <tr style=\"text-align: right;\">\n",
       "      <th></th>\n",
       "      <th>Week of Month</th>\n",
       "      <th>Day of Week</th>\n",
       "      <th>Non-urgent Order</th>\n",
       "      <th>Urgent Order</th>\n",
       "      <th>Order Type A</th>\n",
       "      <th>Order Type B</th>\n",
       "      <th>Order Type C</th>\n",
       "      <th>Total Orders</th>\n",
       "    </tr>\n",
       "  </thead>\n",
       "  <tbody>\n",
       "    <tr>\n",
       "      <th>0</th>\n",
       "      <td>1</td>\n",
       "      <td>4</td>\n",
       "      <td>316.307</td>\n",
       "      <td>223.270</td>\n",
       "      <td>61.543</td>\n",
       "      <td>175.586</td>\n",
       "      <td>302.448</td>\n",
       "      <td>539.577</td>\n",
       "    </tr>\n",
       "    <tr>\n",
       "      <th>1</th>\n",
       "      <td>1</td>\n",
       "      <td>5</td>\n",
       "      <td>128.633</td>\n",
       "      <td>96.042</td>\n",
       "      <td>38.058</td>\n",
       "      <td>56.037</td>\n",
       "      <td>130.580</td>\n",
       "      <td>224.675</td>\n",
       "    </tr>\n",
       "    <tr>\n",
       "      <th>2</th>\n",
       "      <td>1</td>\n",
       "      <td>6</td>\n",
       "      <td>43.651</td>\n",
       "      <td>84.375</td>\n",
       "      <td>21.826</td>\n",
       "      <td>25.125</td>\n",
       "      <td>82.461</td>\n",
       "      <td>129.412</td>\n",
       "    </tr>\n",
       "    <tr>\n",
       "      <th>3</th>\n",
       "      <td>2</td>\n",
       "      <td>2</td>\n",
       "      <td>171.297</td>\n",
       "      <td>127.667</td>\n",
       "      <td>41.542</td>\n",
       "      <td>113.294</td>\n",
       "      <td>162.284</td>\n",
       "      <td>317.120</td>\n",
       "    </tr>\n",
       "    <tr>\n",
       "      <th>4</th>\n",
       "      <td>2</td>\n",
       "      <td>3</td>\n",
       "      <td>90.532</td>\n",
       "      <td>113.526</td>\n",
       "      <td>37.679</td>\n",
       "      <td>56.618</td>\n",
       "      <td>116.220</td>\n",
       "      <td>210.517</td>\n",
       "    </tr>\n",
       "  </tbody>\n",
       "</table>\n",
       "</div>"
      ],
      "text/plain": [
       "   Week of Month  Day of Week  Non-urgent Order  Urgent Order  Order Type A  \\\n",
       "0              1            4           316.307       223.270        61.543   \n",
       "1              1            5           128.633        96.042        38.058   \n",
       "2              1            6            43.651        84.375        21.826   \n",
       "3              2            2           171.297       127.667        41.542   \n",
       "4              2            3            90.532       113.526        37.679   \n",
       "\n",
       "   Order Type B  Order Type C  Total Orders  \n",
       "0       175.586       302.448       539.577  \n",
       "1        56.037       130.580       224.675  \n",
       "2        25.125        82.461       129.412  \n",
       "3       113.294       162.284       317.120  \n",
       "4        56.618       116.220       210.517  "
      ]
     },
     "execution_count": 50,
     "metadata": {},
     "output_type": "execute_result"
    }
   ],
   "source": [
    "df.drop(['Fiscal Sector Orders', 'Traffic Controller Orders', 'Banking Orders (1)', 'Banking Orders (2)',\\\n",
    "         'Banking Orders (3)'], axis = 1,inplace=True)\n",
    "\n",
    "df.head()"
   ]
  },
  {
   "cell_type": "markdown",
   "metadata": {},
   "source": [
    "### Manipulating Data in a Pandas Dataframe\n",
    "<a id=\"Manipulating Data in a Pandas Dataframe\"> </a>\n",
    "\n",
    "This section looks at a limited selection of the methods that are available to slice and wrangle data that is stored as a Pandas dataframe (these are not my terms, but instead are commonly used in the field of data science). Before beginning such efforts, we often must investigate the data to better understand its size and the formats used. The following cell shows how to determine the unique values in a specific dataframe column.\n",
    "\n",
    "[Back to Table of Contents](#Table of Contents)<br>"
   ]
  },
  {
   "cell_type": "code",
   "execution_count": 51,
   "metadata": {},
   "outputs": [
    {
     "data": {
      "text/plain": [
       "array([4, 5, 6, 2, 3], dtype=int64)"
      ]
     },
     "execution_count": 51,
     "metadata": {},
     "output_type": "execute_result"
    }
   ],
   "source": [
    "df['Day of Week'].unique()"
   ]
  },
  {
   "cell_type": "markdown",
   "metadata": {},
   "source": [
    "If we wanted to extract the values in a particular column, we can use the `values` attribute.\n",
    "\n",
    "[Back to Table of Contents](#Table of Contents)<br>"
   ]
  },
  {
   "cell_type": "code",
   "execution_count": 52,
   "metadata": {},
   "outputs": [
    {
     "data": {
      "text/plain": [
       "array([4, 5, 6, 2, 3, 4, 5, 6, 2, 3, 4, 5, 6, 2, 3, 4, 5, 6, 2, 3, 4, 5, 6,\n",
       "       2, 3, 4, 5, 6, 2, 3, 4, 5, 3, 4, 5, 6, 2, 3, 4, 6, 2, 3, 4, 5, 6, 2,\n",
       "       3, 4, 5, 6, 2, 3, 4, 5, 6, 2, 3, 4, 5, 6], dtype=int64)"
      ]
     },
     "execution_count": 52,
     "metadata": {},
     "output_type": "execute_result"
    }
   ],
   "source": [
    "df['Day of Week'].values"
   ]
  },
  {
   "cell_type": "markdown",
   "metadata": {},
   "source": [
    "The `describe()` function provides several summary statistics for each comlumn in a Pandas dataframe.\n",
    "\n",
    "[Back to Table of Contents](#Table of Contents)<br>"
   ]
  },
  {
   "cell_type": "code",
   "execution_count": 53,
   "metadata": {},
   "outputs": [
    {
     "data": {
      "text/html": [
       "<div>\n",
       "<style>\n",
       "    .dataframe thead tr:only-child th {\n",
       "        text-align: right;\n",
       "    }\n",
       "\n",
       "    .dataframe thead th {\n",
       "        text-align: left;\n",
       "    }\n",
       "\n",
       "    .dataframe tbody tr th {\n",
       "        vertical-align: top;\n",
       "    }\n",
       "</style>\n",
       "<table border=\"1\" class=\"dataframe\">\n",
       "  <thead>\n",
       "    <tr style=\"text-align: right;\">\n",
       "      <th></th>\n",
       "      <th>Week of Month</th>\n",
       "      <th>Day of Week</th>\n",
       "      <th>Non-urgent Order</th>\n",
       "      <th>Urgent Order</th>\n",
       "      <th>Order Type A</th>\n",
       "      <th>Order Type B</th>\n",
       "      <th>Order Type C</th>\n",
       "      <th>Total Orders</th>\n",
       "    </tr>\n",
       "  </thead>\n",
       "  <tbody>\n",
       "    <tr>\n",
       "      <th>count</th>\n",
       "      <td>60.000000</td>\n",
       "      <td>60.000000</td>\n",
       "      <td>60.000000</td>\n",
       "      <td>60.000000</td>\n",
       "      <td>60.000000</td>\n",
       "      <td>60.000000</td>\n",
       "      <td>60.000000</td>\n",
       "      <td>60.000000</td>\n",
       "    </tr>\n",
       "    <tr>\n",
       "      <th>mean</th>\n",
       "      <td>3.016667</td>\n",
       "      <td>4.033333</td>\n",
       "      <td>172.554933</td>\n",
       "      <td>118.920850</td>\n",
       "      <td>52.112217</td>\n",
       "      <td>109.229850</td>\n",
       "      <td>139.531250</td>\n",
       "      <td>300.873317</td>\n",
       "    </tr>\n",
       "    <tr>\n",
       "      <th>std</th>\n",
       "      <td>1.282102</td>\n",
       "      <td>1.401775</td>\n",
       "      <td>69.505788</td>\n",
       "      <td>27.170929</td>\n",
       "      <td>18.829911</td>\n",
       "      <td>50.741388</td>\n",
       "      <td>41.442932</td>\n",
       "      <td>89.602041</td>\n",
       "    </tr>\n",
       "    <tr>\n",
       "      <th>min</th>\n",
       "      <td>1.000000</td>\n",
       "      <td>2.000000</td>\n",
       "      <td>43.651000</td>\n",
       "      <td>77.371000</td>\n",
       "      <td>21.826000</td>\n",
       "      <td>25.125000</td>\n",
       "      <td>74.372000</td>\n",
       "      <td>129.412000</td>\n",
       "    </tr>\n",
       "    <tr>\n",
       "      <th>25%</th>\n",
       "      <td>2.000000</td>\n",
       "      <td>3.000000</td>\n",
       "      <td>125.348000</td>\n",
       "      <td>100.888000</td>\n",
       "      <td>39.456250</td>\n",
       "      <td>74.916250</td>\n",
       "      <td>113.632250</td>\n",
       "      <td>238.195500</td>\n",
       "    </tr>\n",
       "    <tr>\n",
       "      <th>50%</th>\n",
       "      <td>3.000000</td>\n",
       "      <td>4.000000</td>\n",
       "      <td>151.062500</td>\n",
       "      <td>113.114500</td>\n",
       "      <td>47.166500</td>\n",
       "      <td>99.482000</td>\n",
       "      <td>127.990000</td>\n",
       "      <td>288.034500</td>\n",
       "    </tr>\n",
       "    <tr>\n",
       "      <th>75%</th>\n",
       "      <td>4.000000</td>\n",
       "      <td>5.000000</td>\n",
       "      <td>194.606500</td>\n",
       "      <td>132.108250</td>\n",
       "      <td>58.463750</td>\n",
       "      <td>132.171000</td>\n",
       "      <td>160.107500</td>\n",
       "      <td>334.237250</td>\n",
       "    </tr>\n",
       "    <tr>\n",
       "      <th>max</th>\n",
       "      <td>5.000000</td>\n",
       "      <td>6.000000</td>\n",
       "      <td>435.304000</td>\n",
       "      <td>223.270000</td>\n",
       "      <td>118.178000</td>\n",
       "      <td>267.342000</td>\n",
       "      <td>302.448000</td>\n",
       "      <td>616.453000</td>\n",
       "    </tr>\n",
       "  </tbody>\n",
       "</table>\n",
       "</div>"
      ],
      "text/plain": [
       "       Week of Month  Day of Week  Non-urgent Order  Urgent Order  \\\n",
       "count      60.000000    60.000000         60.000000     60.000000   \n",
       "mean        3.016667     4.033333        172.554933    118.920850   \n",
       "std         1.282102     1.401775         69.505788     27.170929   \n",
       "min         1.000000     2.000000         43.651000     77.371000   \n",
       "25%         2.000000     3.000000        125.348000    100.888000   \n",
       "50%         3.000000     4.000000        151.062500    113.114500   \n",
       "75%         4.000000     5.000000        194.606500    132.108250   \n",
       "max         5.000000     6.000000        435.304000    223.270000   \n",
       "\n",
       "       Order Type A  Order Type B  Order Type C  Total Orders  \n",
       "count     60.000000     60.000000     60.000000     60.000000  \n",
       "mean      52.112217    109.229850    139.531250    300.873317  \n",
       "std       18.829911     50.741388     41.442932     89.602041  \n",
       "min       21.826000     25.125000     74.372000    129.412000  \n",
       "25%       39.456250     74.916250    113.632250    238.195500  \n",
       "50%       47.166500     99.482000    127.990000    288.034500  \n",
       "75%       58.463750    132.171000    160.107500    334.237250  \n",
       "max      118.178000    267.342000    302.448000    616.453000  "
      ]
     },
     "execution_count": 53,
     "metadata": {},
     "output_type": "execute_result"
    }
   ],
   "source": [
    "df.describe()"
   ]
  },
  {
   "cell_type": "markdown",
   "metadata": {},
   "source": [
    "We can select individual columns and rows of a Pandas dataframe in many ways. The following cell shows how to select columns by column name using the `loc` method. In this case, we return all rows for the 'Week of Month', 'Day of Week', and 'Total Orders' columns, and only print the first five rows.\n",
    "\n",
    "[Back to Table of Contents](#Table of Contents)<br>"
   ]
  },
  {
   "cell_type": "code",
   "execution_count": 54,
   "metadata": {},
   "outputs": [
    {
     "data": {
      "text/html": [
       "<div>\n",
       "<style>\n",
       "    .dataframe thead tr:only-child th {\n",
       "        text-align: right;\n",
       "    }\n",
       "\n",
       "    .dataframe thead th {\n",
       "        text-align: left;\n",
       "    }\n",
       "\n",
       "    .dataframe tbody tr th {\n",
       "        vertical-align: top;\n",
       "    }\n",
       "</style>\n",
       "<table border=\"1\" class=\"dataframe\">\n",
       "  <thead>\n",
       "    <tr style=\"text-align: right;\">\n",
       "      <th></th>\n",
       "      <th>Week of Month</th>\n",
       "      <th>Day of Week</th>\n",
       "      <th>Total Orders</th>\n",
       "    </tr>\n",
       "  </thead>\n",
       "  <tbody>\n",
       "    <tr>\n",
       "      <th>0</th>\n",
       "      <td>1</td>\n",
       "      <td>4</td>\n",
       "      <td>539.577</td>\n",
       "    </tr>\n",
       "    <tr>\n",
       "      <th>1</th>\n",
       "      <td>1</td>\n",
       "      <td>5</td>\n",
       "      <td>224.675</td>\n",
       "    </tr>\n",
       "    <tr>\n",
       "      <th>2</th>\n",
       "      <td>1</td>\n",
       "      <td>6</td>\n",
       "      <td>129.412</td>\n",
       "    </tr>\n",
       "    <tr>\n",
       "      <th>3</th>\n",
       "      <td>2</td>\n",
       "      <td>2</td>\n",
       "      <td>317.120</td>\n",
       "    </tr>\n",
       "    <tr>\n",
       "      <th>4</th>\n",
       "      <td>2</td>\n",
       "      <td>3</td>\n",
       "      <td>210.517</td>\n",
       "    </tr>\n",
       "  </tbody>\n",
       "</table>\n",
       "</div>"
      ],
      "text/plain": [
       "   Week of Month  Day of Week  Total Orders\n",
       "0              1            4       539.577\n",
       "1              1            5       224.675\n",
       "2              1            6       129.412\n",
       "3              2            2       317.120\n",
       "4              2            3       210.517"
      ]
     },
     "execution_count": 54,
     "metadata": {},
     "output_type": "execute_result"
    }
   ],
   "source": [
    "df.loc[:,['Week of Month','Day of Week','Total Orders']].head()"
   ]
  },
  {
   "cell_type": "markdown",
   "metadata": {},
   "source": [
    "The same slicing can be achieved using column index values using the `iloc` method. Recall that in our dataframe with dopped columns, 'Week of Month' is the first column (column 0), 'Day of Week' is the second column (column 1), and 'Total Orders' is the eighth column (column 7).\n",
    "\n",
    "[Back to Table of Contents](#Table of Contents)<br>"
   ]
  },
  {
   "cell_type": "code",
   "execution_count": 55,
   "metadata": {},
   "outputs": [
    {
     "data": {
      "text/html": [
       "<div>\n",
       "<style>\n",
       "    .dataframe thead tr:only-child th {\n",
       "        text-align: right;\n",
       "    }\n",
       "\n",
       "    .dataframe thead th {\n",
       "        text-align: left;\n",
       "    }\n",
       "\n",
       "    .dataframe tbody tr th {\n",
       "        vertical-align: top;\n",
       "    }\n",
       "</style>\n",
       "<table border=\"1\" class=\"dataframe\">\n",
       "  <thead>\n",
       "    <tr style=\"text-align: right;\">\n",
       "      <th></th>\n",
       "      <th>Week of Month</th>\n",
       "      <th>Day of Week</th>\n",
       "      <th>Total Orders</th>\n",
       "    </tr>\n",
       "  </thead>\n",
       "  <tbody>\n",
       "    <tr>\n",
       "      <th>0</th>\n",
       "      <td>1</td>\n",
       "      <td>4</td>\n",
       "      <td>539.577</td>\n",
       "    </tr>\n",
       "    <tr>\n",
       "      <th>1</th>\n",
       "      <td>1</td>\n",
       "      <td>5</td>\n",
       "      <td>224.675</td>\n",
       "    </tr>\n",
       "    <tr>\n",
       "      <th>2</th>\n",
       "      <td>1</td>\n",
       "      <td>6</td>\n",
       "      <td>129.412</td>\n",
       "    </tr>\n",
       "    <tr>\n",
       "      <th>3</th>\n",
       "      <td>2</td>\n",
       "      <td>2</td>\n",
       "      <td>317.120</td>\n",
       "    </tr>\n",
       "    <tr>\n",
       "      <th>4</th>\n",
       "      <td>2</td>\n",
       "      <td>3</td>\n",
       "      <td>210.517</td>\n",
       "    </tr>\n",
       "  </tbody>\n",
       "</table>\n",
       "</div>"
      ],
      "text/plain": [
       "   Week of Month  Day of Week  Total Orders\n",
       "0              1            4       539.577\n",
       "1              1            5       224.675\n",
       "2              1            6       129.412\n",
       "3              2            2       317.120\n",
       "4              2            3       210.517"
      ]
     },
     "execution_count": 55,
     "metadata": {},
     "output_type": "execute_result"
    }
   ],
   "source": [
    "df.iloc[:,[0,1,7]].head()"
   ]
  },
  {
   "cell_type": "markdown",
   "metadata": {},
   "source": [
    "The following cell shows how to pull the first three rows of the designated column slice. \n",
    "\n",
    "[Back to Table of Contents](#Table of Contents)<br>"
   ]
  },
  {
   "cell_type": "code",
   "execution_count": 56,
   "metadata": {},
   "outputs": [
    {
     "data": {
      "text/html": [
       "<div>\n",
       "<style>\n",
       "    .dataframe thead tr:only-child th {\n",
       "        text-align: right;\n",
       "    }\n",
       "\n",
       "    .dataframe thead th {\n",
       "        text-align: left;\n",
       "    }\n",
       "\n",
       "    .dataframe tbody tr th {\n",
       "        vertical-align: top;\n",
       "    }\n",
       "</style>\n",
       "<table border=\"1\" class=\"dataframe\">\n",
       "  <thead>\n",
       "    <tr style=\"text-align: right;\">\n",
       "      <th></th>\n",
       "      <th>Week of Month</th>\n",
       "      <th>Day of Week</th>\n",
       "      <th>Total Orders</th>\n",
       "    </tr>\n",
       "  </thead>\n",
       "  <tbody>\n",
       "    <tr>\n",
       "      <th>0</th>\n",
       "      <td>1</td>\n",
       "      <td>4</td>\n",
       "      <td>539.577</td>\n",
       "    </tr>\n",
       "    <tr>\n",
       "      <th>1</th>\n",
       "      <td>1</td>\n",
       "      <td>5</td>\n",
       "      <td>224.675</td>\n",
       "    </tr>\n",
       "    <tr>\n",
       "      <th>2</th>\n",
       "      <td>1</td>\n",
       "      <td>6</td>\n",
       "      <td>129.412</td>\n",
       "    </tr>\n",
       "  </tbody>\n",
       "</table>\n",
       "</div>"
      ],
      "text/plain": [
       "   Week of Month  Day of Week  Total Orders\n",
       "0              1            4       539.577\n",
       "1              1            5       224.675\n",
       "2              1            6       129.412"
      ]
     },
     "execution_count": 56,
     "metadata": {},
     "output_type": "execute_result"
    }
   ],
   "source": [
    "df.iloc[0:3,[0,1,7]]"
   ]
  },
  {
   "cell_type": "markdown",
   "metadata": {},
   "source": [
    "The following cell shows how to pull select non-consecutive rows of the designated column slice.\n",
    "\n",
    "[Back to Table of Contents](#Table of Contents)<br>"
   ]
  },
  {
   "cell_type": "code",
   "execution_count": 57,
   "metadata": {},
   "outputs": [
    {
     "data": {
      "text/html": [
       "<div>\n",
       "<style>\n",
       "    .dataframe thead tr:only-child th {\n",
       "        text-align: right;\n",
       "    }\n",
       "\n",
       "    .dataframe thead th {\n",
       "        text-align: left;\n",
       "    }\n",
       "\n",
       "    .dataframe tbody tr th {\n",
       "        vertical-align: top;\n",
       "    }\n",
       "</style>\n",
       "<table border=\"1\" class=\"dataframe\">\n",
       "  <thead>\n",
       "    <tr style=\"text-align: right;\">\n",
       "      <th></th>\n",
       "      <th>Week of Month</th>\n",
       "      <th>Day of Week</th>\n",
       "      <th>Total Orders</th>\n",
       "    </tr>\n",
       "  </thead>\n",
       "  <tbody>\n",
       "    <tr>\n",
       "      <th>0</th>\n",
       "      <td>1</td>\n",
       "      <td>4</td>\n",
       "      <td>539.577</td>\n",
       "    </tr>\n",
       "    <tr>\n",
       "      <th>3</th>\n",
       "      <td>2</td>\n",
       "      <td>2</td>\n",
       "      <td>317.120</td>\n",
       "    </tr>\n",
       "    <tr>\n",
       "      <th>6</th>\n",
       "      <td>2</td>\n",
       "      <td>5</td>\n",
       "      <td>263.043</td>\n",
       "    </tr>\n",
       "    <tr>\n",
       "      <th>8</th>\n",
       "      <td>3</td>\n",
       "      <td>2</td>\n",
       "      <td>344.291</td>\n",
       "    </tr>\n",
       "    <tr>\n",
       "      <th>54</th>\n",
       "      <td>4</td>\n",
       "      <td>6</td>\n",
       "      <td>213.509</td>\n",
       "    </tr>\n",
       "  </tbody>\n",
       "</table>\n",
       "</div>"
      ],
      "text/plain": [
       "    Week of Month  Day of Week  Total Orders\n",
       "0               1            4       539.577\n",
       "3               2            2       317.120\n",
       "6               2            5       263.043\n",
       "8               3            2       344.291\n",
       "54              4            6       213.509"
      ]
     },
     "execution_count": 57,
     "metadata": {},
     "output_type": "execute_result"
    }
   ],
   "source": [
    "df.iloc[[0,3,6,8,54],[0,1,7]]"
   ]
  },
  {
   "cell_type": "markdown",
   "metadata": {},
   "source": [
    "The following code block shows how we can limit the records based on a condition. Specifically, the following code block returns entries in the dataframe where the value in the 'Total Orders' column exceeds 500.\n",
    "\n",
    "[Back to Table of Contents](#Table of Contents)<br>"
   ]
  },
  {
   "cell_type": "code",
   "execution_count": 58,
   "metadata": {},
   "outputs": [
    {
     "data": {
      "text/html": [
       "<div>\n",
       "<style>\n",
       "    .dataframe thead tr:only-child th {\n",
       "        text-align: right;\n",
       "    }\n",
       "\n",
       "    .dataframe thead th {\n",
       "        text-align: left;\n",
       "    }\n",
       "\n",
       "    .dataframe tbody tr th {\n",
       "        vertical-align: top;\n",
       "    }\n",
       "</style>\n",
       "<table border=\"1\" class=\"dataframe\">\n",
       "  <thead>\n",
       "    <tr style=\"text-align: right;\">\n",
       "      <th></th>\n",
       "      <th>Week of Month</th>\n",
       "      <th>Day of Week</th>\n",
       "      <th>Non-urgent Order</th>\n",
       "      <th>Urgent Order</th>\n",
       "      <th>Order Type A</th>\n",
       "      <th>Order Type B</th>\n",
       "      <th>Order Type C</th>\n",
       "      <th>Total Orders</th>\n",
       "    </tr>\n",
       "  </thead>\n",
       "  <tbody>\n",
       "    <tr>\n",
       "      <th>0</th>\n",
       "      <td>1</td>\n",
       "      <td>4</td>\n",
       "      <td>316.307</td>\n",
       "      <td>223.270</td>\n",
       "      <td>61.543</td>\n",
       "      <td>175.586</td>\n",
       "      <td>302.448</td>\n",
       "      <td>539.577</td>\n",
       "    </tr>\n",
       "    <tr>\n",
       "      <th>32</th>\n",
       "      <td>4</td>\n",
       "      <td>3</td>\n",
       "      <td>435.304</td>\n",
       "      <td>181.149</td>\n",
       "      <td>67.884</td>\n",
       "      <td>267.342</td>\n",
       "      <td>281.227</td>\n",
       "      <td>616.453</td>\n",
       "    </tr>\n",
       "    <tr>\n",
       "      <th>36</th>\n",
       "      <td>5</td>\n",
       "      <td>2</td>\n",
       "      <td>381.768</td>\n",
       "      <td>140.041</td>\n",
       "      <td>118.178</td>\n",
       "      <td>260.632</td>\n",
       "      <td>152.134</td>\n",
       "      <td>530.944</td>\n",
       "    </tr>\n",
       "  </tbody>\n",
       "</table>\n",
       "</div>"
      ],
      "text/plain": [
       "    Week of Month  Day of Week  Non-urgent Order  Urgent Order  Order Type A  \\\n",
       "0               1            4           316.307       223.270        61.543   \n",
       "32              4            3           435.304       181.149        67.884   \n",
       "36              5            2           381.768       140.041       118.178   \n",
       "\n",
       "    Order Type B  Order Type C  Total Orders  \n",
       "0        175.586       302.448       539.577  \n",
       "32       267.342       281.227       616.453  \n",
       "36       260.632       152.134       530.944  "
      ]
     },
     "execution_count": 58,
     "metadata": {},
     "output_type": "execute_result"
    }
   ],
   "source": [
    "df[df['Total Orders']>500]"
   ]
  },
  {
   "cell_type": "markdown",
   "metadata": {},
   "source": [
    "The following code block shows how we can use lists to limit records in a Pandas dataframe based limit on whether or not row values are in the list.\n",
    "\n",
    "[Back to Table of Contents](#Table of Contents)<br>"
   ]
  },
  {
   "cell_type": "code",
   "execution_count": 59,
   "metadata": {},
   "outputs": [
    {
     "data": {
      "text/html": [
       "<div>\n",
       "<style>\n",
       "    .dataframe thead tr:only-child th {\n",
       "        text-align: right;\n",
       "    }\n",
       "\n",
       "    .dataframe thead th {\n",
       "        text-align: left;\n",
       "    }\n",
       "\n",
       "    .dataframe tbody tr th {\n",
       "        vertical-align: top;\n",
       "    }\n",
       "</style>\n",
       "<table border=\"1\" class=\"dataframe\">\n",
       "  <thead>\n",
       "    <tr style=\"text-align: right;\">\n",
       "      <th></th>\n",
       "      <th>Week of Month</th>\n",
       "      <th>Day of Week</th>\n",
       "      <th>Non-urgent Order</th>\n",
       "      <th>Urgent Order</th>\n",
       "      <th>Order Type A</th>\n",
       "      <th>Order Type B</th>\n",
       "      <th>Order Type C</th>\n",
       "      <th>Total Orders</th>\n",
       "    </tr>\n",
       "  </thead>\n",
       "  <tbody>\n",
       "    <tr>\n",
       "      <th>0</th>\n",
       "      <td>1</td>\n",
       "      <td>4</td>\n",
       "      <td>316.307</td>\n",
       "      <td>223.270</td>\n",
       "      <td>61.543</td>\n",
       "      <td>175.586</td>\n",
       "      <td>302.448</td>\n",
       "      <td>539.577</td>\n",
       "    </tr>\n",
       "    <tr>\n",
       "      <th>3</th>\n",
       "      <td>2</td>\n",
       "      <td>2</td>\n",
       "      <td>171.297</td>\n",
       "      <td>127.667</td>\n",
       "      <td>41.542</td>\n",
       "      <td>113.294</td>\n",
       "      <td>162.284</td>\n",
       "      <td>317.120</td>\n",
       "    </tr>\n",
       "    <tr>\n",
       "      <th>5</th>\n",
       "      <td>2</td>\n",
       "      <td>4</td>\n",
       "      <td>110.925</td>\n",
       "      <td>96.360</td>\n",
       "      <td>30.792</td>\n",
       "      <td>50.704</td>\n",
       "      <td>125.868</td>\n",
       "      <td>207.364</td>\n",
       "    </tr>\n",
       "    <tr>\n",
       "      <th>8</th>\n",
       "      <td>3</td>\n",
       "      <td>2</td>\n",
       "      <td>218.856</td>\n",
       "      <td>124.381</td>\n",
       "      <td>33.973</td>\n",
       "      <td>148.274</td>\n",
       "      <td>162.044</td>\n",
       "      <td>344.291</td>\n",
       "    </tr>\n",
       "    <tr>\n",
       "      <th>10</th>\n",
       "      <td>3</td>\n",
       "      <td>4</td>\n",
       "      <td>178.433</td>\n",
       "      <td>102.793</td>\n",
       "      <td>45.706</td>\n",
       "      <td>111.036</td>\n",
       "      <td>124.678</td>\n",
       "      <td>281.420</td>\n",
       "    </tr>\n",
       "    <tr>\n",
       "      <th>13</th>\n",
       "      <td>4</td>\n",
       "      <td>2</td>\n",
       "      <td>220.343</td>\n",
       "      <td>141.406</td>\n",
       "      <td>46.241</td>\n",
       "      <td>120.865</td>\n",
       "      <td>196.296</td>\n",
       "      <td>363.402</td>\n",
       "    </tr>\n",
       "    <tr>\n",
       "      <th>15</th>\n",
       "      <td>4</td>\n",
       "      <td>4</td>\n",
       "      <td>122.736</td>\n",
       "      <td>124.256</td>\n",
       "      <td>56.167</td>\n",
       "      <td>78.101</td>\n",
       "      <td>112.724</td>\n",
       "      <td>246.992</td>\n",
       "    </tr>\n",
       "    <tr>\n",
       "      <th>18</th>\n",
       "      <td>5</td>\n",
       "      <td>2</td>\n",
       "      <td>240.660</td>\n",
       "      <td>163.720</td>\n",
       "      <td>59.135</td>\n",
       "      <td>157.681</td>\n",
       "      <td>187.564</td>\n",
       "      <td>404.380</td>\n",
       "    </tr>\n",
       "    <tr>\n",
       "      <th>20</th>\n",
       "      <td>1</td>\n",
       "      <td>4</td>\n",
       "      <td>130.129</td>\n",
       "      <td>98.927</td>\n",
       "      <td>42.904</td>\n",
       "      <td>43.962</td>\n",
       "      <td>142.383</td>\n",
       "      <td>229.249</td>\n",
       "    </tr>\n",
       "    <tr>\n",
       "      <th>23</th>\n",
       "      <td>2</td>\n",
       "      <td>2</td>\n",
       "      <td>266.741</td>\n",
       "      <td>141.437</td>\n",
       "      <td>58.721</td>\n",
       "      <td>139.034</td>\n",
       "      <td>211.646</td>\n",
       "      <td>409.401</td>\n",
       "    </tr>\n",
       "    <tr>\n",
       "      <th>25</th>\n",
       "      <td>2</td>\n",
       "      <td>4</td>\n",
       "      <td>148.139</td>\n",
       "      <td>85.310</td>\n",
       "      <td>35.576</td>\n",
       "      <td>79.997</td>\n",
       "      <td>123.253</td>\n",
       "      <td>238.826</td>\n",
       "    </tr>\n",
       "    <tr>\n",
       "      <th>28</th>\n",
       "      <td>3</td>\n",
       "      <td>2</td>\n",
       "      <td>299.770</td>\n",
       "      <td>133.375</td>\n",
       "      <td>57.810</td>\n",
       "      <td>236.248</td>\n",
       "      <td>196.732</td>\n",
       "      <td>490.790</td>\n",
       "    </tr>\n",
       "    <tr>\n",
       "      <th>30</th>\n",
       "      <td>3</td>\n",
       "      <td>4</td>\n",
       "      <td>206.206</td>\n",
       "      <td>92.160</td>\n",
       "      <td>45.555</td>\n",
       "      <td>148.718</td>\n",
       "      <td>104.186</td>\n",
       "      <td>298.459</td>\n",
       "    </tr>\n",
       "    <tr>\n",
       "      <th>33</th>\n",
       "      <td>4</td>\n",
       "      <td>4</td>\n",
       "      <td>235.106</td>\n",
       "      <td>110.874</td>\n",
       "      <td>70.376</td>\n",
       "      <td>154.242</td>\n",
       "      <td>121.417</td>\n",
       "      <td>346.035</td>\n",
       "    </tr>\n",
       "    <tr>\n",
       "      <th>36</th>\n",
       "      <td>5</td>\n",
       "      <td>2</td>\n",
       "      <td>381.768</td>\n",
       "      <td>140.041</td>\n",
       "      <td>118.178</td>\n",
       "      <td>260.632</td>\n",
       "      <td>152.134</td>\n",
       "      <td>530.944</td>\n",
       "    </tr>\n",
       "    <tr>\n",
       "      <th>38</th>\n",
       "      <td>5</td>\n",
       "      <td>4</td>\n",
       "      <td>193.957</td>\n",
       "      <td>111.859</td>\n",
       "      <td>47.002</td>\n",
       "      <td>99.892</td>\n",
       "      <td>159.462</td>\n",
       "      <td>306.356</td>\n",
       "    </tr>\n",
       "    <tr>\n",
       "      <th>40</th>\n",
       "      <td>2</td>\n",
       "      <td>2</td>\n",
       "      <td>252.298</td>\n",
       "      <td>150.708</td>\n",
       "      <td>77.388</td>\n",
       "      <td>154.863</td>\n",
       "      <td>182.936</td>\n",
       "      <td>415.187</td>\n",
       "    </tr>\n",
       "    <tr>\n",
       "      <th>42</th>\n",
       "      <td>2</td>\n",
       "      <td>4</td>\n",
       "      <td>126.030</td>\n",
       "      <td>108.055</td>\n",
       "      <td>53.366</td>\n",
       "      <td>69.150</td>\n",
       "      <td>111.987</td>\n",
       "      <td>234.503</td>\n",
       "    </tr>\n",
       "    <tr>\n",
       "      <th>45</th>\n",
       "      <td>3</td>\n",
       "      <td>2</td>\n",
       "      <td>187.810</td>\n",
       "      <td>167.455</td>\n",
       "      <td>59.042</td>\n",
       "      <td>130.098</td>\n",
       "      <td>168.254</td>\n",
       "      <td>357.394</td>\n",
       "    </tr>\n",
       "    <tr>\n",
       "      <th>47</th>\n",
       "      <td>3</td>\n",
       "      <td>4</td>\n",
       "      <td>127.805</td>\n",
       "      <td>114.813</td>\n",
       "      <td>39.025</td>\n",
       "      <td>110.740</td>\n",
       "      <td>94.470</td>\n",
       "      <td>244.235</td>\n",
       "    </tr>\n",
       "    <tr>\n",
       "      <th>50</th>\n",
       "      <td>4</td>\n",
       "      <td>2</td>\n",
       "      <td>222.282</td>\n",
       "      <td>120.324</td>\n",
       "      <td>41.418</td>\n",
       "      <td>135.189</td>\n",
       "      <td>165.999</td>\n",
       "      <td>342.606</td>\n",
       "    </tr>\n",
       "    <tr>\n",
       "      <th>52</th>\n",
       "      <td>4</td>\n",
       "      <td>4</td>\n",
       "      <td>96.494</td>\n",
       "      <td>87.294</td>\n",
       "      <td>32.653</td>\n",
       "      <td>81.576</td>\n",
       "      <td>74.372</td>\n",
       "      <td>188.601</td>\n",
       "    </tr>\n",
       "    <tr>\n",
       "      <th>55</th>\n",
       "      <td>5</td>\n",
       "      <td>2</td>\n",
       "      <td>158.716</td>\n",
       "      <td>158.133</td>\n",
       "      <td>59.131</td>\n",
       "      <td>92.639</td>\n",
       "      <td>165.079</td>\n",
       "      <td>316.849</td>\n",
       "    </tr>\n",
       "    <tr>\n",
       "      <th>57</th>\n",
       "      <td>5</td>\n",
       "      <td>4</td>\n",
       "      <td>193.534</td>\n",
       "      <td>109.639</td>\n",
       "      <td>58.378</td>\n",
       "      <td>142.382</td>\n",
       "      <td>102.687</td>\n",
       "      <td>303.447</td>\n",
       "    </tr>\n",
       "  </tbody>\n",
       "</table>\n",
       "</div>"
      ],
      "text/plain": [
       "    Week of Month  Day of Week  Non-urgent Order  Urgent Order  Order Type A  \\\n",
       "0               1            4           316.307       223.270        61.543   \n",
       "3               2            2           171.297       127.667        41.542   \n",
       "5               2            4           110.925        96.360        30.792   \n",
       "8               3            2           218.856       124.381        33.973   \n",
       "10              3            4           178.433       102.793        45.706   \n",
       "13              4            2           220.343       141.406        46.241   \n",
       "15              4            4           122.736       124.256        56.167   \n",
       "18              5            2           240.660       163.720        59.135   \n",
       "20              1            4           130.129        98.927        42.904   \n",
       "23              2            2           266.741       141.437        58.721   \n",
       "25              2            4           148.139        85.310        35.576   \n",
       "28              3            2           299.770       133.375        57.810   \n",
       "30              3            4           206.206        92.160        45.555   \n",
       "33              4            4           235.106       110.874        70.376   \n",
       "36              5            2           381.768       140.041       118.178   \n",
       "38              5            4           193.957       111.859        47.002   \n",
       "40              2            2           252.298       150.708        77.388   \n",
       "42              2            4           126.030       108.055        53.366   \n",
       "45              3            2           187.810       167.455        59.042   \n",
       "47              3            4           127.805       114.813        39.025   \n",
       "50              4            2           222.282       120.324        41.418   \n",
       "52              4            4            96.494        87.294        32.653   \n",
       "55              5            2           158.716       158.133        59.131   \n",
       "57              5            4           193.534       109.639        58.378   \n",
       "\n",
       "    Order Type B  Order Type C  Total Orders  \n",
       "0        175.586       302.448       539.577  \n",
       "3        113.294       162.284       317.120  \n",
       "5         50.704       125.868       207.364  \n",
       "8        148.274       162.044       344.291  \n",
       "10       111.036       124.678       281.420  \n",
       "13       120.865       196.296       363.402  \n",
       "15        78.101       112.724       246.992  \n",
       "18       157.681       187.564       404.380  \n",
       "20        43.962       142.383       229.249  \n",
       "23       139.034       211.646       409.401  \n",
       "25        79.997       123.253       238.826  \n",
       "28       236.248       196.732       490.790  \n",
       "30       148.718       104.186       298.459  \n",
       "33       154.242       121.417       346.035  \n",
       "36       260.632       152.134       530.944  \n",
       "38        99.892       159.462       306.356  \n",
       "40       154.863       182.936       415.187  \n",
       "42        69.150       111.987       234.503  \n",
       "45       130.098       168.254       357.394  \n",
       "47       110.740        94.470       244.235  \n",
       "50       135.189       165.999       342.606  \n",
       "52        81.576        74.372       188.601  \n",
       "55        92.639       165.079       316.849  \n",
       "57       142.382       102.687       303.447  "
      ]
     },
     "execution_count": 59,
     "metadata": {},
     "output_type": "execute_result"
    }
   ],
   "source": [
    "df[df['Day of Week'].isin([2,4])]"
   ]
  },
  {
   "cell_type": "markdown",
   "metadata": {},
   "source": [
    "The following code block shows that we can use multiple criteria to flter a Pandas dataframe column.\n",
    "\n",
    "**Note: The parentheses around each condition are necessary!!!**\n",
    "\n",
    "[Back to Table of Contents](#Table of Contents)<br>"
   ]
  },
  {
   "cell_type": "code",
   "execution_count": 60,
   "metadata": {},
   "outputs": [
    {
     "data": {
      "text/html": [
       "<div>\n",
       "<style>\n",
       "    .dataframe thead tr:only-child th {\n",
       "        text-align: right;\n",
       "    }\n",
       "\n",
       "    .dataframe thead th {\n",
       "        text-align: left;\n",
       "    }\n",
       "\n",
       "    .dataframe tbody tr th {\n",
       "        vertical-align: top;\n",
       "    }\n",
       "</style>\n",
       "<table border=\"1\" class=\"dataframe\">\n",
       "  <thead>\n",
       "    <tr style=\"text-align: right;\">\n",
       "      <th></th>\n",
       "      <th>Week of Month</th>\n",
       "      <th>Day of Week</th>\n",
       "      <th>Non-urgent Order</th>\n",
       "      <th>Urgent Order</th>\n",
       "      <th>Order Type A</th>\n",
       "      <th>Order Type B</th>\n",
       "      <th>Order Type C</th>\n",
       "      <th>Total Orders</th>\n",
       "    </tr>\n",
       "  </thead>\n",
       "  <tbody>\n",
       "    <tr>\n",
       "      <th>0</th>\n",
       "      <td>1</td>\n",
       "      <td>4</td>\n",
       "      <td>316.307</td>\n",
       "      <td>223.270</td>\n",
       "      <td>61.543</td>\n",
       "      <td>175.586</td>\n",
       "      <td>302.448</td>\n",
       "      <td>539.577</td>\n",
       "    </tr>\n",
       "    <tr>\n",
       "      <th>36</th>\n",
       "      <td>5</td>\n",
       "      <td>2</td>\n",
       "      <td>381.768</td>\n",
       "      <td>140.041</td>\n",
       "      <td>118.178</td>\n",
       "      <td>260.632</td>\n",
       "      <td>152.134</td>\n",
       "      <td>530.944</td>\n",
       "    </tr>\n",
       "  </tbody>\n",
       "</table>\n",
       "</div>"
      ],
      "text/plain": [
       "    Week of Month  Day of Week  Non-urgent Order  Urgent Order  Order Type A  \\\n",
       "0               1            4           316.307       223.270        61.543   \n",
       "36              5            2           381.768       140.041       118.178   \n",
       "\n",
       "    Order Type B  Order Type C  Total Orders  \n",
       "0        175.586       302.448       539.577  \n",
       "36       260.632       152.134       530.944  "
      ]
     },
     "execution_count": 60,
     "metadata": {},
     "output_type": "execute_result"
    }
   ],
   "source": [
    "df[(df['Total Orders']>500) & (df['Day of Week'].isin([2,4]))]"
   ]
  },
  {
   "cell_type": "markdown",
   "metadata": {},
   "source": [
    "### Aggregating and Summarizing a Pandas Dataframe\n",
    "<a id=\"Aggregating and Summarizing a Pandas Dataframe\"> </a>\n",
    "\n",
    "In addition to slicing data that exists in a Pandas dataframe object, we can aggregate the data using the `groupby()` function. The following code block aggregates the data by 'Day of Week' and immediately applies the `sum()` function to the grouped object.\n",
    "\n",
    "[Back to Table of Contents](#Table of Contents)<br>"
   ]
  },
  {
   "cell_type": "code",
   "execution_count": 61,
   "metadata": {},
   "outputs": [
    {
     "data": {
      "text/html": [
       "<div>\n",
       "<style>\n",
       "    .dataframe thead tr:only-child th {\n",
       "        text-align: right;\n",
       "    }\n",
       "\n",
       "    .dataframe thead th {\n",
       "        text-align: left;\n",
       "    }\n",
       "\n",
       "    .dataframe tbody tr th {\n",
       "        vertical-align: top;\n",
       "    }\n",
       "</style>\n",
       "<table border=\"1\" class=\"dataframe\">\n",
       "  <thead>\n",
       "    <tr style=\"text-align: right;\">\n",
       "      <th></th>\n",
       "      <th>Week of Month</th>\n",
       "      <th>Non-urgent Order</th>\n",
       "      <th>Urgent Order</th>\n",
       "      <th>Order Type A</th>\n",
       "      <th>Order Type B</th>\n",
       "      <th>Order Type C</th>\n",
       "      <th>Total Orders</th>\n",
       "    </tr>\n",
       "    <tr>\n",
       "      <th>Day of Week</th>\n",
       "      <th></th>\n",
       "      <th></th>\n",
       "      <th></th>\n",
       "      <th></th>\n",
       "      <th></th>\n",
       "      <th></th>\n",
       "      <th></th>\n",
       "    </tr>\n",
       "  </thead>\n",
       "  <tbody>\n",
       "    <tr>\n",
       "      <th>2</th>\n",
       "      <td>38</td>\n",
       "      <td>2620.541</td>\n",
       "      <td>1568.647</td>\n",
       "      <td>652.579</td>\n",
       "      <td>1688.817</td>\n",
       "      <td>1950.968</td>\n",
       "      <td>4292.364</td>\n",
       "    </tr>\n",
       "    <tr>\n",
       "      <th>3</th>\n",
       "      <td>38</td>\n",
       "      <td>2079.487</td>\n",
       "      <td>1545.427</td>\n",
       "      <td>599.053</td>\n",
       "      <td>1301.563</td>\n",
       "      <td>1746.565</td>\n",
       "      <td>3647.181</td>\n",
       "    </tr>\n",
       "    <tr>\n",
       "      <th>4</th>\n",
       "      <td>39</td>\n",
       "      <td>2185.801</td>\n",
       "      <td>1465.610</td>\n",
       "      <td>619.043</td>\n",
       "      <td>1346.086</td>\n",
       "      <td>1699.935</td>\n",
       "      <td>3665.064</td>\n",
       "    </tr>\n",
       "    <tr>\n",
       "      <th>5</th>\n",
       "      <td>34</td>\n",
       "      <td>1662.514</td>\n",
       "      <td>1352.594</td>\n",
       "      <td>610.970</td>\n",
       "      <td>1117.046</td>\n",
       "      <td>1559.603</td>\n",
       "      <td>3287.619</td>\n",
       "    </tr>\n",
       "    <tr>\n",
       "      <th>6</th>\n",
       "      <td>32</td>\n",
       "      <td>1804.953</td>\n",
       "      <td>1202.973</td>\n",
       "      <td>645.088</td>\n",
       "      <td>1100.279</td>\n",
       "      <td>1414.804</td>\n",
       "      <td>3160.171</td>\n",
       "    </tr>\n",
       "  </tbody>\n",
       "</table>\n",
       "</div>"
      ],
      "text/plain": [
       "             Week of Month  Non-urgent Order  Urgent Order  Order Type A  \\\n",
       "Day of Week                                                                \n",
       "2                       38          2620.541      1568.647       652.579   \n",
       "3                       38          2079.487      1545.427       599.053   \n",
       "4                       39          2185.801      1465.610       619.043   \n",
       "5                       34          1662.514      1352.594       610.970   \n",
       "6                       32          1804.953      1202.973       645.088   \n",
       "\n",
       "             Order Type B  Order Type C  Total Orders  \n",
       "Day of Week                                            \n",
       "2                1688.817      1950.968      4292.364  \n",
       "3                1301.563      1746.565      3647.181  \n",
       "4                1346.086      1699.935      3665.064  \n",
       "5                1117.046      1559.603      3287.619  \n",
       "6                1100.279      1414.804      3160.171  "
      ]
     },
     "execution_count": 61,
     "metadata": {},
     "output_type": "execute_result"
    }
   ],
   "source": [
    "df.groupby('Day of Week').sum()"
   ]
  },
  {
   "cell_type": "markdown",
   "metadata": {},
   "source": [
    "Of interest to Microsoft Excel users, Pandas also include a `pivot_table()` function that mimics an Excel pivot table. Information on the function, accessed using the `help()` function, follows.\n",
    "\n",
    "[Back to Table of Contents](#Table of Contents)<br>"
   ]
  },
  {
   "cell_type": "code",
   "execution_count": 62,
   "metadata": {},
   "outputs": [
    {
     "name": "stdout",
     "output_type": "stream",
     "text": [
      "Help on function pivot_table in module pandas.core.reshape.pivot:\n",
      "\n",
      "pivot_table(data, values=None, index=None, columns=None, aggfunc='mean', fill_value=None, margins=False, dropna=True, margins_name='All')\n",
      "    Create a spreadsheet-style pivot table as a DataFrame. The levels in the\n",
      "    pivot table will be stored in MultiIndex objects (hierarchical indexes) on\n",
      "    the index and columns of the result DataFrame\n",
      "    \n",
      "    Parameters\n",
      "    ----------\n",
      "    data : DataFrame\n",
      "    values : column to aggregate, optional\n",
      "    index : column, Grouper, array, or list of the previous\n",
      "        If an array is passed, it must be the same length as the data. The list\n",
      "        can contain any of the other types (except list).\n",
      "        Keys to group by on the pivot table index.  If an array is passed, it\n",
      "        is being used as the same manner as column values.\n",
      "    columns : column, Grouper, array, or list of the previous\n",
      "        If an array is passed, it must be the same length as the data. The list\n",
      "        can contain any of the other types (except list).\n",
      "        Keys to group by on the pivot table column.  If an array is passed, it\n",
      "        is being used as the same manner as column values.\n",
      "    aggfunc : function or list of functions, default numpy.mean\n",
      "        If list of functions passed, the resulting pivot table will have\n",
      "        hierarchical columns whose top level are the function names (inferred\n",
      "        from the function objects themselves)\n",
      "    fill_value : scalar, default None\n",
      "        Value to replace missing values with\n",
      "    margins : boolean, default False\n",
      "        Add all row / columns (e.g. for subtotal / grand totals)\n",
      "    dropna : boolean, default True\n",
      "        Do not include columns whose entries are all NaN\n",
      "    margins_name : string, default 'All'\n",
      "        Name of the row / column that will contain the totals\n",
      "        when margins is True.\n",
      "    \n",
      "    Examples\n",
      "    --------\n",
      "    >>> df\n",
      "       A   B   C      D\n",
      "    0  foo one small  1\n",
      "    1  foo one large  2\n",
      "    2  foo one large  2\n",
      "    3  foo two small  3\n",
      "    4  foo two small  3\n",
      "    5  bar one large  4\n",
      "    6  bar one small  5\n",
      "    7  bar two small  6\n",
      "    8  bar two large  7\n",
      "    \n",
      "    >>> table = pivot_table(df, values='D', index=['A', 'B'],\n",
      "    ...                     columns=['C'], aggfunc=np.sum)\n",
      "    >>> table\n",
      "              small  large\n",
      "    foo  one  1      4\n",
      "         two  6      NaN\n",
      "    bar  one  5      4\n",
      "         two  6      7\n",
      "    \n",
      "    Returns\n",
      "    -------\n",
      "    table : DataFrame\n",
      "    \n",
      "    See also\n",
      "    --------\n",
      "    DataFrame.pivot : pivot without aggregation that can handle\n",
      "        non-numeric data\n",
      "\n"
     ]
    }
   ],
   "source": [
    "help(pd.pivot_table)"
   ]
  },
  {
   "cell_type": "markdown",
   "metadata": {},
   "source": [
    "The following code block  creates a pivot table that sums the total orders by 'Day of Week' and 'Week of Month'. Note that the sum function if from NumPy!"
   ]
  },
  {
   "cell_type": "code",
   "execution_count": 63,
   "metadata": {},
   "outputs": [
    {
     "data": {
      "text/html": [
       "<div>\n",
       "<style>\n",
       "    .dataframe thead tr:only-child th {\n",
       "        text-align: right;\n",
       "    }\n",
       "\n",
       "    .dataframe thead th {\n",
       "        text-align: left;\n",
       "    }\n",
       "\n",
       "    .dataframe tbody tr th {\n",
       "        vertical-align: top;\n",
       "    }\n",
       "</style>\n",
       "<table border=\"1\" class=\"dataframe\">\n",
       "  <thead>\n",
       "    <tr style=\"text-align: right;\">\n",
       "      <th>Day of Week</th>\n",
       "      <th>2</th>\n",
       "      <th>3</th>\n",
       "      <th>4</th>\n",
       "      <th>5</th>\n",
       "      <th>6</th>\n",
       "    </tr>\n",
       "    <tr>\n",
       "      <th>Week of Month</th>\n",
       "      <th></th>\n",
       "      <th></th>\n",
       "      <th></th>\n",
       "      <th></th>\n",
       "      <th></th>\n",
       "    </tr>\n",
       "  </thead>\n",
       "  <tbody>\n",
       "    <tr>\n",
       "      <th>1</th>\n",
       "      <td>NaN</td>\n",
       "      <td>298.560</td>\n",
       "      <td>768.826</td>\n",
       "      <td>460.979</td>\n",
       "      <td>843.416</td>\n",
       "    </tr>\n",
       "    <tr>\n",
       "      <th>2</th>\n",
       "      <td>1141.708</td>\n",
       "      <td>709.554</td>\n",
       "      <td>680.693</td>\n",
       "      <td>733.365</td>\n",
       "      <td>721.134</td>\n",
       "    </tr>\n",
       "    <tr>\n",
       "      <th>3</th>\n",
       "      <td>1192.475</td>\n",
       "      <td>797.331</td>\n",
       "      <td>824.114</td>\n",
       "      <td>969.778</td>\n",
       "      <td>563.239</td>\n",
       "    </tr>\n",
       "    <tr>\n",
       "      <th>4</th>\n",
       "      <td>706.008</td>\n",
       "      <td>1221.965</td>\n",
       "      <td>781.628</td>\n",
       "      <td>818.547</td>\n",
       "      <td>700.482</td>\n",
       "    </tr>\n",
       "    <tr>\n",
       "      <th>5</th>\n",
       "      <td>1252.173</td>\n",
       "      <td>619.771</td>\n",
       "      <td>609.803</td>\n",
       "      <td>304.950</td>\n",
       "      <td>331.900</td>\n",
       "    </tr>\n",
       "  </tbody>\n",
       "</table>\n",
       "</div>"
      ],
      "text/plain": [
       "Day of Week           2         3        4        5        6\n",
       "Week of Month                                               \n",
       "1                   NaN   298.560  768.826  460.979  843.416\n",
       "2              1141.708   709.554  680.693  733.365  721.134\n",
       "3              1192.475   797.331  824.114  969.778  563.239\n",
       "4               706.008  1221.965  781.628  818.547  700.482\n",
       "5              1252.173   619.771  609.803  304.950  331.900"
      ]
     },
     "execution_count": 63,
     "metadata": {},
     "output_type": "execute_result"
    }
   ],
   "source": [
    "import numpy as np\n",
    "pd.pivot_table(df, values='Total Orders', index=['Week of Month'], columns=['Day of Week'],aggfunc=np.sum)"
   ]
  },
  {
   "cell_type": "markdown",
   "metadata": {},
   "source": [
    "Note in the previous example that we had missing data when the 'Day of Week' is two and the 'Week of Month' is one. The `pivot_table()` function allows you to define a default fill value for cases where data is missing. The following code block creates the same pivot table, but fills missing values with 0.\n",
    "\n",
    "[Back to Table of Contents](#Table of Contents)<br>"
   ]
  },
  {
   "cell_type": "code",
   "execution_count": 64,
   "metadata": {},
   "outputs": [
    {
     "data": {
      "text/html": [
       "<div>\n",
       "<style>\n",
       "    .dataframe thead tr:only-child th {\n",
       "        text-align: right;\n",
       "    }\n",
       "\n",
       "    .dataframe thead th {\n",
       "        text-align: left;\n",
       "    }\n",
       "\n",
       "    .dataframe tbody tr th {\n",
       "        vertical-align: top;\n",
       "    }\n",
       "</style>\n",
       "<table border=\"1\" class=\"dataframe\">\n",
       "  <thead>\n",
       "    <tr style=\"text-align: right;\">\n",
       "      <th>Day of Week</th>\n",
       "      <th>2</th>\n",
       "      <th>3</th>\n",
       "      <th>4</th>\n",
       "      <th>5</th>\n",
       "      <th>6</th>\n",
       "    </tr>\n",
       "    <tr>\n",
       "      <th>Week of Month</th>\n",
       "      <th></th>\n",
       "      <th></th>\n",
       "      <th></th>\n",
       "      <th></th>\n",
       "      <th></th>\n",
       "    </tr>\n",
       "  </thead>\n",
       "  <tbody>\n",
       "    <tr>\n",
       "      <th>1</th>\n",
       "      <td>0.000</td>\n",
       "      <td>298.560</td>\n",
       "      <td>768.826</td>\n",
       "      <td>460.979</td>\n",
       "      <td>843.416</td>\n",
       "    </tr>\n",
       "    <tr>\n",
       "      <th>2</th>\n",
       "      <td>1141.708</td>\n",
       "      <td>709.554</td>\n",
       "      <td>680.693</td>\n",
       "      <td>733.365</td>\n",
       "      <td>721.134</td>\n",
       "    </tr>\n",
       "    <tr>\n",
       "      <th>3</th>\n",
       "      <td>1192.475</td>\n",
       "      <td>797.331</td>\n",
       "      <td>824.114</td>\n",
       "      <td>969.778</td>\n",
       "      <td>563.239</td>\n",
       "    </tr>\n",
       "    <tr>\n",
       "      <th>4</th>\n",
       "      <td>706.008</td>\n",
       "      <td>1221.965</td>\n",
       "      <td>781.628</td>\n",
       "      <td>818.547</td>\n",
       "      <td>700.482</td>\n",
       "    </tr>\n",
       "    <tr>\n",
       "      <th>5</th>\n",
       "      <td>1252.173</td>\n",
       "      <td>619.771</td>\n",
       "      <td>609.803</td>\n",
       "      <td>304.950</td>\n",
       "      <td>331.900</td>\n",
       "    </tr>\n",
       "  </tbody>\n",
       "</table>\n",
       "</div>"
      ],
      "text/plain": [
       "Day of Week           2         3        4        5        6\n",
       "Week of Month                                               \n",
       "1                 0.000   298.560  768.826  460.979  843.416\n",
       "2              1141.708   709.554  680.693  733.365  721.134\n",
       "3              1192.475   797.331  824.114  969.778  563.239\n",
       "4               706.008  1221.965  781.628  818.547  700.482\n",
       "5              1252.173   619.771  609.803  304.950  331.900"
      ]
     },
     "execution_count": 64,
     "metadata": {},
     "output_type": "execute_result"
    }
   ],
   "source": [
    "import numpy as np\n",
    "pd.pivot_table(df, values='Total Orders', index=['Week of Month'], columns=['Day of Week'],aggfunc=np.sum,fill_value=0)"
   ]
  },
  {
   "cell_type": "markdown",
   "metadata": {},
   "source": [
    "Plotting a Pandas pivot table can be done very simply by appending `.plot()` to the pivotable statement and adding an appropriate plotting axis. The following code block provides an example.\n",
    "\n",
    "**Note: Pandas plotting functionality utilizes the `matplotlib` library. Although this notebook does not discuss `matplotlib`, it recieves much attention in published books and online communities.**\n",
    "\n",
    "[Back to Table of Contents](#Table of Contents)<br>"
   ]
  },
  {
   "cell_type": "code",
   "execution_count": 65,
   "metadata": {},
   "outputs": [
    {
     "data": {
      "image/png": "[encoded data removed]",
      "text/plain": [
       "<matplotlib.figure.Figure at 0x20a13a98080>"
      ]
     },
     "metadata": {},
     "output_type": "display_data"
    }
   ],
   "source": [
    "import matplotlib.pyplot as plt\n",
    "\n",
    "fig, ax = plt.subplots(figsize=(12,8))\n",
    "pd.pivot_table(df, values='Total Orders', index=['Week of Month'],\\\n",
    "               columns=['Day of Week'],aggfunc=np.sum,fill_value=0).plot(ax=ax)\n",
    "ax.set_title('Plot of Pandas Pivot Table',fontsize=25)\n",
    "ax.set_xlabel('Week of Month',fontsize = 20)\n",
    "ax.set_ylabel('Sum of Total Orders',fontsize = 20)\n",
    "ax.xaxis.set_tick_params(labelsize=20)\n",
    "ax.yaxis.set_tick_params(labelsize=20)\n",
    "\n",
    "\n",
    "plt.show()"
   ]
  },
  {
   "cell_type": "markdown",
   "metadata": {},
   "source": [
    "Although we will not elaborate on these capabilities further, Pandas also allows users to define custom function that can be applied to entire data frames. The following code block show an example where the custom function essentially determine the range of values in each column of a Pandas dataframe.\n",
    "\n",
    "[Back to Table of Contents](#Table of Contents)<br>"
   ]
  },
  {
   "cell_type": "code",
   "execution_count": 66,
   "metadata": {},
   "outputs": [
    {
     "data": {
      "text/plain": [
       "Week of Month         4.000\n",
       "Day of Week           4.000\n",
       "Non-urgent Order    391.653\n",
       "Urgent Order        145.899\n",
       "Order Type A         96.352\n",
       "Order Type B        242.217\n",
       "Order Type C        228.076\n",
       "Total Orders        487.041\n",
       "dtype: float64"
      ]
     },
     "execution_count": 66,
     "metadata": {},
     "output_type": "execute_result"
    }
   ],
   "source": [
    "df.apply(lambda x: x.max() - x.min())"
   ]
  },
  {
   "cell_type": "markdown",
   "metadata": {},
   "source": [
    "# Applications\n",
    "<a id=\"Applications\"> </a>\n",
    "\n",
    "This section of the notebook uses Python to solve problems in different application areas that fall under the umbrella of operations management.\n",
    "\n",
    "[Back to Table of Contents](#Table of Contents)<br>"
   ]
  },
  {
   "cell_type": "markdown",
   "metadata": {},
   "source": [
    "## Time Series Forecasting\n",
    "<a id=\"Time Series Forecasting\"> </a>\n",
    "\n",
    "The following section will look at some of the time series forecasting capabilities of Python. The following code block reads the data that we will be using for the forecasting demonstration into a `pandas` dataframe. The data provides quarterly sales data for a French company. Once read, the year and quarter is combined into a single cell and set as the index. Once the index is set, the first 15 columns are printed.\n",
    "\n",
    "[Back to Table of Contents](#Table of Contents)<br>"
   ]
  },
  {
   "cell_type": "code",
   "execution_count": 67,
   "metadata": {},
   "outputs": [
    {
     "data": {
      "text/html": [
       "<div>\n",
       "<style>\n",
       "    .dataframe thead tr:only-child th {\n",
       "        text-align: right;\n",
       "    }\n",
       "\n",
       "    .dataframe thead th {\n",
       "        text-align: left;\n",
       "    }\n",
       "\n",
       "    .dataframe tbody tr th {\n",
       "        vertical-align: top;\n",
       "    }\n",
       "</style>\n",
       "<table border=\"1\" class=\"dataframe\">\n",
       "  <thead>\n",
       "    <tr style=\"text-align: right;\">\n",
       "      <th></th>\n",
       "      <th>Quarter</th>\n",
       "      <th>Year</th>\n",
       "      <th>Sales</th>\n",
       "    </tr>\n",
       "    <tr>\n",
       "      <th>Index</th>\n",
       "      <th></th>\n",
       "      <th></th>\n",
       "      <th></th>\n",
       "    </tr>\n",
       "  </thead>\n",
       "  <tbody>\n",
       "    <tr>\n",
       "      <th>2010-03-31</th>\n",
       "      <td>Q1</td>\n",
       "      <td>2010</td>\n",
       "      <td>362</td>\n",
       "    </tr>\n",
       "    <tr>\n",
       "      <th>2010-06-30</th>\n",
       "      <td>Q2</td>\n",
       "      <td>2010</td>\n",
       "      <td>385</td>\n",
       "    </tr>\n",
       "    <tr>\n",
       "      <th>2010-09-30</th>\n",
       "      <td>Q3</td>\n",
       "      <td>2010</td>\n",
       "      <td>432</td>\n",
       "    </tr>\n",
       "    <tr>\n",
       "      <th>2010-12-31</th>\n",
       "      <td>Q4</td>\n",
       "      <td>2010</td>\n",
       "      <td>341</td>\n",
       "    </tr>\n",
       "    <tr>\n",
       "      <th>2011-03-31</th>\n",
       "      <td>Q1</td>\n",
       "      <td>2011</td>\n",
       "      <td>382</td>\n",
       "    </tr>\n",
       "    <tr>\n",
       "      <th>2011-06-30</th>\n",
       "      <td>Q2</td>\n",
       "      <td>2011</td>\n",
       "      <td>409</td>\n",
       "    </tr>\n",
       "    <tr>\n",
       "      <th>2011-09-30</th>\n",
       "      <td>Q3</td>\n",
       "      <td>2011</td>\n",
       "      <td>498</td>\n",
       "    </tr>\n",
       "    <tr>\n",
       "      <th>2011-12-31</th>\n",
       "      <td>Q4</td>\n",
       "      <td>2011</td>\n",
       "      <td>387</td>\n",
       "    </tr>\n",
       "    <tr>\n",
       "      <th>2012-03-31</th>\n",
       "      <td>Q1</td>\n",
       "      <td>2012</td>\n",
       "      <td>473</td>\n",
       "    </tr>\n",
       "    <tr>\n",
       "      <th>2012-06-30</th>\n",
       "      <td>Q2</td>\n",
       "      <td>2012</td>\n",
       "      <td>513</td>\n",
       "    </tr>\n",
       "    <tr>\n",
       "      <th>2012-09-30</th>\n",
       "      <td>Q3</td>\n",
       "      <td>2012</td>\n",
       "      <td>582</td>\n",
       "    </tr>\n",
       "    <tr>\n",
       "      <th>2012-12-31</th>\n",
       "      <td>Q4</td>\n",
       "      <td>2012</td>\n",
       "      <td>474</td>\n",
       "    </tr>\n",
       "    <tr>\n",
       "      <th>2013-03-31</th>\n",
       "      <td>Q1</td>\n",
       "      <td>2013</td>\n",
       "      <td>544</td>\n",
       "    </tr>\n",
       "    <tr>\n",
       "      <th>2013-06-30</th>\n",
       "      <td>Q2</td>\n",
       "      <td>2013</td>\n",
       "      <td>582</td>\n",
       "    </tr>\n",
       "    <tr>\n",
       "      <th>2013-09-30</th>\n",
       "      <td>Q3</td>\n",
       "      <td>2013</td>\n",
       "      <td>681</td>\n",
       "    </tr>\n",
       "  </tbody>\n",
       "</table>\n",
       "</div>"
      ],
      "text/plain": [
       "           Quarter  Year  Sales\n",
       "Index                          \n",
       "2010-03-31      Q1  2010    362\n",
       "2010-06-30      Q2  2010    385\n",
       "2010-09-30      Q3  2010    432\n",
       "2010-12-31      Q4  2010    341\n",
       "2011-03-31      Q1  2011    382\n",
       "2011-06-30      Q2  2011    409\n",
       "2011-09-30      Q3  2011    498\n",
       "2011-12-31      Q4  2011    387\n",
       "2012-03-31      Q1  2012    473\n",
       "2012-06-30      Q2  2012    513\n",
       "2012-09-30      Q3  2012    582\n",
       "2012-12-31      Q4  2012    474\n",
       "2013-03-31      Q1  2013    544\n",
       "2013-06-30      Q2  2013    582\n",
       "2013-09-30      Q3  2013    681"
      ]
     },
     "execution_count": 67,
     "metadata": {},
     "output_type": "execute_result"
    }
   ],
   "source": [
    "import pandas as pd\n",
    "import numpy as np\n",
    "\n",
    "data = pd.read_csv('data/French_Company.csv')\n",
    "data['Index'] = data.Year.map(str)+data.Quarter\n",
    "data['Index'] = pd.to_datetime(data['Index'].str.replace(' ', '')) + pd.offsets.QuarterEnd(0)\n",
    "data.set_index(\"Index\",inplace=True)\n",
    "data.head(15)"
   ]
  },
  {
   "cell_type": "markdown",
   "metadata": {},
   "source": [
    "The following code block extracts the sales column from the `pandas` dataframe and stores it in an object named *ts*.\n",
    "\n",
    "[Back to Table of Contents](#Table of Contents)<br>"
   ]
  },
  {
   "cell_type": "code",
   "execution_count": 68,
   "metadata": {},
   "outputs": [
    {
     "data": {
      "text/plain": [
       "Index\n",
       "2010-03-31    362\n",
       "2010-06-30    385\n",
       "2010-09-30    432\n",
       "2010-12-31    341\n",
       "2011-03-31    382\n",
       "2011-06-30    409\n",
       "2011-09-30    498\n",
       "2011-12-31    387\n",
       "2012-03-31    473\n",
       "2012-06-30    513\n",
       "Name: Sales, dtype: int64"
      ]
     },
     "execution_count": 68,
     "metadata": {},
     "output_type": "execute_result"
    }
   ],
   "source": [
    "ts = data['Sales']\n",
    "ts.head(10)"
   ]
  },
  {
   "cell_type": "markdown",
   "metadata": {},
   "source": [
    "The following code block plots the times series data stored in the *ts* object.\n",
    "\n",
    "[Back to Table of Contents](#Table of Contents)<br>"
   ]
  },
  {
   "cell_type": "code",
   "execution_count": 69,
   "metadata": {},
   "outputs": [
    {
     "data": {
      "image/png": "[encoded data removed]",
      "text/plain": [
       "<matplotlib.figure.Figure at 0x20a13b08588>"
      ]
     },
     "metadata": {},
     "output_type": "display_data"
    }
   ],
   "source": [
    "import matplotlib.pyplot as plt\n",
    "tnrfont = {'fontname':'Times New Roman'}\n",
    "\n",
    "fig, ax = plt.subplots(figsize=(12,8))\n",
    "ax.plot(ts)\n",
    "ax.set_title('Time Series',fontsize=25)\n",
    "ax.set_xlabel('Time',fontsize = 20)\n",
    "ax.set_ylabel('Value',fontsize = 20)\n",
    "ax.xaxis.set_tick_params(labelsize=20)\n",
    "ax.yaxis.set_tick_params(labelsize=20)\n",
    "plt.show() "
   ]
  },
  {
   "cell_type": "markdown",
   "metadata": {},
   "source": [
    "The following code block plots the times series data stored in the *ts* object along with a moving average forecast. The plot is interactive so that users can see how the forecast changes as the number of periods included in the moving average ($n$) varies.\n",
    "\n",
    "[Back to Table of Contents](#Table of Contents)<br>"
   ]
  },
  {
   "cell_type": "code",
   "execution_count": 70,
   "metadata": {},
   "outputs": [
    {
     "data": {
      "application/vnd.jupyter.widget-view+json": {
       "model_id": "863f1f03f0bf42b88f2de83dd1ee5c59",
       "version_major": 2,
       "version_minor": 0
      },
      "text/plain": [
       "A Jupyter Widget"
      ]
     },
     "metadata": {},
     "output_type": "display_data"
    }
   ],
   "source": [
    "from ipywidgets import interact\n",
    "@interact(n = (2, 18, 1))\n",
    "\n",
    "def simulate(n = 2):\n",
    "    moving_avg = ts.rolling(window=n,center=False).mean()\n",
    "    \n",
    "    fig, ax = plt.subplots(figsize=(12,8))\n",
    "    ax.plot(ts)\n",
    "    ax.plot(moving_avg, color='red')\n",
    "    ax.set_title('Weighted Moving Average Forecast',fontsize=25)\n",
    "    ax.set_xlabel('Time',fontsize = 20)\n",
    "    ax.set_ylabel('Value',fontsize = 20)\n",
    "    ax.xaxis.set_tick_params(labelsize=20)\n",
    "    ax.yaxis.set_tick_params(labelsize=20)\n",
    "    plt.show()   "
   ]
  },
  {
   "cell_type": "markdown",
   "metadata": {},
   "source": [
    "The following code block plots the times series data stored in the *ts* object along with a exponentially weighted moving average forecast. The plot is interactive so that users can see how the forecast changes as the half-life of the weighting ($n$) varies.\n",
    "\n",
    "[Back to Table of Contents](#Table of Contents)<br>"
   ]
  },
  {
   "cell_type": "code",
   "execution_count": 71,
   "metadata": {},
   "outputs": [
    {
     "data": {
      "application/vnd.jupyter.widget-view+json": {
       "model_id": "202c552c905b41be9d9ab6505c42548d",
       "version_major": 2,
       "version_minor": 0
      },
      "text/plain": [
       "A Jupyter Widget"
      ]
     },
     "metadata": {},
     "output_type": "display_data"
    }
   ],
   "source": [
    "from ipywidgets import interact\n",
    "@interact(n = (2, 18, 1))\n",
    "\n",
    "def simulate(n = 2):\n",
    "    expwighted_avg = ts.ewm(halflife=n,min_periods=0,adjust=True,ignore_na=False).mean()\n",
    "    \n",
    "    fig, ax = plt.subplots(figsize=(12,8))\n",
    "    ax.plot(ts)\n",
    "    ax.plot(expwighted_avg, color='red')\n",
    "    ax.set_title('Exponential Weighted Moving Average Forecast',fontsize=25)\n",
    "    ax.set_xlabel('Time',fontsize = 20)\n",
    "    ax.set_ylabel('Value',fontsize = 20)\n",
    "    ax.xaxis.set_tick_params(labelsize=20)\n",
    "    ax.yaxis.set_tick_params(labelsize=20)\n",
    "    plt.show()   "
   ]
  },
  {
   "cell_type": "markdown",
   "metadata": {},
   "source": [
    "The following code block decomposes the time series into trend, seasonal, and residual components. These components are plotted with the original time series.\n",
    "\n",
    "[Back to Table of Contents](#Table of Contents)<br>"
   ]
  },
  {
   "cell_type": "code",
   "execution_count": 72,
   "metadata": {},
   "outputs": [
    {
     "name": "stderr",
     "output_type": "stream",
     "text": [
      "C:\\Users\\nkfreeman\\AppData\\Local\\Continuum\\anaconda3\\lib\\site-packages\\statsmodels\\compat\\pandas.py:56: FutureWarning: The pandas.core.datetools module is deprecated and will be removed in a future version. Please use the pandas.tseries module instead.\n",
      "  from pandas.core import datetools\n"
     ]
    },
    {
     "data": {
      "image/png": "[encoded data removed]",
      "text/plain": [
       "<matplotlib.figure.Figure at 0x20a116ee898>"
      ]
     },
     "metadata": {},
     "output_type": "display_data"
    }
   ],
   "source": [
    "from statsmodels.tsa.seasonal import seasonal_decompose\n",
    "decomposition = seasonal_decompose(ts,'multiplicative')\n",
    "\n",
    "trend = decomposition.trend\n",
    "seasonal = decomposition.seasonal\n",
    "residual = decomposition.resid\n",
    "\n",
    "fig, ((ax1,ax2),(ax3,ax4)) = plt.subplots(2,2,figsize=(16,9))\n",
    "ax1.plot(ts, label='Original')\n",
    "ax1.legend(loc='best',fontsize='xx-large')\n",
    "ax1.xaxis.set_tick_params(labelsize=12)\n",
    "ax1.yaxis.set_tick_params(labelsize=12)\n",
    "\n",
    "ax2.plot(trend, label='Trend')\n",
    "ax2.legend(loc='best',fontsize='xx-large')\n",
    "ax2.xaxis.set_tick_params(labelsize=12)\n",
    "ax2.yaxis.set_tick_params(labelsize=12)\n",
    "\n",
    "ax3.plot(seasonal,label='Seasonality')\n",
    "ax3.legend(loc='best',fontsize='xx-large')\n",
    "ax3.xaxis.set_tick_params(labelsize=12)\n",
    "ax3.yaxis.set_tick_params(labelsize=12)\n",
    "\n",
    "ax4.plot(residual, label='Residuals')\n",
    "ax4.legend(loc='best',fontsize='xx-large')\n",
    "ax4.xaxis.set_tick_params(labelsize=12)\n",
    "ax4.yaxis.set_tick_params(labelsize=12)\n",
    "plt.show()    "
   ]
  },
  {
   "cell_type": "markdown",
   "metadata": {},
   "source": [
    "### Triple Exponential Smoothing (Holt-Winters Method)\n",
    "<a id=\"Triple Exponential Smoothing\"> </a>\n",
    "\n",
    "In this section, we will apply triple exponential smoothing (Holt-Winters method) to the time series data to generate a forecast. The following code block provides three functions that will be used to generate the forecast. The function were mostly copied from those found at https://grisha.org/blog/2016/02/17/triple-exponential-smoothing-forecasting-part-iii/ on 1/5/2018. \n",
    "\n",
    "[Back to Table of Contents](#Table of Contents)<br>"
   ]
  },
  {
   "cell_type": "code",
   "execution_count": 73,
   "metadata": {},
   "outputs": [],
   "source": [
    "def initial_trend(series, slen):\n",
    "    sum = 0.0\n",
    "    for i in range(slen):\n",
    "        sum += float(series[i+slen] - series[i]) / slen\n",
    "    return sum / slen\n",
    "\n",
    "def initial_seasonal_components(series, slen):\n",
    "    seasonals = {}\n",
    "    season_averages = []\n",
    "    n_seasons = int(len(series)/slen)\n",
    "    # compute season averages\n",
    "    for j in range(n_seasons):\n",
    "        season_averages.append(sum(series[slen*j:slen*j+slen])/float(slen))\n",
    "    # compute initial values\n",
    "    for i in range(slen):\n",
    "        sum_of_vals_over_avg = 0.0\n",
    "        for j in range(n_seasons):\n",
    "            sum_of_vals_over_avg += series[slen*j+i]-season_averages[j]\n",
    "        seasonals[i] = sum_of_vals_over_avg/n_seasons\n",
    "    return seasonals\n",
    "\n",
    "def triple_exponential_smoothing(series, slen, alpha, beta, gamma, n_preds):\n",
    "    result = []\n",
    "    seasonals = initial_seasonal_components(series, slen)\n",
    "    for i in range(len(series)+n_preds):\n",
    "        if i == 0: # initial values\n",
    "            smooth = series[0]\n",
    "            trend = initial_trend(series, slen)\n",
    "            result.append(series[0])\n",
    "            continue\n",
    "        if i >= len(series): # we are forecasting\n",
    "            m = i - len(series) + 1\n",
    "            result.append((smooth + m*trend) + seasonals[i%slen])\n",
    "        else:\n",
    "            val = series[i]\n",
    "            last_smooth, smooth = smooth, alpha*(val-seasonals[i%slen]) + (1-alpha)*(smooth+trend)\n",
    "            trend = beta * (smooth-last_smooth) + (1-beta)*trend\n",
    "            seasonals[i%slen] = gamma*(val-smooth) + (1-gamma)*seasonals[i%slen]\n",
    "            result.append(smooth+trend+seasonals[i%slen])\n",
    "    return result"
   ]
  },
  {
   "cell_type": "markdown",
   "metadata": {},
   "source": [
    "The following code block plots the times series data stored in the *ts* object along with the Holt-Winters. The plot is interactive so that users can see how the forecast changes as the smoothing parameters vary.\n",
    "\n",
    "[Back to Table of Contents](#Table of Contents)<br>"
   ]
  },
  {
   "cell_type": "code",
   "execution_count": 84,
   "metadata": {},
   "outputs": [
    {
     "data": {
      "application/vnd.jupyter.widget-view+json": {
       "model_id": "59782ad055ef45d4803407a12e1b63d0",
       "version_major": 2,
       "version_minor": 0
      },
      "text/plain": [
       "A Jupyter Widget"
      ]
     },
     "metadata": {},
     "output_type": "display_data"
    }
   ],
   "source": [
    "@interact(alphav = (0.00, 1.01, 0.05), betav = (0.00, 1.01, 0.05), gammav = (0.00, 1.01, 0.05))\n",
    "\n",
    "def myfunc(alphav = 0.00, betav = 0.00, gammav = 0.00):\n",
    "    myforecast = triple_exponential_smoothing(ts, 4, alphav, betav, gammav, 4)\n",
    "    fig, ax = plt.subplots(figsize=(12,8))\n",
    "    ax.plot(ts.values,label='Data')\n",
    "    ax.plot(myforecast,label='Forecast',color='green')\n",
    "    ax.set_title('Triple Exponential Smoothing Forecast (Holt-Winters)',fontsize=25)\n",
    "    ax.set_xlabel('Time',fontsize = 20)\n",
    "    ax.set_ylabel('Value',fontsize = 20)\n",
    "    ax.xaxis.set_tick_params(labelsize=20)\n",
    "    ax.yaxis.set_tick_params(labelsize=20)\n",
    "    ax.legend(fontsize='large')\n",
    "    plt.show()"
   ]
  },
  {
   "cell_type": "markdown",
   "metadata": {},
   "source": [
    "## Economic Order Quantity (EOQ)\n",
    "<a id=\"Economic Order Quantity\"> </a>\n",
    "\n",
    "The *Economic Order Quantity* ($EOQ$) is determined by finding the cost where the derivative of the total annual cost curve equals zero. The total annual cost of ordering $Q$ units (under the $EOQ$ assumptions) is given by:\n",
    "$$c_{r}\\left(\\frac{A}{Q}\\right)+c_{h}\\left(\\frac{Q}{2}\\right)+c_{u}A,$$\n",
    "where $A$ denotes the annual demand, $c_{r}$ denotes the reorder cost, $c_{h}$ denotes the holding cost ($\\$/unit/year$), and $c_{u}$ denotes the unit cost.\n",
    "\n",
    "The following code block computes the derivative of the given total cost function, with respect to $Q$.\n",
    "\n",
    "[Back to Table of Contents](#Table of Contents)<br>"
   ]
  },
  {
   "cell_type": "code",
   "execution_count": 75,
   "metadata": {},
   "outputs": [
    {
     "name": "stdout",
     "output_type": "stream",
     "text": [
      "The derivative of the total annual cost function with respect to Q is: -A*cr/Q**2 + ch/2\n"
     ]
    }
   ],
   "source": [
    "import numpy as np\n",
    "import matplotlib.pyplot as plt\n",
    "from sympy import *\n",
    "\n",
    "Q = Symbol('Q')\n",
    "A = Symbol('A')\n",
    "cr = Symbol('cr')\n",
    "ch = Symbol('ch')\n",
    "cu = Symbol('cu')\n",
    "TAC = (A*cr)/Q + (Q/2)*ch + cu*A\n",
    "TAC_prime = TAC.diff(Q)\n",
    "print(\"The derivative of the total annual cost function with respect to Q is:\",TAC_prime)"
   ]
  },
  {
   "cell_type": "markdown",
   "metadata": {},
   "source": [
    "The following code block solves for $Q$ after setting the given derivative equal to zero.\n",
    "\n",
    "[Back to Table of Contents](#Table of Contents)<br>"
   ]
  },
  {
   "cell_type": "code",
   "execution_count": 76,
   "metadata": {},
   "outputs": [
    {
     "name": "stdout",
     "output_type": "stream",
     "text": [
      "Solving the derivative for Q yields: [-sqrt(2)*sqrt(A*cr/ch), sqrt(2)*sqrt(A*cr/ch)]\n"
     ]
    }
   ],
   "source": [
    "print(\"Solving the derivative for Q yields:\",solve(TAC_prime, Q))"
   ]
  },
  {
   "cell_type": "markdown",
   "metadata": {},
   "source": [
    "The previous output provides negative and positive solutions. Since we know that the $EOQ$ is positive, we only keep the positive part, i.e., \n",
    "\n",
    "$$EOQ = \\sqrt{\\frac{2Ac_{r}}{c_{h}}}.$$\n",
    "\n",
    "The following code block defines a function to compute the EOQ.\n",
    "\n",
    "[Back to Table of Contents](#Table of Contents)<br>"
   ]
  },
  {
   "cell_type": "code",
   "execution_count": 77,
   "metadata": {},
   "outputs": [],
   "source": [
    "def EOQ(Annual_Demand, HC_Rate, Unit_Cost, Reorder_Cost):\n",
    "    Holding_Cost = HC_Rate * Unit_Cost\n",
    "    EOQ = np.sqrt((2*Annual_Demand*Reorder_Cost)/Holding_Cost)\n",
    "    return EOQ"
   ]
  },
  {
   "cell_type": "markdown",
   "metadata": {},
   "source": [
    "To call the function, we simply type the name with the desired argument values in parentheses (pay attention to the order). An example follows.\n",
    "\n",
    "[Back to Table of Contents](#Table of Contents)<br>"
   ]
  },
  {
   "cell_type": "code",
   "execution_count": 78,
   "metadata": {},
   "outputs": [
    {
     "data": {
      "text/plain": [
       "141.42135623730951"
      ]
     },
     "execution_count": 78,
     "metadata": {},
     "output_type": "execute_result"
    }
   ],
   "source": [
    "EOQ(1000,0.25,10,25)"
   ]
  },
  {
   "cell_type": "markdown",
   "metadata": {},
   "source": [
    "Of course, it is also possible to call the function using Python variables. As an example, see the following code block.\n",
    "\n",
    "[Back to Table of Contents](#Table of Contents)<br>"
   ]
  },
  {
   "cell_type": "code",
   "execution_count": 79,
   "metadata": {},
   "outputs": [
    {
     "data": {
      "text/plain": [
       "141.42135623730951"
      ]
     },
     "execution_count": 79,
     "metadata": {},
     "output_type": "execute_result"
    }
   ],
   "source": [
    "A = 1000\n",
    "i = 0.25\n",
    "UC = 10\n",
    "RC = 25\n",
    "\n",
    "EOQ(A,i,UC,RC)"
   ]
  },
  {
   "cell_type": "markdown",
   "metadata": {},
   "source": [
    "The next code block creates functions for the annual holding costs ($AHC$), annual reorder costs ($ARC$), total annual costs ($TAC$), and total relevant costs ($TRC$). A use example for each function is also provided.\n",
    "\n",
    "[Back to Table of Contents](#Table of Contents)<br>"
   ]
  },
  {
   "cell_type": "code",
   "execution_count": 80,
   "metadata": {},
   "outputs": [
    {
     "name": "stdout",
     "output_type": "stream",
     "text": [
      "Annual holding costs are $ 176.78\n",
      "Annual reorder costs are $ 176.78\n",
      "Total annual costs are $ 10353.55\n",
      "Total annual relevant costs are $ 353.55\n"
     ]
    }
   ],
   "source": [
    "def AHC(Q, HC_Rate, Unit_Cost):\n",
    "    AHC = HC_Rate * Unit_Cost * (Q/2)\n",
    "    return AHC\n",
    "\n",
    "def ARC(Q, Annual_Demand, Reorder_Cost):\n",
    "    ARC = (Annual_Demand/Q)*Reorder_Cost\n",
    "    return ARC\n",
    "\n",
    "def TAC(Q, HC_Rate, Unit_Cost, Annual_Demand, Reorder_Cost):\n",
    "    TAC = (Annual_Demand/Q)*Reorder_Cost + HC_Rate * Unit_Cost * (Q/2) + Unit_Cost * Annual_Demand\n",
    "    return TAC\n",
    "\n",
    "def TRC(Q, HC_Rate, Unit_Cost, Annual_Demand, Reorder_Cost):\n",
    "    TRC = (Annual_Demand/Q)*Reorder_Cost + HC_Rate * Unit_Cost * (Q/2)\n",
    "    return TRC\n",
    "\n",
    "A = 1000\n",
    "i = 0.25\n",
    "UC = 10\n",
    "RC = 25\n",
    "\n",
    "Q = EOQ(A,i,UC,RC)\n",
    "\n",
    "print(\"Annual holding costs are $\",'%.2f'%AHC(Q, i, UC))\n",
    "print(\"Annual reorder costs are $\",'%.2f'%ARC(Q, A, RC))\n",
    "print(\"Total annual costs are $\",'%.2f'%TAC(Q, i, UC, A, RC))\n",
    "print(\"Total annual relevant costs are $\",'%.2f'%TRC(Q, i, UC, A, RC))"
   ]
  },
  {
   "cell_type": "markdown",
   "metadata": {},
   "source": [
    "The following code block uses a loop to calculate the annual holding,  annual reorder, and total relevant costs for values of q that range from 50% to 200% of the $EOQ$. The costs are plotted and a horizontal line is drawn to show the location of the EOQ.\n",
    "\n",
    "[Back to Table of Contents](#Table of Contents)<br>"
   ]
  },
  {
   "cell_type": "code",
   "execution_count": 81,
   "metadata": {},
   "outputs": [
    {
     "data": {
      "image/png": "[encoded data removed]",
      "text/plain": [
       "<matplotlib.figure.Figure at 0x20a1654e128>"
      ]
     },
     "metadata": {},
     "output_type": "display_data"
    }
   ],
   "source": [
    "import matplotlib.pyplot as plt\n",
    "\n",
    "A = 1000\n",
    "i = 0.25\n",
    "UC = 10\n",
    "RC = 25\n",
    "\n",
    "q_star = EOQ(A,i,UC,RC)\n",
    "q_values=[]\n",
    "TRC_values=[]\n",
    "AHC_values=[]\n",
    "ARC_values=[]\n",
    "for q in range(int(q_star*0.50), int(q_star*2.0)):\n",
    "    q_values.append(q)\n",
    "    TRC_values.append(TRC(q, i, UC, A, RC))\n",
    "    AHC_values.append(AHC(q, i, UC))\n",
    "    ARC_values.append(ARC(q, A, RC))\n",
    "\n",
    "x = np.array(q_values)\n",
    "y1 = np.array(TRC_values)\n",
    "y2 = np.array(AHC_values)\n",
    "y3 = np.array(ARC_values)\n",
    "\n",
    "fig, ax = plt.subplots(figsize=(14,8))\n",
    "ax.plot(x,y1,'r',label=\"Total Relevant Costs\")\n",
    "ax.plot(x,y2,'b',label=\"Annual Holding Costs\")\n",
    "ax.plot(x,y3,'g',label=\"Annual Ordering Costs\")\n",
    "ax.axvline(q_star,label=r\"$EOQ$\")\n",
    "ax.set_title(\"Relevant Costs for EOQ Determination\",fontsize=25)\n",
    "ax.set_xlabel('Order Quantity',fontsize = 20)\n",
    "ax.set_ylabel('Cost',fontsize = 20)\n",
    "ax.xaxis.set_tick_params(labelsize=20)\n",
    "ax.yaxis.set_tick_params(labelsize=20)\n",
    "ax.legend(loc=1,fontsize=16)\n",
    "plt.show()"
   ]
  }
 ],
 "metadata": {
  "kernelspec": {
   "display_name": "Python 3",
   "language": "python",
   "name": "python3"
  },
  "language_info": {
   "codemirror_mode": {
    "name": "ipython",
    "version": 3
   },
   "file_extension": ".py",
   "mimetype": "text/x-python",
   "name": "python",
   "nbconvert_exporter": "python",
   "pygments_lexer": "ipython3",
   "version": "3.6.3"
  }
 },
 "nbformat": 4,
 "nbformat_minor": 2
}
